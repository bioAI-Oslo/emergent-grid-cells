{
 "cells": [
  {
   "cell_type": "markdown",
   "id": "be522a85-71a1-4918-a711-f493aefb26ad",
   "metadata": {
    "tags": []
   },
   "source": [
    "### Imports"
   ]
  },
  {
   "cell_type": "code",
   "execution_count": 1,
   "id": "996cfee3",
   "metadata": {
    "tags": []
   },
   "outputs": [],
   "source": [
    "%load_ext autoreload\n",
    "%autoreload 2\n",
    "#%matplotlib notebook\n",
    "%matplotlib inline"
   ]
  },
  {
   "cell_type": "code",
   "execution_count": 2,
   "id": "9f109164",
   "metadata": {
    "tags": []
   },
   "outputs": [],
   "source": [
    "# Computational packages\n",
    "import numpy as np\n",
    "import matplotlib.pyplot as plt\n",
    "import torch\n",
    "import tqdm\n",
    "\n",
    "# General packages\n",
    "import datetime\n",
    "import sys\n",
    "import os\n",
    "\n",
    "# custom packages\n",
    "import ratsimulator\n",
    "from ratsimulator.Environment import Rectangle\n",
    "import spatial_maps as sm # CINPLA spatial maps\n",
    "\n",
    "# avoid adding multiple relave paths to sys.path\n",
    "sys.path.append(\"../../src\") if \"../../src\" not in sys.path else None \n",
    "from PlaceCells import PlaceCells\n",
    "from Models import SorscherRNN\n",
    "from Experiment import Experiment\n",
    "from methods import *\n",
    "from datahandling import *"
   ]
  },
  {
   "cell_type": "markdown",
   "id": "22fb2b7a-33d6-499f-b899-7f249416b36d",
   "metadata": {},
   "source": [
    "### Setup Experiment"
   ]
  },
  {
   "cell_type": "code",
   "execution_count": 3,
   "id": "57ff00f3-81cd-4031-8e86-28d9955f6572",
   "metadata": {},
   "outputs": [
    {
     "name": "stdout",
     "output_type": "stream",
     "text": [
      "Experiment <100ME_large_batch_context> already EXISTS. Loading experiment settings!\n",
      "Loading experiment details\n",
      "This experiment has ALREADY been setup - SKIPPING.\n"
     ]
    },
    {
     "data": {
      "text/plain": [
       "False"
      ]
     },
     "execution_count": 3,
     "metadata": {},
     "output_type": "execute_result"
    }
   ],
   "source": [
    "base_path = \"/mnt/WD12TB-HDD\"\n",
    "experiment = Experiment(name = '100ME_large_batch_context', base_path = base_path)\n",
    "if experiment.is_new_experiment:\n",
    "    experiment.params['nepochs'] = 10000\n",
    "    experiment.params['batch_size'] = 1000\n",
    "    experiment.params['context_signal'] = True\n",
    "    \n",
    "    for i in range(1,100):\n",
    "        environments, agents, pc_ensembles = experiment.get_default_ecology(seed = i)\n",
    "        experiment.environments += environments\n",
    "        experiment.agents += agents\n",
    "        experiment.pc_ensembles += pc_ensembles\n",
    "\n",
    "experiment.setup()"
   ]
  },
  {
   "cell_type": "code",
   "execution_count": 4,
   "id": "530b5b7b-f788-45d5-a318-61e2cab433a2",
   "metadata": {},
   "outputs": [
    {
     "name": "stdout",
     "output_type": "stream",
     "text": [
      "device=device(type='cuda')\n"
     ]
    }
   ],
   "source": [
    "# detach experiment specifics\n",
    "params = experiment.params\n",
    "environments = experiment.environments\n",
    "agents = experiment.agents\n",
    "pc_ensembles = experiment.pc_ensembles\n",
    "paths = experiment.paths\n",
    "\n",
    "num_workers = 16\n",
    "device = torch.device('cuda' if torch.cuda.is_available() else 'cpu')\n",
    "print(f\"{device=}\")"
   ]
  },
  {
   "cell_type": "markdown",
   "id": "626330b4-f133-4ac8-bc0f-2c75b3ae70dd",
   "metadata": {},
   "source": [
    "### Initialise objects"
   ]
  },
  {
   "cell_type": "code",
   "execution_count": 5,
   "id": "2cff29f0-2cb5-4eb8-9ece-72a72fb91141",
   "metadata": {
    "tags": []
   },
   "outputs": [
    {
     "name": "stdout",
     "output_type": "stream",
     "text": [
      "model = SorscherRNN(\n",
      "  (init_position_encoder): Linear(in_features=612, out_features=4096, bias=False)\n",
      "  (RNN): RNN(2, 4096, bias=False, batch_first=True)\n",
      "  (decoder): Linear(in_features=4096, out_features=512, bias=False)\n",
      ")\n"
     ]
    }
   ],
   "source": [
    "# Initialise data loading\n",
    "num_samples = params['nsteps'] * params['batch_size'] # * params['nepochs']\n",
    "dataset = Dataset(agents = agents, pc_ensembles = pc_ensembles, num_samples = num_samples, context = params['context_signal'], **params)\n",
    "datasampler = eval(params['sampler'])(num_environments = len(environments), num_samples = num_samples, \\\n",
    "                                      num_epochs = params['nepochs'])\n",
    "dataloader = torch.utils.data.DataLoader(dataset, batch_size=params['batch_size'], sampler = datasampler, num_workers=num_workers)\n",
    "\n",
    "# Initialise model\n",
    "model = SorscherRNN(pc_ensembles, Ng=params['Ng'], Np=params['Np'], context = params['context_signal'])\n",
    "model.to(device)\n",
    "print(f\"{model = }\")\n",
    "\n",
    "# Initialise optimizer (use custom weight decay, rather than torch optim decay)\n",
    "optimizer = torch.optim.Adam(model.parameters(), lr=params['lr'], betas=(0.9, 0.999), \\\n",
    "                             eps=1e-08, weight_decay=0.0, amsgrad=False)"
   ]
  },
  {
   "cell_type": "markdown",
   "id": "56ee8580-f195-4621-a75c-6ad55e76a58d",
   "metadata": {},
   "source": [
    "### Train/Load Model"
   ]
  },
  {
   "cell_type": "code",
   "execution_count": 6,
   "id": "bad08929-98de-4862-adcb-460f5fb06c23",
   "metadata": {
    "tags": []
   },
   "outputs": [
    {
     "name": "stdout",
     "output_type": "stream",
     "text": [
      "Loading model at epoch = 01780\n",
      "Loaded weights\n"
     ]
    },
    {
     "name": "stderr",
     "output_type": "stream",
     "text": [
      "Epoch=9999/10000, loss(F,N)=6.2325, 0.0000, error(P,T)=0.5190,0.0413: 100%|█| 82\n"
     ]
    }
   ],
   "source": [
    "logger = None\n",
    "checkpoint_filenames = filenames(paths['checkpoints'])\n",
    "\n",
    "if checkpoint_filenames:\n",
    "    # load model latest (wrt. #epochs trained)\n",
    "    print(f\"Loading model at epoch = {checkpoint_filenames[-1]}\")\n",
    "    checkpoint = torch.load(paths['checkpoints'] / checkpoint_filenames[-1])\n",
    "    model.load_state_dict(checkpoint['model_state_dict'])\n",
    "    optimizer.load_state_dict(checkpoint['optimizer_state_dict'])\n",
    "    with open(paths[\"experiment\"] / \"logger.pkl\", \"rb\") as f:\n",
    "        logger = pickle.load(f)\n",
    "    print(\"Loaded weights\")\n",
    "    \n",
    "    if isinstance(datasampler, CLSampler):\n",
    "        datasampler.epoch_counter = len(loss_history)\n",
    "    \n",
    "# whether to train\n",
    "if train:=True:\n",
    "    logger = model.train(trainloader = dataloader, optimizer = optimizer, weight_decay=params['weight_decay'], \\\n",
    "                               nepochs=params['nepochs'], save_freq=params['save_freq'], paths=paths, logger=logger)\n",
    "    # (re*)load checkpoint strs and latest checkpoint\n",
    "    checkpoint_filenames = filenames(paths['checkpoints'])\n",
    "    checkpoint = torch.load(paths['checkpoints'] / checkpoint_filenames[-1])"
   ]
  },
  {
   "cell_type": "markdown",
   "id": "90a35a08-d3f8-40a0-9be7-ddc9b010f8c4",
   "metadata": {},
   "source": [
    "## **Analyse Model**\n",
    "### Training history"
   ]
  },
  {
   "cell_type": "code",
   "execution_count": 9,
   "id": "9b4dd377-770d-4347-b54b-703b24a03183",
   "metadata": {},
   "outputs": [
    {
     "name": "stdout",
     "output_type": "stream",
     "text": [
      "Maximum Entropy possible: 6.2383246250395095\n"
     ]
    },
    {
     "data": {
      "image/png": "[encoded data removed]",
      "text/plain": [
       "<Figure size 4032x576 with 7 Axes>"
      ]
     },
     "metadata": {
      "needs_background": "light"
     },
     "output_type": "display_data"
    }
   ],
   "source": [
    "fig, ax = plt.subplots(ncols=len(logger.training_metrics['familiar']) + 1,figsize=(8*7,8))\n",
    "ax[0].plot(logger.loss_history['familiar'], label='familiar')\n",
    "ax[0].plot(logger.training_metrics['familiar']['entropy'], label='optima')\n",
    "ax[0].set_title('Total-loss history')\n",
    "ax[0].legend()\n",
    "\n",
    "for env_type in [\"familiar\"]:\n",
    "    for i,(key,value) in enumerate(logger.training_metrics[env_type].items()):\n",
    "        ax[i+1].plot(value, label=env_type)\n",
    "        ax[i+1].set_title(key)\n",
    "        if key == 'KL':\n",
    "            ax[i+1].axhline(0,ls=\":\")\n",
    "        if key == 'pred_error':\n",
    "            ax[i+1].axhline(np.mean(logger.training_metrics[env_type]['true_error']),ls=\":\")\n",
    "        if key == 'CE':\n",
    "            ax[i+1].plot(logger.training_metrics[env_type]['entropy'], label='optima')\n",
    "        ax[i+1].legend()\n",
    "\n",
    "plt.tight_layout()\n",
    "\n",
    "# maximum labelled distribution entropy (uniform labelled distribution)\n",
    "n = 512\n",
    "px = np.ones(n) / n # uniform\n",
    "entropy = lambda x: -np.sum(x * np.log(x))\n",
    "print(f\"Maximum Entropy possible: {entropy(px)}\")"
   ]
  },
  {
   "cell_type": "markdown",
   "id": "083d7c36-c6fe-40ff-9747-fb9103e84fbe",
   "metadata": {},
   "source": [
    "### Create ratemaps"
   ]
  },
  {
   "cell_type": "code",
   "execution_count": 10,
   "id": "3a51a812-6e9c-42c3-890c-27c7d28339e9",
   "metadata": {},
   "outputs": [
    {
     "name": "stdout",
     "output_type": "stream",
     "text": [
      "Creating ratemaps for environment_idx = 1/100\n",
      "Creating ratemaps for environment_idx = 2/100\n",
      "Creating ratemaps for environment_idx = 3/100\n",
      "Creating ratemaps for environment_idx = 4/100\n",
      "Creating ratemaps for environment_idx = 5/100\n",
      "Creating ratemaps for environment_idx = 6/100\n",
      "Creating ratemaps for environment_idx = 7/100\n",
      "Creating ratemaps for environment_idx = 8/100\n",
      "Creating ratemaps for environment_idx = 9/100\n",
      "Creating ratemaps for environment_idx = 10/100\n",
      "Creating ratemaps for environment_idx = 11/100\n",
      "Creating ratemaps for environment_idx = 12/100\n",
      "Creating ratemaps for environment_idx = 13/100\n",
      "Creating ratemaps for environment_idx = 14/100\n",
      "Creating ratemaps for environment_idx = 15/100\n",
      "Creating ratemaps for environment_idx = 16/100\n",
      "Creating ratemaps for environment_idx = 17/100\n",
      "Creating ratemaps for environment_idx = 18/100\n",
      "Creating ratemaps for environment_idx = 19/100\n",
      "Creating ratemaps for environment_idx = 20/100\n",
      "Creating ratemaps for environment_idx = 21/100\n",
      "Creating ratemaps for environment_idx = 22/100\n",
      "Creating ratemaps for environment_idx = 23/100\n",
      "Creating ratemaps for environment_idx = 24/100\n",
      "Creating ratemaps for environment_idx = 25/100\n",
      "Creating ratemaps for environment_idx = 26/100\n",
      "Creating ratemaps for environment_idx = 27/100\n",
      "Creating ratemaps for environment_idx = 28/100\n",
      "Creating ratemaps for environment_idx = 29/100\n",
      "Creating ratemaps for environment_idx = 30/100\n",
      "Creating ratemaps for environment_idx = 31/100\n",
      "Creating ratemaps for environment_idx = 32/100\n",
      "Creating ratemaps for environment_idx = 33/100\n",
      "Creating ratemaps for environment_idx = 34/100\n",
      "Creating ratemaps for environment_idx = 35/100\n",
      "Creating ratemaps for environment_idx = 36/100\n",
      "Creating ratemaps for environment_idx = 37/100\n",
      "Creating ratemaps for environment_idx = 38/100\n",
      "Creating ratemaps for environment_idx = 39/100\n",
      "Creating ratemaps for environment_idx = 40/100\n",
      "Creating ratemaps for environment_idx = 41/100\n",
      "Creating ratemaps for environment_idx = 42/100\n",
      "Creating ratemaps for environment_idx = 43/100\n",
      "Creating ratemaps for environment_idx = 44/100\n",
      "Creating ratemaps for environment_idx = 45/100\n",
      "Creating ratemaps for environment_idx = 46/100\n",
      "Creating ratemaps for environment_idx = 47/100\n",
      "Creating ratemaps for environment_idx = 48/100\n",
      "Creating ratemaps for environment_idx = 49/100\n",
      "Creating ratemaps for environment_idx = 50/100\n",
      "Creating ratemaps for environment_idx = 51/100\n",
      "Creating ratemaps for environment_idx = 52/100\n",
      "Creating ratemaps for environment_idx = 53/100\n",
      "Creating ratemaps for environment_idx = 54/100\n",
      "Creating ratemaps for environment_idx = 55/100\n",
      "Creating ratemaps for environment_idx = 56/100\n",
      "Creating ratemaps for environment_idx = 57/100\n",
      "Creating ratemaps for environment_idx = 58/100\n",
      "Creating ratemaps for environment_idx = 59/100\n",
      "Creating ratemaps for environment_idx = 60/100\n",
      "Creating ratemaps for environment_idx = 61/100\n",
      "Creating ratemaps for environment_idx = 62/100\n",
      "Creating ratemaps for environment_idx = 63/100\n",
      "Creating ratemaps for environment_idx = 64/100\n",
      "Creating ratemaps for environment_idx = 65/100\n",
      "Creating ratemaps for environment_idx = 66/100\n",
      "Creating ratemaps for environment_idx = 67/100\n",
      "Creating ratemaps for environment_idx = 68/100\n",
      "Creating ratemaps for environment_idx = 69/100\n",
      "Creating ratemaps for environment_idx = 70/100\n",
      "Creating ratemaps for environment_idx = 71/100\n",
      "Creating ratemaps for environment_idx = 72/100\n",
      "Creating ratemaps for environment_idx = 73/100\n",
      "Creating ratemaps for environment_idx = 74/100\n",
      "Creating ratemaps for environment_idx = 75/100\n",
      "Creating ratemaps for environment_idx = 76/100\n",
      "Creating ratemaps for environment_idx = 77/100\n"
     ]
    },
    {
     "name": "stderr",
     "output_type": "stream",
     "text": [
      "  3%|█▏                                        | 24/829 [01:00<33:48,  2.52s/it]\n"
     ]
    },
    {
     "ename": "KeyboardInterrupt",
     "evalue": "",
     "output_type": "error",
     "traceback": [
      "\u001b[0;31m---------------------------------------------------------------------------\u001b[0m",
      "\u001b[0;31mKeyboardInterrupt\u001b[0m                         Traceback (most recent call last)",
      "\u001b[0;32m/tmp/ipykernel_10191/4105068122.py\u001b[0m in \u001b[0;36m<module>\u001b[0;34m\u001b[0m\n\u001b[1;32m     46\u001b[0m     \u001b[0mepoch_ratemaps_env_path\u001b[0m \u001b[0;34m=\u001b[0m \u001b[0mpaths\u001b[0m\u001b[0;34m[\u001b[0m\u001b[0;34m\"ratemaps\"\u001b[0m\u001b[0;34m]\u001b[0m \u001b[0;34m/\u001b[0m \u001b[0;34mf\"env_{env_i}\"\u001b[0m\u001b[0;34m\u001b[0m\u001b[0;34m\u001b[0m\u001b[0m\n\u001b[1;32m     47\u001b[0m     \u001b[0;31m# loop all saved model weights - and create ratemaps\u001b[0m\u001b[0;34m\u001b[0m\u001b[0;34m\u001b[0m\u001b[0m\n\u001b[0;32m---> 48\u001b[0;31m     ratemaps_all_checkpoints(missing_ratemaps_filenames,\\\n\u001b[0m\u001b[1;32m     49\u001b[0m                              \u001b[0mepoch_ratemaps_env_path\u001b[0m\u001b[0;34m,\u001b[0m\u001b[0;31m\\\u001b[0m\u001b[0;34m\u001b[0m\u001b[0;34m\u001b[0m\u001b[0m\n\u001b[1;32m     50\u001b[0m                              \u001b[0mbatch_inputs\u001b[0m\u001b[0;31m\\\u001b[0m\u001b[0;34m\u001b[0m\u001b[0;34m\u001b[0m\u001b[0m\n",
      "\u001b[0;32m/tmp/ipykernel_10191/4105068122.py\u001b[0m in \u001b[0;36mratemaps_all_checkpoints\u001b[0;34m(missing_ratemaps_filenames, epoch_ratemaps_env_path, batch_inputs, x, y)\u001b[0m\n\u001b[1;32m     23\u001b[0m         \u001b[0mactivities\u001b[0m \u001b[0;34m=\u001b[0m \u001b[0mmodel\u001b[0m\u001b[0;34m.\u001b[0m\u001b[0mg\u001b[0m\u001b[0;34m(\u001b[0m\u001b[0mbatch_inputs\u001b[0m\u001b[0;34m)\u001b[0m\u001b[0;34m.\u001b[0m\u001b[0mdetach\u001b[0m\u001b[0;34m(\u001b[0m\u001b[0;34m)\u001b[0m\u001b[0;34m.\u001b[0m\u001b[0mcpu\u001b[0m\u001b[0;34m(\u001b[0m\u001b[0;34m)\u001b[0m\u001b[0;34m.\u001b[0m\u001b[0mnumpy\u001b[0m\u001b[0;34m(\u001b[0m\u001b[0;34m)\u001b[0m\u001b[0;34m\u001b[0m\u001b[0;34m\u001b[0m\u001b[0m\n\u001b[1;32m     24\u001b[0m         \u001b[0mactivities\u001b[0m \u001b[0;34m=\u001b[0m \u001b[0mactivities\u001b[0m\u001b[0;34m.\u001b[0m\u001b[0mreshape\u001b[0m\u001b[0;34m(\u001b[0m\u001b[0;34m-\u001b[0m\u001b[0;36m1\u001b[0m\u001b[0;34m,\u001b[0m \u001b[0mactivities\u001b[0m\u001b[0;34m.\u001b[0m\u001b[0mshape\u001b[0m\u001b[0;34m[\u001b[0m\u001b[0;34m-\u001b[0m\u001b[0;36m1\u001b[0m\u001b[0;34m]\u001b[0m\u001b[0;34m)\u001b[0m\u001b[0;34m.\u001b[0m\u001b[0mT\u001b[0m\u001b[0;34m\u001b[0m\u001b[0;34m\u001b[0m\u001b[0m\n\u001b[0;32m---> 25\u001b[0;31m         \u001b[0mratemaps\u001b[0m \u001b[0;34m=\u001b[0m \u001b[0mscipy\u001b[0m\u001b[0;34m.\u001b[0m\u001b[0mstats\u001b[0m\u001b[0;34m.\u001b[0m\u001b[0mbinned_statistic_2d\u001b[0m\u001b[0;34m(\u001b[0m\u001b[0mx\u001b[0m\u001b[0;34m,\u001b[0m \u001b[0my\u001b[0m\u001b[0;34m,\u001b[0m \u001b[0mactivities\u001b[0m\u001b[0;34m,\u001b[0m \u001b[0mbins\u001b[0m\u001b[0;34m=\u001b[0m\u001b[0mres\u001b[0m\u001b[0;34m)\u001b[0m\u001b[0;34m[\u001b[0m\u001b[0;36m0\u001b[0m\u001b[0;34m]\u001b[0m\u001b[0;34m\u001b[0m\u001b[0;34m\u001b[0m\u001b[0m\n\u001b[0m\u001b[1;32m     26\u001b[0m \u001b[0;34m\u001b[0m\u001b[0m\n\u001b[1;32m     27\u001b[0m         \u001b[0;31m# save ratemaps\u001b[0m\u001b[0;34m\u001b[0m\u001b[0;34m\u001b[0m\u001b[0m\n",
      "\u001b[0;32m~/anaconda3/envs/ml/lib/python3.9/site-packages/scipy/stats/_binned_statistic.py\u001b[0m in \u001b[0;36mbinned_statistic_2d\u001b[0;34m(x, y, values, statistic, bins, range, expand_binnumbers)\u001b[0m\n\u001b[1;32m    347\u001b[0m         \u001b[0mbins\u001b[0m \u001b[0;34m=\u001b[0m \u001b[0;34m[\u001b[0m\u001b[0mxedges\u001b[0m\u001b[0;34m,\u001b[0m \u001b[0myedges\u001b[0m\u001b[0;34m]\u001b[0m\u001b[0;34m\u001b[0m\u001b[0;34m\u001b[0m\u001b[0m\n\u001b[1;32m    348\u001b[0m \u001b[0;34m\u001b[0m\u001b[0m\n\u001b[0;32m--> 349\u001b[0;31m     medians, edges, binnumbers = binned_statistic_dd(\n\u001b[0m\u001b[1;32m    350\u001b[0m         \u001b[0;34m[\u001b[0m\u001b[0mx\u001b[0m\u001b[0;34m,\u001b[0m \u001b[0my\u001b[0m\u001b[0;34m]\u001b[0m\u001b[0;34m,\u001b[0m \u001b[0mvalues\u001b[0m\u001b[0;34m,\u001b[0m \u001b[0mstatistic\u001b[0m\u001b[0;34m,\u001b[0m \u001b[0mbins\u001b[0m\u001b[0;34m,\u001b[0m \u001b[0mrange\u001b[0m\u001b[0;34m,\u001b[0m\u001b[0;34m\u001b[0m\u001b[0;34m\u001b[0m\u001b[0m\n\u001b[1;32m    351\u001b[0m         expand_binnumbers=expand_binnumbers)\n",
      "\u001b[0;32m~/anaconda3/envs/ml/lib/python3.9/site-packages/scipy/stats/_binned_statistic.py\u001b[0m in \u001b[0;36mbinned_statistic_dd\u001b[0;34m(sample, values, statistic, bins, range, expand_binnumbers, binned_statistic_result)\u001b[0m\n\u001b[1;32m    581\u001b[0m         \u001b[0ma\u001b[0m \u001b[0;34m=\u001b[0m \u001b[0mflatcount\u001b[0m\u001b[0;34m.\u001b[0m\u001b[0mnonzero\u001b[0m\u001b[0;34m(\u001b[0m\u001b[0;34m)\u001b[0m\u001b[0;34m\u001b[0m\u001b[0;34m\u001b[0m\u001b[0m\n\u001b[1;32m    582\u001b[0m         \u001b[0;32mfor\u001b[0m \u001b[0mvv\u001b[0m \u001b[0;32min\u001b[0m \u001b[0mbuiltins\u001b[0m\u001b[0;34m.\u001b[0m\u001b[0mrange\u001b[0m\u001b[0;34m(\u001b[0m\u001b[0mVdim\u001b[0m\u001b[0;34m)\u001b[0m\u001b[0;34m:\u001b[0m\u001b[0;34m\u001b[0m\u001b[0;34m\u001b[0m\u001b[0m\n\u001b[0;32m--> 583\u001b[0;31m             \u001b[0mflatsum\u001b[0m \u001b[0;34m=\u001b[0m \u001b[0mnp\u001b[0m\u001b[0;34m.\u001b[0m\u001b[0mbincount\u001b[0m\u001b[0;34m(\u001b[0m\u001b[0mbinnumbers\u001b[0m\u001b[0;34m,\u001b[0m \u001b[0mvalues\u001b[0m\u001b[0;34m[\u001b[0m\u001b[0mvv\u001b[0m\u001b[0;34m]\u001b[0m\u001b[0;34m)\u001b[0m\u001b[0;34m\u001b[0m\u001b[0;34m\u001b[0m\u001b[0m\n\u001b[0m\u001b[1;32m    584\u001b[0m             \u001b[0mresult\u001b[0m\u001b[0;34m[\u001b[0m\u001b[0mvv\u001b[0m\u001b[0;34m,\u001b[0m \u001b[0ma\u001b[0m\u001b[0;34m]\u001b[0m \u001b[0;34m=\u001b[0m \u001b[0mflatsum\u001b[0m\u001b[0;34m[\u001b[0m\u001b[0ma\u001b[0m\u001b[0;34m]\u001b[0m \u001b[0;34m/\u001b[0m \u001b[0mflatcount\u001b[0m\u001b[0;34m[\u001b[0m\u001b[0ma\u001b[0m\u001b[0;34m]\u001b[0m\u001b[0;34m\u001b[0m\u001b[0;34m\u001b[0m\u001b[0m\n\u001b[1;32m    585\u001b[0m     \u001b[0;32melif\u001b[0m \u001b[0mstatistic\u001b[0m \u001b[0;34m==\u001b[0m \u001b[0;34m'std'\u001b[0m\u001b[0;34m:\u001b[0m\u001b[0;34m\u001b[0m\u001b[0;34m\u001b[0m\u001b[0m\n",
      "\u001b[0;32m~/anaconda3/envs/ml/lib/python3.9/site-packages/numpy/core/overrides.py\u001b[0m in \u001b[0;36mbincount\u001b[0;34m(*args, **kwargs)\u001b[0m\n",
      "\u001b[0;31mKeyboardInterrupt\u001b[0m: "
     ]
    }
   ],
   "source": [
    "def ratemap_trajectories(dataset, environment_idx, num_trajectories=1500):\n",
    "    \"\"\"Generate trajectories to compute ratemaps with (scipy.stats.binned_statistics_2d)\"\"\"\n",
    "    batch_velocities, batch_init_pc_positions, batch_positions = [], [], []\n",
    "    for _ in range(num_trajectories):\n",
    "        (velocities, init_pc_positions), _, positions, _ = dataset[environment_idx]\n",
    "        batch_velocities.append(velocities)\n",
    "        batch_init_pc_positions.append(init_pc_positions)\n",
    "        batch_positions.append(positions)\n",
    "    batch_inputs = [torch.stack(batch_velocities), torch.stack(batch_init_pc_positions)]\n",
    "    batch_positions = torch.stack(batch_positions).detach().numpy()\n",
    "    x = np.ravel(batch_positions[:,1:,0])\n",
    "    y = np.ravel(batch_positions[:,1:,1])\n",
    "    return batch_inputs, x, y\n",
    "\n",
    "def ratemaps_all_checkpoints(missing_ratemaps_filenames, epoch_ratemaps_env_path, batch_inputs, x, y):\n",
    "    # loop all saved model weights - and create ratemaps\n",
    "    for checkpoint_epoch in tqdm.tqdm(missing_ratemaps_filenames):\n",
    "        epoch_ratemaps_path = epoch_ratemaps_env_path / (checkpoint_epoch + \".pkl\")\n",
    "        \n",
    "        # load model weights, forward (to g) and compute ratemaps\n",
    "        checkpoint = torch.load(paths['checkpoints'] / checkpoint_epoch)\n",
    "        model.load_state_dict(checkpoint['model_state_dict'])\n",
    "        activities = model.g(batch_inputs).detach().cpu().numpy()\n",
    "        activities = activities.reshape(-1, activities.shape[-1]).T\n",
    "        ratemaps = scipy.stats.binned_statistic_2d(x, y, activities, bins=res)[0]\n",
    "        \n",
    "        # save ratemaps\n",
    "        with open(epoch_ratemaps_path, \"wb\") as f:\n",
    "            pickle.dump(ratemaps,f)\n",
    "\n",
    "# mec_idxs = slice(0, params['Ng'], 1)\n",
    "res = np.array([32, 32])\n",
    "for env_i in range(len(environments)):\n",
    "    print(f\"Creating ratemaps for environment_idx = {env_i+1}/{len(environments)}\")\n",
    "    # create list of missing ratemaps - to be created\n",
    "    ratemaps_filenames = filenames(paths[\"ratemaps\"] / f\"env_{env_i}\")\n",
    "    ratemaps_filenames = [ratemaps_filename.split('.')[0] for ratemaps_filename in ratemaps_filenames]\n",
    "    missing_ratemaps_filenames = list(set(checkpoint_filenames) - set(ratemaps_filenames))\n",
    "    missing_ratemaps_filenames.sort()\n",
    "    if not missing_ratemaps_filenames:\n",
    "        continue\n",
    "    \n",
    "    # generate trajectories to compute ratemaps for\n",
    "    batch_inputs, x, y = ratemap_trajectories(dataset, environment_idx=env_i, num_trajectories=1500)\n",
    "    \n",
    "    epoch_ratemaps_env_path = paths[\"ratemaps\"] / f\"env_{env_i}\"\n",
    "    # loop all saved model weights - and create ratemaps\n",
    "    ratemaps_all_checkpoints(missing_ratemaps_filenames,\\\n",
    "                             epoch_ratemaps_env_path,\\\n",
    "                             batch_inputs\\\n",
    "                             , x, y)"
   ]
  },
  {
   "cell_type": "markdown",
   "id": "ced28740-867e-43e8-9f75-3031d9cd227b",
   "metadata": {},
   "source": [
    "### Create ratemaps for novel environment"
   ]
  },
  {
   "cell_type": "code",
   "execution_count": null,
   "id": "90c3a0b8-31db-4ac6-b22e-f8ef97cb40d6",
   "metadata": {},
   "outputs": [],
   "source": [
    "novel_environments, novel_agents, novel_pc_ensembles = Experiment.get_default_ecology(seed = 23031994)\n",
    "novel_dataset = Dataset(agents = novel_agents, pc_ensembles = novel_pc_ensembles, num_samples = num_samples, **params)\n",
    "\n",
    "print(f\"Creating ratemaps for novel environment_idx = 1/1\")\n",
    "# create list of missing ratemaps - to be created\n",
    "epoch_ratemaps_env_path = paths[\"ratemaps\"] / \"env_novel\"\n",
    "if not epoch_ratemaps_env_path.exists():\n",
    "    os.makedirs(epoch_ratemaps_env_path)\n",
    "ratemaps_filenames = filenames(paths[\"ratemaps\"] / \"env_novel\")\n",
    "ratemaps_filenames = [ratemaps_filename.split('.')[0] for ratemaps_filename in ratemaps_filenames]\n",
    "missing_ratemaps_filenames = list(set(checkpoint_filenames) - set(ratemaps_filenames))\n",
    "missing_ratemaps_filenames.sort()\n",
    "\n",
    "if missing_ratemaps_filenames:\n",
    "    # generate trajectories to compute ratemaps for\n",
    "    batch_inputs, x, y = ratemap_trajectories(dataset, environment_idx=0, num_trajectories=1500)\n",
    "    # loop all saved model weights - and create ratemaps\n",
    "    ratemaps_all_checkpoints(missing_ratemaps_filenames,\\\n",
    "                             epoch_ratemaps_env_path,\\\n",
    "                             batch_inputs,\\\n",
    "                             x, y)"
   ]
  },
  {
   "cell_type": "markdown",
   "id": "7561c600-522c-4111-8981-149ae1edd6e7",
   "metadata": {},
   "source": [
    "### Load ratemaps"
   ]
  },
  {
   "cell_type": "code",
   "execution_count": null,
   "id": "073e21eb-f4f1-44b8-afba-0207d9da97ae",
   "metadata": {},
   "outputs": [],
   "source": [
    "env_i = 0\n",
    "latest_ratemaps_path = paths[\"ratemaps\"] / f\"env_{env_i}\" / (checkpoint_filenames[-1] + \".pkl\")\n",
    "with open(latest_ratemaps_path, \"rb\") as f:\n",
    "    ratemaps = pickle.load(f)\n",
    "print(\"Loaded ratemaps\")"
   ]
  },
  {
   "cell_type": "markdown",
   "id": "49b8b772-08dc-4bc6-9ba7-8e2ec9ff4c17",
   "metadata": {},
   "source": [
    "### Example ratemaps (unsorted)"
   ]
  },
  {
   "cell_type": "code",
   "execution_count": null,
   "id": "53afa647-437b-443f-ad26-b21e672f2d03",
   "metadata": {},
   "outputs": [],
   "source": [
    "start_idx = 256*1\n",
    "num_ratemaps = 256\n",
    "fig, ax = multiimshow(ratemaps[start_idx:start_idx+num_ratemaps])"
   ]
  },
  {
   "cell_type": "markdown",
   "id": "4f55dccd-4149-4007-beb5-9a489cc13090",
   "metadata": {},
   "source": [
    "### Grid score ratemaps (only last model checkpoint)"
   ]
  },
  {
   "cell_type": "code",
   "execution_count": null,
   "id": "8224284b-0616-4c46-8693-34323490a47d",
   "metadata": {},
   "outputs": [],
   "source": [
    "def score_ratemaps(ratemaps, environment, env_name):\n",
    "    # if grid scores have already been calculate and saved to disk, load these (FAST!)\n",
    "    score_map_path = paths[\"grid_scores\"] / (checkpoint_filenames[-1] + env_name + \".pkl\")\n",
    "    if os.path.exists(score_map_path):\n",
    "        print(os.path.split(score_map_path)[-1], \"already exists. Loading score map.\")\n",
    "        with open(score_map_path, \"rb\") as f:\n",
    "            score_map = pickle.load(f)\n",
    "        return score_map\n",
    "    \n",
    "    # BANINO (and Sorscher) grid scoring method\n",
    "    from scores import GridScorer\n",
    "    res = np.array([32,32])\n",
    "    starts = [0.2] * 10\n",
    "    ends = np.linspace(0.4, 1.0, num=10)\n",
    "    box_width, box_height = environment.boxsize\n",
    "    coord_range=((environment.origo[0], box_width), (environment.origo[0], box_height))\n",
    "    coords_range=((-box_width/2, box_width/2), (-box_height/2, box_height/2))\n",
    "    mask_parameters = zip(starts, ends.tolist())\n",
    "    scorer = GridScorer(nbins=res[0], coords_range=coords_range, mask_parameters=mask_parameters)\n",
    "\n",
    "    # score ratemaps (Could use NUMBA for faster computations?)\n",
    "    score_map = np.zeros(params['Ng']) # ratemap score lookup table\n",
    "    for i in tqdm.trange(params['Ng']):\n",
    "        # interpolated_ratemap = interpolate_missing_pixels(ratemaps[i], np.isnan(ratemaps[i]))\n",
    "        # score_map[i] = sm.gridness(interpolated_ratemap)\n",
    "        score_60, score_90, max_60_mask, max_90_mask, sac = scorer.get_scores(ratemaps[i])\n",
    "        score_map[i] = score_60\n",
    "\n",
    "    with open(score_map_path, \"wb\") as f:\n",
    "        pickle.dump(score_map,f)\n",
    "    return score_map\n",
    "\n",
    "# create scores for all ratemaps across all environments\n",
    "for env_i in range(len(environments)):\n",
    "    print(f\"Calculating grid score for the ratemaps of environment={env_i+1}/{len(environments)}\")\n",
    "    latest_ratemaps_path_env_i = paths[\"ratemaps\"] / f\"env_{env_i}\" / (checkpoint_filenames[-1] + \".pkl\")\n",
    "    with open(latest_ratemaps_path_env_i, \"rb\") as f:\n",
    "        ratemaps_env_i = pickle.load(f)\n",
    "    score_map = score_ratemaps(ratemaps_env_i, environments[env_i], f\"_env_{env_i}\")\n",
    "# create scores for all ratemaps of novel environment\n",
    "print(f\"Calculating grid score for novel environment\")\n",
    "with open(paths[\"ratemaps\"] / \"env_novel\" / (checkpoint_filenames[-1] + \".pkl\"), \"rb\") as f:\n",
    "    ratemaps_env_novel = pickle.load(f)\n",
    "score_map_env_novel = score_ratemaps(ratemaps_env_novel, novel_environments[0], \"_env_novel\")\n",
    "\n",
    "# choose score map\n",
    "env_i = 0\n",
    "score_map = score_ratemaps(ratemaps, environments[env_i], f\"_env_{env_i}\")\n",
    "\n",
    "# sort scores and ratemaps\n",
    "sort_idxs = np.argsort(score_map)[::-1]\n",
    "sorted_scores = score_map[sort_idxs]"
   ]
  },
  {
   "cell_type": "markdown",
   "id": "c730d0a1-1840-4d05-a317-edbaa306196c",
   "metadata": {},
   "source": [
    "### Example ratemaps (sorted)"
   ]
  },
  {
   "cell_type": "code",
   "execution_count": null,
   "id": "af5ac0f6-29cc-4b3a-a56f-3ce230f16685",
   "metadata": {},
   "outputs": [],
   "source": [
    "start_idx = 0\n",
    "num_ratemaps = 2**6\n",
    "fig, axs = multiimshow(ratemaps[sort_idxs][start_idx:start_idx+num_ratemaps], titles=sort_idxs[start_idx:start_idx+num_ratemaps])\n",
    "fig.suptitle(f\"gc_score = {sorted_scores[start_idx]} -- {sorted_scores[start_idx+num_ratemaps]}\", fontsize=16)"
   ]
  },
  {
   "cell_type": "markdown",
   "id": "eb9e51f5-a124-4dd4-ad9d-c54a553845e5",
   "metadata": {},
   "source": [
    "### Create grid cell ratemap dynamics (grid cell emergence video)"
   ]
  },
  {
   "cell_type": "code",
   "execution_count": null,
   "id": "fc73e6bb-dc03-419f-9aa5-56c51c5a4914",
   "metadata": {},
   "outputs": [],
   "source": [
    "from dynamics import RatemapDynamics\n",
    "for env_i in range(len(environments)):\n",
    "    print(f\"Creating grid dynamics for the ratemaps of environment={env_i+1}/{len(environments)}\")\n",
    "    \n",
    "    # concatenating ratemaps\n",
    "    ratemap_dynamics = []\n",
    "    print(\"Loading ratemaps\")\n",
    "    for checkpoint_epoch in tqdm.tqdm(checkpoint_filenames):\n",
    "        with open(paths[\"ratemaps\"] / f\"env_{env_i}\" / (checkpoint_epoch + \".pkl\"), \"rb\") as f:\n",
    "            # load and sort ratemaps wrt. grid score\n",
    "            ratemap_dynamics.append(pickle.load(f)[sort_idxs])\n",
    "    ratemap_dynamics = np.stack(ratemap_dynamics, axis=0)\n",
    "    \n",
    "    # creating videos from ratemaps\n",
    "    num_gc_in_video = 64\n",
    "    num_videos = params['Ng'] // num_gc_in_video\n",
    "    print(\"Creating videos\")\n",
    "    for gcs_i in tqdm.trange(0, num_videos):\n",
    "        idxs = slice(gcs_i * num_gc_in_video, (gcs_i + 1) * num_gc_in_video)\n",
    "        if os.path.exists(paths[\"dynamics\"] / f\"env_{env_i}\" / f'{idxs.start}-{idxs.stop - 1}.mp4'):\n",
    "            continue\n",
    "        ratemap_video = RatemapDynamics(ratemap_dynamics[:,idxs], sorted_scores[idxs], sort_idxs[idxs], epochs = checkpoint_filenames)\n",
    "        ratemap_video.animation.save(paths[\"dynamics\"] / f\"env_{env_i}\" / f'{idxs.start}-{idxs.stop - 1}.mp4')"
   ]
  },
  {
   "cell_type": "markdown",
   "id": "897a7f22-e27d-4971-8115-1132ebf9f568",
   "metadata": {},
   "source": [
    "### Predicted place Cells (with(out) SOFTMAX)"
   ]
  },
  {
   "cell_type": "code",
   "execution_count": null,
   "id": "5909fbd0-c6e8-47e6-aadd-46c3607fe07f",
   "metadata": {},
   "outputs": [],
   "source": [
    "\"\"\"\n",
    "forward_with_softmax = lambda x: torch.exp(model(x, log_softmax=True))\n",
    "ratemaps = compute_ratemaps(model=model, dataset=dataset, num_trajectories=1250, res=res, idxs=idxs)[0]\n",
    "fig, ax = multiimshow(ratemaps)\n",
    "\"\"\""
   ]
  },
  {
   "cell_type": "code",
   "execution_count": null,
   "id": "adfd1d49-da3f-4566-bdaa-d4e1b86d8dc7",
   "metadata": {},
   "outputs": [],
   "source": [
    "model.prune_mask = list(range(int(4096/2),4096)) # set prune mask\n",
    "model.prune_mask = [] # reset prune mask\n",
    "model.prune_mask"
   ]
  },
  {
   "cell_type": "code",
   "execution_count": null,
   "id": "d860630b-994e-4cd1-be6a-60d62aaaed95",
   "metadata": {},
   "outputs": [],
   "source": [
    "idxs=slice(0, 16**2, 1)\n",
    "res=np.array([32, 32])\n",
    "ratemaps = compute_ratemaps(model=model.g, dataset=dataset, num_trajectories=1250, res=res, idxs=idxs)[0]\n",
    "fig, ax = multiimshow(ratemaps)"
   ]
  },
  {
   "cell_type": "markdown",
   "id": "9a40c4a6-f727-4fd7-928c-a583c08ea080",
   "metadata": {},
   "source": [
    "### Decoding labels and predictions to cartesian"
   ]
  },
  {
   "cell_type": "code",
   "execution_count": null,
   "id": "737f3b6b-92cc-412c-b038-11bb8e02cbbc",
   "metadata": {},
   "outputs": [],
   "source": [
    "environment_idx = 0\n",
    "[[vel, init_pos], labels, positions, index] = dataset[environment_idx]\n",
    "true_cartesian_pos = positions\n",
    "true_decoded_pos = pc_ensembles[environment_idx].to_euclid(torch.cat([init_pos[None], labels]))\n",
    "pc_preds = model([vel, init_pos]).detach().cpu()[0]\n",
    "predicted_decoded_pos = pc_ensembles[environment_idx].to_euclid(torch.cat([init_pos[None], pc_preds]))"
   ]
  },
  {
   "cell_type": "code",
   "execution_count": null,
   "id": "888cd951-d0ca-47f7-93df-a48bd4cd6a21",
   "metadata": {},
   "outputs": [],
   "source": [
    "fig, ax = plt.subplots()\n",
    "ax.plot(*true_cartesian_pos.T, label='true_cartesian_pos')\n",
    "ax.plot(*true_decoded_pos.T, label='true_decoded_pos')\n",
    "ax.plot(*predicted_decoded_pos.T, label='predicted_decoded_pos', ls=':')\n",
    "environments[environment_idx].plot_board(ax)\n",
    "ax.legend()"
   ]
  },
  {
   "cell_type": "markdown",
   "id": "f961bd5c-05ce-4ec0-9e89-9845243e38cb",
   "metadata": {},
   "source": [
    "### Plot all place cell centers and some with tuning curves"
   ]
  },
  {
   "cell_type": "code",
   "execution_count": null,
   "id": "08c0284b-16f7-401d-af6a-1e042e2b4cf2",
   "metadata": {},
   "outputs": [],
   "source": [
    "fig, ax = plt.subplots()\n",
    "x,y = pc_ensembles[environment_idx].pcs.T\n",
    "\n",
    "ax.plot(x, y, \"+\")\n",
    "# add standard deviation circles to locations\n",
    "for i in range(5):\n",
    "    ax.plot(x[i], y[i], \"r+\")\n",
    "    a_circle = plt.Circle((x[i], y[i]), pc_ensembles[0].pc_width, fill=False, color=(1, 0, 0, 0.5))\n",
    "    ax.add_artist(a_circle)\n",
    "\n",
    "plt.title(\"Spatial plot of place cell locations\")\n",
    "plt.xlabel(\"X\")\n",
    "plt.ylabel(\"Y\")\n",
    "plt.show()"
   ]
  },
  {
   "cell_type": "markdown",
   "id": "69ba8623-47eb-424d-95b9-6d80d79de68c",
   "metadata": {},
   "source": [
    "### Calculate grid scores using different implementations of the metric"
   ]
  },
  {
   "cell_type": "code",
   "execution_count": null,
   "id": "c20675fc-dc2e-4ff7-87c1-5bff46d83dd0",
   "metadata": {},
   "outputs": [],
   "source": [
    "# Custom grid score\n",
    "print(\"CUSTOM:\", grid_score(ratemaps[1])) \n",
    "\n",
    "# CINPLA grid score\n",
    "import spatial_maps as sm\n",
    "print(\"CINPLA:\", sm.gridness(ratemaps[1])) \n",
    "\n",
    "# BANINO (and Sorscher) grid scoring\n",
    "from scores import GridScorer\n",
    "\"\"\"\n",
    "One difference from custom and CINPLA grid scores: \n",
    "1. Uses average difference between phase60 and phase30 correlations\n",
    "\"\"\"\n",
    "starts = [0.2] * 10\n",
    "ends = np.linspace(0.4, 1.0, num=10)\n",
    "coord_range=((0, environment.boxsize[0]), (0, environment.boxsize[1]))\n",
    "box_width, box_height = 2.2, 2.2\n",
    "coords_range=((-box_width/2, box_width/2), (-box_height/2, box_height/2))\n",
    "mask_parameters = zip(starts, ends.tolist())\n",
    "scorer = GridScorer(nbins=res[0], coords_range=coords_range, mask_parameters=mask_parameters)\n",
    "\n",
    "#score_60, score_90, max_60_mask, max_90_mask, sac, max_60_ind = zip(\n",
    "#      *[scorer.get_scores(rm.reshape(res, res)) for rm in tqdm(rate_map_lores)])\n",
    "score_60, score_90, max_60_mask, max_90_mask, sac = scorer.get_scores(ratemaps[1])\n",
    "print(\"BANINO/SORSCHER:\", score_60)"
   ]
  },
  {
   "cell_type": "code",
   "execution_count": null,
   "id": "d80105ea-8683-4c30-a027-e0c958c4bfa4",
   "metadata": {},
   "outputs": [],
   "source": [
    "# choose grid scoring function to use, e.g: grid_score, sm.gridness or scorer.get_scores\n",
    "# for scorer.get_scores use: < (lambda rm: scorer.get_scores(rm)[0])(rate_map) >\n",
    "grid_scoring_fn = lambda rate_map: sm.gridness(rate_map)\n",
    "\n",
    "#map(grid_scoring_fn, *ratemaps)\n",
    "grid_scoring_fn(ratemaps[1])"
   ]
  },
  {
   "cell_type": "markdown",
   "id": "de3cbc7d-5feb-4d5e-acdb-99c88f14b1fe",
   "metadata": {},
   "source": [
    "### Small analysis / checks / tests etc"
   ]
  },
  {
   "cell_type": "code",
   "execution_count": null,
   "id": "211373b1-2a56-49ea-b6c3-4ab5de3a088c",
   "metadata": {},
   "outputs": [],
   "source": [
    "# Wr = model.recurrence.weight.detach().cpu().numpy()\n",
    "Wr = model.RNN.weight_hh_l0.detach().cpu().numpy()\n",
    "stats = lambda W : print(f\"{np.min(W)=}, {np.max(W)=}, {np.min(abs(W))=}, {np.mean(W)=}, {np.std(W)=}, {np.sum(W**2)=}\")\n",
    "stats(Wr)\n",
    "plt.imshow(Wr[:25,:25])\n",
    "plt.colorbar()"
   ]
  },
  {
   "cell_type": "code",
   "execution_count": null,
   "id": "a44ae245-f59f-4ee6-b3c3-6f5b8ab29a25",
   "metadata": {},
   "outputs": [],
   "source": [
    "Wp = model.init_position_encoder.weight.detach().cpu().numpy()\n",
    "stats(Wp)\n",
    "plt.imshow(Wp)\n",
    "plt.colorbar()"
   ]
  },
  {
   "cell_type": "code",
   "execution_count": null,
   "id": "6afd4981-2870-4fca-a590-ae8b55792942",
   "metadata": {},
   "outputs": [],
   "source": []
  }
 ],
 "metadata": {
  "kernelspec": {
   "display_name": "Python [conda env:ml]",
   "language": "python",
   "name": "conda-env-ml-py"
  },
  "language_info": {
   "codemirror_mode": {
    "name": "ipython",
    "version": 3
   },
   "file_extension": ".py",
   "mimetype": "text/x-python",
   "name": "python",
   "nbconvert_exporter": "python",
   "pygments_lexer": "ipython3",
   "version": "3.9.9"
  }
 },
 "nbformat": 4,
 "nbformat_minor": 5
}
