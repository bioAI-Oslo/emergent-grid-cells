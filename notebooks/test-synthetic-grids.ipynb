{
 "cells": [
  {
   "cell_type": "markdown",
   "id": "b658befc-513e-4661-b5bf-6112e7065908",
   "metadata": {},
   "source": [
    "Importing relevant packages and modules"
   ]
  },
  {
   "cell_type": "code",
   "execution_count": 1,
   "id": "2480af7b-9569-48db-960a-b5c8cc94d065",
   "metadata": {},
   "outputs": [],
   "source": [
    "%load_ext autoreload\n",
    "%autoreload 2\n",
    "#%matplotlib notebook\n",
    "%matplotlib inline"
   ]
  },
  {
   "cell_type": "code",
   "execution_count": 2,
   "id": "d0704a08-5f45-41a2-be2f-c2c2f2d761e6",
   "metadata": {},
   "outputs": [],
   "source": [
    "import sys\n",
    "from pathlib import Path\n",
    "\n",
    "# Plotting\n",
    "import numpy as np\n",
    "import matplotlib\n",
    "from matplotlib import pyplot as plt\n",
    "plt.style.use('../bioAI.mplstyle')\n",
    "\n",
    "'''\n",
    "CUSTOM PACKAGES\n",
    "'''\n",
    "# avoid adding multiple relave paths to sys.path\n",
    "sys.path.append(\"../src\") if \"../src\" not in sys.path else None\n",
    "\n",
    "from stats import *\n",
    "from plotting_functions import *\n",
    "from synthetic_grid_cells import *\n",
    "import spatial_maps as sm"
   ]
  },
  {
   "cell_type": "code",
   "execution_count": 32,
   "id": "fdb5968f-3392-49e4-a23e-0630f4fc1b02",
   "metadata": {},
   "outputs": [],
   "source": [
    "nx,ny = 2.2,2.2 # board size\n",
    "boxsize=(nx,ny)\n",
    "\n",
    "# initialize board\n",
    "xx, yy = np.meshgrid(\n",
    "    np.linspace(-nx/2, nx/2, 64),\n",
    "    np.linspace(-ny/2, ny/2, 64),\n",
    ")\n",
    "board = np.stack([xx, yy], axis=-1)\n",
    "#board = np.reshape(board,(-1,2))\n",
    "#board = np.reshape(board, (64,64,2))\n",
    "\n",
    "# set grid module parameters\n",
    "f = 1/0.75\n",
    "# because of matrix coordinates, y-axis is flipped, which is recovered by negative orientation\n",
    "orientation_offset = -20\n",
    "center = np.zeros(2)\n",
    "ncells=315"
   ]
  },
  {
   "cell_type": "code",
   "execution_count": null,
   "id": "91f3e744-b2a5-4332-9119-608a2f9c56e1",
   "metadata": {},
   "outputs": [],
   "source": []
  },
  {
   "cell_type": "code",
   "execution_count": 33,
   "id": "8c596808-ccd7-43af-a939-a26ba4db0c45",
   "metadata": {},
   "outputs": [
    {
     "data": {
      "text/plain": [
       "<matplotlib.image.AxesImage at 0x7f7c2f180dc0>"
      ]
     },
     "execution_count": 33,
     "metadata": {},
     "output_type": "execute_result"
    },
    {
     "data": {
      "image/png": "[encoded data removed]",
      "text/plain": [
       "<Figure size 432x288 with 3 Axes>"
      ]
     },
     "metadata": {
      "needs_background": "light"
     },
     "output_type": "display_data"
    }
   ],
   "source": [
    "fig,axs = plt.subplots(ncols=3)\n",
    "axs[0].imshow(board[...,0])\n",
    "axs[1].imshow(board[...,1])\n",
    "axs[2].imshow(np.sum(board,axis=-1))"
   ]
  },
  {
   "cell_type": "code",
   "execution_count": 5,
   "id": "db99934a-343f-421d-93a9-ecfde150e411",
   "metadata": {},
   "outputs": [],
   "source": [
    "gridmodule = GridModule(center,orientation_offset,f,non_negative=True)\n",
    "#phases = gridmodule.inner_hexagon.sample(ncells)\n",
    "phases = np.array([[0,0.4]])\n",
    "gridmodule.init_module(phases)"
   ]
  },
  {
   "cell_type": "code",
   "execution_count": 6,
   "id": "8d9918fc-c132-4888-856c-7314f5cf9573",
   "metadata": {},
   "outputs": [
    {
     "data": {
      "text/plain": [
       "(1, 64, 64)"
      ]
     },
     "execution_count": 6,
     "metadata": {},
     "output_type": "execute_result"
    }
   ],
   "source": [
    "ratemaps = gridmodule(board)\n",
    "ratemaps.shape"
   ]
  },
  {
   "cell_type": "code",
   "execution_count": 7,
   "id": "2eb66b81-77d4-4e56-81b2-b9a185af8268",
   "metadata": {},
   "outputs": [
    {
     "data": {
      "text/plain": [
       "Text(32.0, 32.0, 't')"
      ]
     },
     "execution_count": 7,
     "metadata": {},
     "output_type": "execute_result"
    },
    {
     "data": {
      "image/png": "[encoded data removed]",
      "text/plain": [
       "<Figure size 432x288 with 1 Axes>"
      ]
     },
     "metadata": {
      "needs_background": "light"
     },
     "output_type": "display_data"
    }
   ],
   "source": [
    "plt.imshow(ratemaps[0].T,origin='lower')\n",
    "plt.text(*np.array(board.shape[:2])/2,'t',horizontalalignment='center',verticalalignment='center')"
   ]
  },
  {
   "cell_type": "code",
   "execution_count": 19,
   "id": "fde26b85-0e55-4ba3-83a8-0ea5cb17d8cd",
   "metadata": {},
   "outputs": [
    {
     "data": {
      "text/plain": [
       "(43, 32)"
      ]
     },
     "execution_count": 19,
     "metadata": {},
     "output_type": "execute_result"
    }
   ],
   "source": [
    "# find_peaks() actually finds peaks in CARDINAL COORDINATES\n",
    "peak = sm.find_peaks(ratemaps[0])[0]\n",
    "peak = tuple(peak)\n",
    "#peak = tuple(peak[::-1])\n",
    "peak"
   ]
  },
  {
   "cell_type": "code",
   "execution_count": 18,
   "id": "eb692389-c1e4-4372-b019-42afb8ddc825",
   "metadata": {},
   "outputs": [
    {
     "data": {
      "text/plain": [
       "Text(43, 32, 't')"
      ]
     },
     "execution_count": 18,
     "metadata": {},
     "output_type": "execute_result"
    },
    {
     "data": {
      "image/png": "[encoded data removed]",
      "text/plain": [
       "<Figure size 432x288 with 1 Axes>"
      ]
     },
     "metadata": {
      "needs_background": "light"
     },
     "output_type": "display_data"
    }
   ],
   "source": [
    "plt.imshow(ratemaps[0].T,origin='lower')\n",
    "plt.text(*peak,'t',horizontalalignment='center',verticalalignment='center')"
   ]
  },
  {
   "cell_type": "code",
   "execution_count": null,
   "id": "096ad6ec-3242-481b-befa-d80c94db3fe9",
   "metadata": {},
   "outputs": [],
   "source": []
  }
 ],
 "metadata": {
  "kernelspec": {
   "display_name": "Python [conda env:ml]",
   "language": "python",
   "name": "conda-env-ml-py"
  },
  "language_info": {
   "codemirror_mode": {
    "name": "ipython",
    "version": 3
   },
   "file_extension": ".py",
   "mimetype": "text/x-python",
   "name": "python",
   "nbconvert_exporter": "python",
   "pygments_lexer": "ipython3",
   "version": "3.9.9"
  }
 },
 "nbformat": 4,
 "nbformat_minor": 5
}
