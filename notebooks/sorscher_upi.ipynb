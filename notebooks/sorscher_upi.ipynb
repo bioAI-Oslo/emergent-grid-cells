{
 "cells": [
  {
   "cell_type": "code",
   "execution_count": 1,
   "id": "996cfee3",
   "metadata": {
    "tags": []
   },
   "outputs": [],
   "source": [
    "%load_ext autoreload\n",
    "%autoreload 2\n",
    "#%matplotlib notebook\n",
    "%matplotlib inline"
   ]
  },
  {
   "cell_type": "code",
   "execution_count": 2,
   "id": "9f109164",
   "metadata": {
    "tags": []
   },
   "outputs": [],
   "source": [
    "import numpy as np\n",
    "import matplotlib.pyplot as plt\n",
    "import torch\n",
    "\n",
    "# custom packages\n",
    "from ratsimulator import Agent, trajectory_generator, batch_trajectory_generator\n",
    "from ratsimulator.Environment import Rectangle\n",
    "\n",
    "import sys\n",
    "# avoid adding multiple relave paths to sys.path\n",
    "sys.path.append(\"../src\") if \"../src\" not in sys.path else None \n",
    "\n",
    "from Brain import Brain\n",
    "from Models import UnitPathIntegrator\n",
    "from methods import *"
   ]
  },
  {
   "cell_type": "markdown",
   "id": "55dd0493",
   "metadata": {},
   "source": [
    "### Set parameters and initialise"
   ]
  },
  {
   "cell_type": "code",
   "execution_count": 3,
   "id": "62ccac93-1919-4ab0-b6a0-af08f0ea8a91",
   "metadata": {},
   "outputs": [],
   "source": [
    "\"\"\"\n",
    "# Sorscher params\n",
    "options.save_dir = '/mnt/fs2/bsorsch/grid_cells/models/'\n",
    "options.n_steps = 100000      # number of training steps\n",
    "options.batch_size = 200      # number of trajectories per batch\n",
    "options.sequence_length = 20  # number of steps in trajectory\n",
    "options.learning_rate = 1e-4  # gradient descent learning rate\n",
    "options.Np = 512              # number of place cells\n",
    "options.Ng = 4096             # number of grid cells\n",
    "options.place_cell_rf = 0.12  # width of place cell center tuning curve (m)\n",
    "options.surround_scale = 2    # if DoG, ratio of sigma2^2 to sigma1^2\n",
    "options.RNN_type = 'RNN'      # RNN or LSTM\n",
    "options.activation = 'relu'   # recurrent nonlinearity\n",
    "options.weight_decay = 1e-4   # strength of weight decay on recurrent weights\n",
    "options.DoG = True            # use difference of gaussians tuning curves\n",
    "options.periodic = False      # trajectories with periodic boundary conditions\n",
    "options.box_width = 2.2       # width of training environment\n",
    "options.box_height = 2.2      # height of training environment\n",
    "\"\"\"\n",
    "\n",
    "params = {}\n",
    "# Environment params\n",
    "params['boxsize'] = (2.2, 2.2)\n",
    "params['origo'] = (0,0)\n",
    "params['soft_boundary'] = 0.2\n",
    "# Brain params\n",
    "params['npcs'] = 512 # as used in Sorscher model\n",
    "params['pc_sigma'] = 0.12\n",
    "params['DoG'] = True\n",
    "# Training data (Agent) params\n",
    "params['batch_size'] = 64\n",
    "params['seq_len'] = 1\n",
    "params['angle0'] = None # random\n",
    "params['p0'] = None     # random\n",
    "# Agent/random walk parameters\n",
    "params['dt'] = 0.02\n",
    "params['turn_sigma'] = 5.76 * 2\n",
    "params['b'] = 0.13 * 2 * np.pi\n",
    "params['mu'] = 0\n",
    "# Model params\n",
    "params['Ng'] = 4096\n",
    "params['Np'] = params['npcs'] # defined for Brain already\n",
    "params['weight_decay'] = 1e-4\n",
    "params['lr'] = 1e-4# 1e-3 is default for Adam()\n",
    "params['nsteps'] = 100 # number of mini batches in an epoch\n",
    "params['nepochs'] = 10000 # number of epochs\n",
    "\n",
    "# stuff\n",
    "params['tag'] = 'default_sorscher'\n",
    "params['save_model'] = True \n",
    "params['save_freq'] = 1\n",
    "\n",
    "num_workers = 16\n",
    "device = torch.device('cuda' if torch.cuda.is_available() else 'cpu')"
   ]
  },
  {
   "cell_type": "code",
   "execution_count": 4,
   "id": "2cff29f0-2cb5-4eb8-9ece-72a72fb91141",
   "metadata": {},
   "outputs": [
    {
     "name": "stdout",
     "output_type": "stream",
     "text": [
      "Singular matrix\n",
      "Singular matrix\n",
      "UnitPathIntegrator(\n",
      "  (velocity_encoder): Linear(in_features=2, out_features=4096, bias=False)\n",
      "  (init_position_encoder): Linear(in_features=512, out_features=4096, bias=False)\n",
      "  (recurrence): Linear(in_features=4096, out_features=4096, bias=False)\n",
      "  (decoder): Linear(in_features=4096, out_features=512, bias=False)\n",
      ")\n"
     ]
    }
   ],
   "source": [
    "# Init Environment\n",
    "env = Rectangle(boxsize=params['boxsize'], soft_boundary=params['soft_boundary'])\n",
    "params['environment'] = type(env).__name__\n",
    "# Init brain\n",
    "brain = Brain(env, params['npcs'], params['pc_sigma'])\n",
    "# Init training data\n",
    "dataset = Dataset(brain=brain, batch_size=params['batch_size'], nsteps=params['nsteps'], \\\n",
    "                  environment=env, seq_len=params['seq_len'], angle0=params['angle0'], \\\n",
    "                  p0=params['p0'], dt=params['dt'], sigma=params['turn_sigma'], b=params['b'], \\\n",
    "                  mu=params['mu'])\n",
    "dataloader = torch.utils.data.DataLoader(dataset, batch_size=params['batch_size'], num_workers=num_workers)\n",
    "# Init model\n",
    "model = UnitPathIntegrator(params['Ng'],params['Np'])\n",
    "model.to(device)\n",
    "print(model)\n",
    "# Init optimizer (use custom weight decay, rather than torch optim decay)\n",
    "optimizer = torch.optim.Adam(model.parameters(), lr=params['lr'], betas=(0.9, 0.999), \\\n",
    "                             eps=1e-08, weight_decay=0.0, amsgrad=False)"
   ]
  },
  {
   "cell_type": "markdown",
   "id": "56ee8580-f195-4621-a75c-6ad55e76a58d",
   "metadata": {},
   "source": [
    "### Train Model"
   ]
  },
  {
   "cell_type": "code",
   "execution_count": null,
   "id": "bad08929-98de-4862-adcb-460f5fb06c23",
   "metadata": {
    "tags": []
   },
   "outputs": [
    {
     "name": "stderr",
     "output_type": "stream",
     "text": [
      "Epoch=52/10000, loss=5.252010984420776:   1%|▍                                                                                    | 51/10000 [02:08<6:50:13,  2.47s/it]"
     ]
    }
   ],
   "source": [
    "checkpoint_path = '../checkpoints/'\n",
    "loss_history = []\n",
    "\n",
    "if loaded_model:=True:\n",
    "    model_name = type(model).__name__\n",
    "    checkpoints = torch.load(f'{checkpoint_path}{model_name}_{params[\"tag\"]}')\n",
    "    model.load_state_dict(checkpoints['model_state_dict'])\n",
    "    optimizer.load_state_dict(checkpoints['optimizer_state_dict'])\n",
    "    loss_history = checkpoints['loss_history']\n",
    "    print(\"Loaded weights\")\n",
    "    \n",
    "# whether to train\n",
    "if train:=True:\n",
    "    model.train(trainloader = dataloader, optimizer = optimizer, weight_decay=params['weight_decay'], \\\n",
    "                nepochs=params['nepochs'], device = device, loaded_model = loaded_model, \\\n",
    "                save_model = params['save_model'], save_freq = params['save_freq'], \\\n",
    "                loss_history = loss_history, tag = params['tag'], params = params)"
   ]
  },
  {
   "cell_type": "markdown",
   "id": "0231ee7b-82b5-4406-955a-370282991dbf",
   "metadata": {},
   "source": [
    "## OBS OBS! Its actually not markovian (1step).. It needs two steps! Because we do not have POSE we only have POSITION initialization"
   ]
  },
  {
   "cell_type": "markdown",
   "id": "8a76d39f-894b-4e6f-97f0-925028c82125",
   "metadata": {},
   "source": [
    "### Analyse Model"
   ]
  },
  {
   "cell_type": "code",
   "execution_count": null,
   "id": "3ccbc1f2-4e1b-4ee8-87f0-1c53b50bdb9f",
   "metadata": {},
   "outputs": [],
   "source": [
    "fig, ax = plt.subplots()\n",
    "x,y = brain.pcs.T\n",
    "\n",
    "ax.plot(x, y, \"+\")\n",
    "# add standard deviation circles to locations\n",
    "for i in range(5):\n",
    "    ax.plot(x[i], y[i], \"r+\")\n",
    "    a_circle = plt.Circle((x[i], y[i]), 2 * pc_sigma, fill=False, color=(1, 0, 0, 0.5))\n",
    "    ax.add_artist(a_circle)\n",
    "\n",
    "plt.title(\"Spatial plot of place cell locations\")\n",
    "plt.xlabel(\"X\")\n",
    "plt.ylabel(\"Y\")\n",
    "plt.show()"
   ]
  },
  {
   "cell_type": "code",
   "execution_count": null,
   "id": "7b15f097-76d6-40f3-ace4-1e6a9b491a0f",
   "metadata": {},
   "outputs": [],
   "source": [
    "# Initialise response maps and create discrete arena\n",
    "res = 32\n",
    "res_dx, res_dy = (boxsize[0] - origo[0]) / res, (boxsize[1] - origo[1]) / res\n",
    "xx, yy = np.meshgrid(np.linspace(origo[0], boxsize[0] - res_dx, res), \\\n",
    "                     np.linspace(origo[1], boxsize[0] - res_dy, res))\n",
    "arena = np.stack([xx, yy], axis=-1)\n",
    "\n",
    "num_response_maps = 64\n",
    "response_maps = np.zeros((num_response_maps, res, res))\n",
    "idxs = slice(0,64*64,64)"
   ]
  },
  {
   "cell_type": "code",
   "execution_count": null,
   "id": "8b33bb44-487d-4d66-b5ff-b4900b5047ab",
   "metadata": {},
   "outputs": [],
   "source": [
    "# Calculate grid cell responses\n",
    "for n in range(num_samples:=5):\n",
    "    # sample 'same' positions multiple times - possibly at different head directions\n",
    "    angle0 = None # None implies random sampled head direction\n",
    "    for i in range(arena.shape[0]):\n",
    "        for j in range(arena.shape[1]):\n",
    "            p0 = np.random.uniform(low=arena[i,j],high=arena[i,j] + np.array([res_dx, res_dy]))\n",
    "            p0 = p0[None] # p0 needs shape=(1,2)\n",
    "            # reinitialise pytorch dataset generator\n",
    "            tg = trajectory_generator(environment=env, seq_len=seq_len, angle0=angle0, p0=p0)\n",
    "            dataset.tg = tg\n",
    "            # sample data from generator\n",
    "            inputs, labels = dataset[0]\n",
    "            inputs[0] = inputs[0].to(device)\n",
    "            inputs[1] = inputs[1].to(device)\n",
    "            grid_cells_response = model.g(inputs)\n",
    "            response_maps[:,i,j] += grid_cells_response[idxs].detach().cpu().numpy()\n",
    "response_maps = response_maps / n"
   ]
  },
  {
   "cell_type": "code",
   "execution_count": null,
   "id": "aeb8d0c0-13fe-402c-b95e-bcbf45d3caa5",
   "metadata": {},
   "outputs": [],
   "source": [
    "# Plot\n",
    "ncells = int(np.sqrt(num_response_maps))\n",
    "fig, ax = plt.subplots(figsize=(10,10),nrows=ncells, ncols=ncells, squeeze=False)\n",
    "\n",
    "# plot response maps using contourf\n",
    "for k in range(num_response_maps):\n",
    "    ax[k // ncells, k % ncells].axis(\"off\")\n",
    "    # ax[int(k / ncells), k % ncells].set_aspect('equal')\n",
    "    ax[k // ncells, k % ncells].contourf(\n",
    "        arena[..., 0], arena[..., 1], response_maps[k], cmap=\"jet\"\n",
    "    )"
   ]
  },
  {
   "cell_type": "code",
   "execution_count": null,
   "id": "537ab355-e1ab-4757-b15c-ae1e7f5ffe7f",
   "metadata": {},
   "outputs": [],
   "source": [
    "(vel, init_pos), labels = dataset[0]\n",
    "vel.shape, init_pos.shape, labels.shape"
   ]
  },
  {
   "cell_type": "markdown",
   "id": "22d90c7c-3423-43d9-9d38-7d380c4a3b2e",
   "metadata": {},
   "source": [
    "### Strange Sorscher loss point to no path integration learning?"
   ]
  },
  {
   "cell_type": "code",
   "execution_count": null,
   "id": "b6e18ab3-e0e1-4589-85a8-754a62c8c5bc",
   "metadata": {},
   "outputs": [],
   "source": [
    "uniform_vec = np.ones(512) / 512\n",
    "entropy = lambda x: - np.sum(x * np.log(x))\n",
    "entropy(uniform_vec)\n",
    "\n",
    "print(f\"{entropy(uniform_vec)=} of uniform vector of same length as sorscher place cell vectors\")\n",
    "print(f\"{entropy(init_pos.detach().cpu().numpy())=} of partially trained sorscher model with l2 reg\")\n",
    "print(test)"
   ]
  },
  {
   "cell_type": "code",
   "execution_count": null,
   "id": "1f43b83d-3e47-49ef-8eaf-e3d41952965f",
   "metadata": {},
   "outputs": [],
   "source": [
    "(vel, init_pos), labels"
   ]
  },
  {
   "cell_type": "code",
   "execution_count": null,
   "id": "b43401fa-db5e-422a-b0bf-65fce83eaee2",
   "metadata": {},
   "outputs": [],
   "source": []
  }
 ],
 "metadata": {
  "kernelspec": {
   "display_name": "Python 3 (ipykernel)",
   "language": "python",
   "name": "python3"
  },
  "language_info": {
   "codemirror_mode": {
    "name": "ipython",
    "version": 3
   },
   "file_extension": ".py",
   "mimetype": "text/x-python",
   "name": "python",
   "nbconvert_exporter": "python",
   "pygments_lexer": "ipython3",
   "version": "3.9.6"
  }
 },
 "nbformat": 4,
 "nbformat_minor": 5
}
