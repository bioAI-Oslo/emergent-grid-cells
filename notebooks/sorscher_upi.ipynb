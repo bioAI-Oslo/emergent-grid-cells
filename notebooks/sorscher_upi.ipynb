{
 "cells": [
  {
   "cell_type": "code",
   "execution_count": 1,
   "id": "996cfee3",
   "metadata": {
    "tags": []
   },
   "outputs": [],
   "source": [
    "%load_ext autoreload\n",
    "%autoreload 2\n",
    "#%matplotlib notebook\n",
    "%matplotlib inline"
   ]
  },
  {
   "cell_type": "code",
   "execution_count": 2,
   "id": "9f109164",
   "metadata": {
    "tags": []
   },
   "outputs": [],
   "source": [
    "import numpy as np\n",
    "import matplotlib.pyplot as plt\n",
    "import torch\n",
    "\n",
    "# custom packages\n",
    "from ratsimulator import Agent, trajectory_generator, batch_trajectory_generator\n",
    "from ratsimulator.Environment import Rectangle\n",
    "\n",
    "import sys\n",
    "sys.path.append(\"../src\") if \"../src\" not in sys.path else None # avoid adding multiple relave paths to sys.path\n",
    "\n",
    "from Brain import Brain\n",
    "from Models import UnitPathIntegrator\n",
    "from methods import *"
   ]
  },
  {
   "cell_type": "markdown",
   "id": "55dd0493",
   "metadata": {},
   "source": [
    "### Set parameters and initialise"
   ]
  },
  {
   "cell_type": "code",
   "execution_count": 3,
   "id": "bb6011c5",
   "metadata": {
    "tags": []
   },
   "outputs": [],
   "source": [
    "\"\"\"\n",
    "# Sorscher params\n",
    "options.save_dir = '/mnt/fs2/bsorsch/grid_cells/models/'\n",
    "options.n_steps = 100000      # number of training steps\n",
    "options.batch_size = 200      # number of trajectories per batch\n",
    "options.sequence_length = 20  # number of steps in trajectory\n",
    "options.learning_rate = 1e-4  # gradient descent learning rate\n",
    "options.Np = 512              # number of place cells\n",
    "options.Ng = 4096             # number of grid cells\n",
    "options.place_cell_rf = 0.12  # width of place cell center tuning curve (m)\n",
    "options.surround_scale = 2    # if DoG, ratio of sigma2^2 to sigma1^2\n",
    "options.RNN_type = 'RNN'      # RNN or LSTM\n",
    "options.activation = 'relu'   # recurrent nonlinearity\n",
    "options.weight_decay = 1e-4   # strength of weight decay on recurrent weights\n",
    "options.DoG = True            # use difference of gaussians tuning curves\n",
    "options.periodic = False      # trajectories with periodic boundary conditions\n",
    "options.box_width = 2.2       # width of training environment\n",
    "options.box_height = 2.2      # height of training environment\n",
    "\"\"\"\n",
    "\n",
    "# Environment params\n",
    "boxsize = (2.2, 2.2)\n",
    "origo = (0,0)\n",
    "soft_boundary = 0.2\n",
    "# Brain params\n",
    "npcs = 512 # as used in Sorscher model\n",
    "sigma = 0.12\n",
    "# Training data (Agent) params\n",
    "batch_size = 64\n",
    "seq_len = 1\n",
    "angle0 = None # random\n",
    "p0 = None     # random\n",
    "# Agent/random walk parameters\n",
    "dt = 0.02\n",
    "sigma = 5.76 * 2\n",
    "b = 0.13 * 2 * np.pi\n",
    "mu = 0\n",
    "# Model params\n",
    "Ng=4096\n",
    "Np=npcs # defined for Brain already\n",
    "weight_decay=1e-4\n",
    "lr=1e-4 # 1e-3 is default for Adam()\n",
    "\n",
    "# can also select cuda:0 or cuda:1 f.eks when multiple gpus\n",
    "device = torch.device(\"cuda\" if torch.cuda.is_available() else \"cpu\") \n",
    "nsteps = 100 # number of mini batches in an epoch\n",
    "num_workers = 16 # number of workers to load data (in parallel)"
   ]
  },
  {
   "cell_type": "code",
   "execution_count": 4,
   "id": "2cff29f0-2cb5-4eb8-9ece-72a72fb91141",
   "metadata": {},
   "outputs": [
    {
     "name": "stdout",
     "output_type": "stream",
     "text": [
      "Singular matrix\n",
      "Singular matrix\n"
     ]
    },
    {
     "data": {
      "text/plain": [
       "UnitPathIntegrator(\n",
       "  (velocity_encoder): Linear(in_features=2, out_features=4096, bias=False)\n",
       "  (init_position_encoder): Linear(in_features=512, out_features=4096, bias=False)\n",
       "  (recurrence): Linear(in_features=4096, out_features=4096, bias=False)\n",
       "  (decoder): Linear(in_features=4096, out_features=512, bias=False)\n",
       ")"
      ]
     },
     "execution_count": 4,
     "metadata": {},
     "output_type": "execute_result"
    }
   ],
   "source": [
    "# Init Environment\n",
    "env = Rectangle(boxsize=boxsize, soft_boundary=soft_boundary)\n",
    "# Init brain\n",
    "brain = Brain(env, npcs, sigma)\n",
    "# Init training data\n",
    "dataset = Dataset(brain=brain, batch_size=batch_size, nsteps=nsteps, environment=env, seq_len=seq_len, \\\n",
    "                  angle0=angle0, p0=p0, dt=dt, sigma=sigma, b=b, mu=mu)\n",
    "dataloader = torch.utils.data.DataLoader(dataset,  batch_size=batch_size, num_workers=num_workers)\n",
    "# Init model\n",
    "model = UnitPathIntegrator(Ng,Np)\n",
    "model.to(device)"
   ]
  },
  {
   "cell_type": "code",
   "execution_count": 10,
   "id": "bad08929-98de-4862-adcb-460f5fb06c23",
   "metadata": {},
   "outputs": [
    {
     "name": "stderr",
     "output_type": "stream",
     "text": [
      "Epoch=10, loss=6.238444905281067: 100%|█████████| 10/10 [00:18<00:00,  1.82s/it]\n"
     ]
    }
   ],
   "source": [
    "optimizer = torch.optim.Adam(model.parameters(), lr=lr, betas=(0.9, 0.999), eps=1e-08, weight_decay=weight_decay, amsgrad=False)\n",
    "model.train(trainloader=dataloader, optimizer = optimizer, weight_decay=weight_decay, nepochs=10, device=device)"
   ]
  },
  {
   "cell_type": "code",
   "execution_count": 11,
   "id": "060f3d66-d186-45f0-a133-a915fe55cf54",
   "metadata": {},
   "outputs": [
    {
     "data": {
      "text/plain": [
       "UnitPathIntegrator(\n",
       "  (velocity_encoder): Linear(in_features=2, out_features=4096, bias=False)\n",
       "  (init_position_encoder): Linear(in_features=512, out_features=4096, bias=False)\n",
       "  (recurrence): Linear(in_features=4096, out_features=4096, bias=False)\n",
       "  (decoder): Linear(in_features=4096, out_features=512, bias=False)\n",
       ")"
      ]
     },
     "execution_count": 11,
     "metadata": {},
     "output_type": "execute_result"
    }
   ],
   "source": [
    "model"
   ]
  },
  {
   "cell_type": "code",
   "execution_count": 35,
   "id": "c478eb69-ebf6-448e-b953-0b82f68c65b8",
   "metadata": {},
   "outputs": [],
   "source": [
    "Wg = model.recurrence.weight"
   ]
  },
  {
   "cell_type": "code",
   "execution_count": 36,
   "id": "bf4bb538-f0f2-4d6b-a039-f2f1a45e31fb",
   "metadata": {},
   "outputs": [],
   "source": [
    "Wg = Wg.to('cpu').detach().numpy()"
   ]
  },
  {
   "cell_type": "code",
   "execution_count": 37,
   "id": "0d478df9-1d26-41ae-aabf-87585e1ce668",
   "metadata": {},
   "outputs": [
    {
     "data": {
      "text/plain": [
       "(3.7126825e-05, -3.6143654e-05, -2.574247e-10, 1.1633853e-06)"
      ]
     },
     "execution_count": 37,
     "metadata": {},
     "output_type": "execute_result"
    }
   ],
   "source": [
    "np.max(Wg), np.min(Wg), np.mean(Wg), np.std(Wg)"
   ]
  },
  {
   "cell_type": "code",
   "execution_count": 41,
   "id": "f9107dae-a123-4001-903e-57b50a794a3c",
   "metadata": {},
   "outputs": [
    {
     "data": {
      "text/plain": [
       "(0.015624998, -0.015624998, -5.161618e-07, 0.0090188775)"
      ]
     },
     "execution_count": 41,
     "metadata": {},
     "output_type": "execute_result"
    }
   ],
   "source": [
    "W = torch.nn.Linear(4096,4096)\n",
    "W = W.weight.detach().numpy()\n",
    "np.max(W), np.min(W), np.mean(W), np.std(W)"
   ]
  },
  {
   "cell_type": "code",
   "execution_count": null,
   "id": "2222c705-a928-49ec-ac19-181db4ed3848",
   "metadata": {},
   "outputs": [],
   "source": []
  }
 ],
 "metadata": {
  "kernelspec": {
   "display_name": "Python 3 (ipykernel)",
   "language": "python",
   "name": "python3"
  },
  "language_info": {
   "codemirror_mode": {
    "name": "ipython",
    "version": 3
   },
   "file_extension": ".py",
   "mimetype": "text/x-python",
   "name": "python",
   "nbconvert_exporter": "python",
   "pygments_lexer": "ipython3",
   "version": "3.9.6"
  }
 },
 "nbformat": 4,
 "nbformat_minor": 5
}
