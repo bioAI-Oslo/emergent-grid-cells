{
 "cells": [
  {
   "cell_type": "code",
   "execution_count": 1,
   "id": "6ffa7122",
   "metadata": {},
   "outputs": [
    {
     "ename": "ModuleNotFoundError",
     "evalue": "No module named 'llvmlite'",
     "output_type": "error",
     "traceback": [
      "\u001b[0;31m---------------------------------------------------------------------------\u001b[0m",
      "\u001b[0;31mModuleNotFoundError\u001b[0m                       Traceback (most recent call last)",
      "\u001b[0;32m/tmp/ipykernel_25207/2681337663.py\u001b[0m in \u001b[0;36m<module>\u001b[0;34m\u001b[0m\n\u001b[1;32m      1\u001b[0m \u001b[0;32mimport\u001b[0m \u001b[0mnumpy\u001b[0m \u001b[0;32mas\u001b[0m \u001b[0mnp\u001b[0m\u001b[0;34m\u001b[0m\u001b[0;34m\u001b[0m\u001b[0m\n\u001b[0;32m----> 2\u001b[0;31m \u001b[0;32mimport\u001b[0m \u001b[0mumap\u001b[0m\u001b[0;34m\u001b[0m\u001b[0;34m\u001b[0m\u001b[0m\n\u001b[0m\u001b[1;32m      3\u001b[0m \u001b[0;32mimport\u001b[0m \u001b[0mmatplotlib\u001b[0m\u001b[0;34m.\u001b[0m\u001b[0mpyplot\u001b[0m \u001b[0;32mas\u001b[0m \u001b[0mplt\u001b[0m\u001b[0;34m\u001b[0m\u001b[0;34m\u001b[0m\u001b[0m\n\u001b[1;32m      4\u001b[0m \u001b[0;32mimport\u001b[0m \u001b[0mmatplotlib\u001b[0m\u001b[0;34m\u001b[0m\u001b[0;34m\u001b[0m\u001b[0m\n\u001b[1;32m      5\u001b[0m \u001b[0;32mfrom\u001b[0m \u001b[0msklearn\u001b[0m\u001b[0;34m.\u001b[0m\u001b[0mdecomposition\u001b[0m \u001b[0;32mimport\u001b[0m \u001b[0mPCA\u001b[0m\u001b[0;34m\u001b[0m\u001b[0;34m\u001b[0m\u001b[0m\n",
      "\u001b[0;32m~/miniconda3/envs/tf/lib/python3.9/site-packages/umap/__init__.py\u001b[0m in \u001b[0;36m<module>\u001b[0;34m\u001b[0m\n\u001b[1;32m      1\u001b[0m \u001b[0;32mfrom\u001b[0m \u001b[0mwarnings\u001b[0m \u001b[0;32mimport\u001b[0m \u001b[0mwarn\u001b[0m\u001b[0;34m,\u001b[0m \u001b[0mcatch_warnings\u001b[0m\u001b[0;34m,\u001b[0m \u001b[0msimplefilter\u001b[0m\u001b[0;34m\u001b[0m\u001b[0;34m\u001b[0m\u001b[0m\n\u001b[0;32m----> 2\u001b[0;31m \u001b[0;32mfrom\u001b[0m \u001b[0;34m.\u001b[0m\u001b[0mumap_\u001b[0m \u001b[0;32mimport\u001b[0m \u001b[0mUMAP\u001b[0m\u001b[0;34m\u001b[0m\u001b[0;34m\u001b[0m\u001b[0m\n\u001b[0m\u001b[1;32m      3\u001b[0m \u001b[0;34m\u001b[0m\u001b[0m\n\u001b[1;32m      4\u001b[0m \u001b[0;32mtry\u001b[0m\u001b[0;34m:\u001b[0m\u001b[0;34m\u001b[0m\u001b[0;34m\u001b[0m\u001b[0m\n\u001b[1;32m      5\u001b[0m     \u001b[0;32mwith\u001b[0m \u001b[0mcatch_warnings\u001b[0m\u001b[0;34m(\u001b[0m\u001b[0;34m)\u001b[0m\u001b[0;34m:\u001b[0m\u001b[0;34m\u001b[0m\u001b[0;34m\u001b[0m\u001b[0m\n",
      "\u001b[0;32m~/miniconda3/envs/tf/lib/python3.9/site-packages/umap/umap_.py\u001b[0m in \u001b[0;36m<module>\u001b[0;34m\u001b[0m\n\u001b[1;32m     26\u001b[0m \u001b[0;32mfrom\u001b[0m \u001b[0mscipy\u001b[0m\u001b[0;34m.\u001b[0m\u001b[0msparse\u001b[0m \u001b[0;32mimport\u001b[0m \u001b[0mtril\u001b[0m \u001b[0;32mas\u001b[0m \u001b[0msparse_tril\u001b[0m\u001b[0;34m,\u001b[0m \u001b[0mtriu\u001b[0m \u001b[0;32mas\u001b[0m \u001b[0msparse_triu\u001b[0m\u001b[0;34m\u001b[0m\u001b[0;34m\u001b[0m\u001b[0m\n\u001b[1;32m     27\u001b[0m \u001b[0;32mimport\u001b[0m \u001b[0mscipy\u001b[0m\u001b[0;34m.\u001b[0m\u001b[0msparse\u001b[0m\u001b[0;34m.\u001b[0m\u001b[0mcsgraph\u001b[0m\u001b[0;34m\u001b[0m\u001b[0;34m\u001b[0m\u001b[0m\n\u001b[0;32m---> 28\u001b[0;31m \u001b[0;32mimport\u001b[0m \u001b[0mnumba\u001b[0m\u001b[0;34m\u001b[0m\u001b[0;34m\u001b[0m\u001b[0m\n\u001b[0m\u001b[1;32m     29\u001b[0m \u001b[0;34m\u001b[0m\u001b[0m\n\u001b[1;32m     30\u001b[0m \u001b[0;32mimport\u001b[0m \u001b[0mumap\u001b[0m\u001b[0;34m.\u001b[0m\u001b[0mdistances\u001b[0m \u001b[0;32mas\u001b[0m \u001b[0mdist\u001b[0m\u001b[0;34m\u001b[0m\u001b[0;34m\u001b[0m\u001b[0m\n",
      "\u001b[0;32m~/miniconda3/envs/tf/lib/python3.9/site-packages/numba/__init__.py\u001b[0m in \u001b[0;36m<module>\u001b[0;34m\u001b[0m\n\u001b[1;32m     17\u001b[0m \u001b[0;34m\u001b[0m\u001b[0m\n\u001b[1;32m     18\u001b[0m \u001b[0;34m\u001b[0m\u001b[0m\n\u001b[0;32m---> 19\u001b[0;31m \u001b[0;32mfrom\u001b[0m \u001b[0mnumba\u001b[0m\u001b[0;34m.\u001b[0m\u001b[0mcore\u001b[0m \u001b[0;32mimport\u001b[0m \u001b[0mconfig\u001b[0m\u001b[0;34m\u001b[0m\u001b[0;34m\u001b[0m\u001b[0m\n\u001b[0m\u001b[1;32m     20\u001b[0m \u001b[0;32mfrom\u001b[0m \u001b[0mnumba\u001b[0m\u001b[0;34m.\u001b[0m\u001b[0mcore\u001b[0m \u001b[0;32mimport\u001b[0m \u001b[0mtypes\u001b[0m\u001b[0;34m,\u001b[0m \u001b[0merrors\u001b[0m\u001b[0;34m\u001b[0m\u001b[0;34m\u001b[0m\u001b[0m\n\u001b[1;32m     21\u001b[0m \u001b[0;34m\u001b[0m\u001b[0m\n",
      "\u001b[0;32m~/miniconda3/envs/tf/lib/python3.9/site-packages/numba/core/config.py\u001b[0m in \u001b[0;36m<module>\u001b[0;34m\u001b[0m\n\u001b[1;32m     13\u001b[0m \u001b[0;34m\u001b[0m\u001b[0m\n\u001b[1;32m     14\u001b[0m \u001b[0;34m\u001b[0m\u001b[0m\n\u001b[0;32m---> 15\u001b[0;31m \u001b[0;32mimport\u001b[0m \u001b[0mllvmlite\u001b[0m\u001b[0;34m.\u001b[0m\u001b[0mbinding\u001b[0m \u001b[0;32mas\u001b[0m \u001b[0mll\u001b[0m\u001b[0;34m\u001b[0m\u001b[0;34m\u001b[0m\u001b[0m\n\u001b[0m\u001b[1;32m     16\u001b[0m \u001b[0;34m\u001b[0m\u001b[0m\n\u001b[1;32m     17\u001b[0m \u001b[0mIS_WIN32\u001b[0m \u001b[0;34m=\u001b[0m \u001b[0msys\u001b[0m\u001b[0;34m.\u001b[0m\u001b[0mplatform\u001b[0m\u001b[0;34m.\u001b[0m\u001b[0mstartswith\u001b[0m\u001b[0;34m(\u001b[0m\u001b[0;34m'win32'\u001b[0m\u001b[0;34m)\u001b[0m\u001b[0;34m\u001b[0m\u001b[0;34m\u001b[0m\u001b[0m\n",
      "\u001b[0;31mModuleNotFoundError\u001b[0m: No module named 'llvmlite'"
     ]
    }
   ],
   "source": [
    "import numpy as np \n",
    "import umap \n",
    "import matplotlib.pyplot as plt\n",
    "import matplotlib\n",
    "from sklearn.decomposition import PCA\n",
    "from ripser import ripser\n",
    "from persim import plot_diagrams"
   ]
  },
  {
   "cell_type": "code",
   "execution_count": null,
   "id": "3fdb00ea",
   "metadata": {},
   "outputs": [],
   "source": [
    "def synth_grid(xx, yy, phase = 0, orientation = 0, f = 3):\n",
    "    \"\"\" Create ratemaps for n synthetic grid cells\n",
    "    params:\n",
    "    xx, yy (np.ndarray): coordinate grids of shape (nx, ny)\n",
    "    phase (np.array): phase shifts of shape (n,)\n",
    "    orientation (float): orientation of grid cells. Shared by all n cells\n",
    "    f (float): grid frequency\n",
    "    \"\"\"\n",
    "    \n",
    "    theta = np.array([i*np.pi/3 for i in range(3)]) + orientation\n",
    "    kx = np.cos(theta)\n",
    "    ky = np.sin(theta)\n",
    "    \n",
    "    x_phase = xx[None] + phase[:,0,None,None]\n",
    "    y_phase = yy[None] + phase[:,1,None,None]\n",
    "    inner_prod = kx[None,:,None,None]*x_phase[:,None] + ky[None,:,None,None]*y_phase[:,None]\n",
    "    gc = np.clip(1/3*np.sum(np.cos(2*np.pi*f*inner_prod), axis = 1), 0, 1)\n",
    "    return gc\n",
    "\n",
    "def scatter3d(data, tags, ncols=4, nrows=4, s=1, alpha=0.5, azim_elev_title=True, **kwargs):\n",
    "    assert data.shape[-1] == 3, \"data must have three axes. No more, no less.\"\n",
    "    if data.ndim > 2:\n",
    "        data = data.reshape(-1, 3)\n",
    "    fig, axs = plt.subplots(ncols=ncols, nrows=nrows, subplot_kw={\"projection\": \"3d\"}, **kwargs)\n",
    "    num_plots = ncols * nrows\n",
    "    \n",
    "    azims = np.linspace(0, 180, ncols + 1)[:-1]\n",
    "    elevs = np.linspace(0, 90, nrows + 1)[:-1]\n",
    "\n",
    "    view_angles = np.stack(np.meshgrid(azims, elevs), axis=-1).reshape(-1, 2)\n",
    "    norm = matplotlib.colors.Normalize(np.amin(tags), np.amax(tags))\n",
    "    color = matplotlib.cm.viridis(norm(tags))\n",
    "    for i, ax in enumerate(axs.flat):\n",
    "        ax.scatter(xs=data[:, 0], ys=data[:, 1], zs=data[:, 2], color=color, s=s, alpha=alpha)\n",
    "        ax.azim = view_angles[i, 0]\n",
    "        ax.elev = view_angles[i, 1]\n",
    "        ax.axis(\"off\")\n",
    "        if azim_elev_title:\n",
    "            ax.set_title(f\"azim={ax.azim}, elev={ax.elev}\")\n",
    "    return fig, axs\n",
    "\n",
    "\n",
    "def PCA_UMAP(states):\n",
    "    \"\"\" Run PCA followed by UMAP on states; Similar to Gardner et al. (2022)\n",
    "    \n",
    "    states.shape = (Nsamples, Nfeatures)\n",
    "    PCA down to 6 features/principal components \n",
    "    UMAP of PCA componenents to 3 features.\n",
    "    \n",
    "    Note: Gardner et al. use n_neighbors = 5000 (more than number of samples in our case...)\n",
    "    \"\"\"\n",
    "    pca_fit = PCA(n_components = 6).fit(states)\n",
    "    pca_result = pca_fit.transform(states)\n",
    "    umap_fit = umap.UMAP(n_components = 3, min_dist = 0.8,  # Almost Gardner et al. params\n",
    "                         n_neighbors = 1000, metric = \"cosine\", init = \"spectral\")\n",
    "    umap_result = umap_fit.fit_transform(pca_result)\n",
    "    return pca_result, umap_result\n",
    "    \n",
    "    \n",
    "n = 100\n",
    "x = np.linspace(0, 2.2, n) # Boxsize same as default\n",
    "y = np.linspace(0, 2.2, n)\n",
    "xx, yy = np.meshgrid(x,y)\n",
    "# create modules\n",
    "# each with unique random phases and orientations\n",
    "n_envs = 1\n",
    "n_mods = 1 # one for umap\n",
    "cells_per_mod = 500\n",
    "# every cell has a random phase\n",
    "phases = np.random.uniform(-2, 2, (n_mods, cells_per_mod, 2))\n",
    "# every module has a shared orientation\n",
    "orientations = np.random.uniform(0, 2*np.pi, n_mods) # random orientation\n",
    "# save resulting orientation\n",
    "actual_orientations = np.zeros((n_envs, n_mods)) # save shifted orientations\n",
    "# each module has a unique phase and orientation shift in each env.\n",
    "phase_shifts = np.random.uniform(-4, 4, (n_envs, n_mods, 2))\n",
    "orientation_shifts = np.zeros((n_envs, n_mods))#np.random.uniform(0, np.pi/3, (n_envs, n_mods))\n",
    "synth_maps = np.zeros((n_envs, n_mods*cells_per_mod, n, n))\n",
    "fs = [1.25 for i in range(n_mods)] # grid frequency the same for all (for now)\n",
    "\n",
    "for i in range(n_envs):\n",
    "    for j in range(n_mods):\n",
    "        # cells per mod, 2 + None\n",
    "        phase = phases[j] + phase_shifts[i,j][None] # modules phase shift coherently\n",
    "        actual_orientations[i,j] =  orientations[j] + orientation_shifts[i,j] # and rotate coherently\n",
    "        gc = synth_grid(xx, yy, phase, actual_orientations[i,j], f = fs[j]) # create ratemaps\n",
    "        synth_maps[i,j*cells_per_mod: (j+1)*cells_per_mod] = gc # save module ratemap activity\n",
    "# plot a random selection of cells         \n",
    "env = 0\n",
    "m = 5\n",
    "fig, ax = plt.subplots(m, m)\n",
    "for i in range(m**2):\n",
    "    row = i // m\n",
    "    col = i % m\n",
    "    show = np.random.randint(synth_maps.shape[1])\n",
    "    ax[row, col].imshow(synth_maps[env,show], cmap = \"jet\")\n",
    "plt.show()\n",
    "\n",
    "print(synth_maps.shape)"
   ]
  },
  {
   "cell_type": "code",
   "execution_count": null,
   "id": "b967a832",
   "metadata": {},
   "outputs": [],
   "source": [
    "data = synth_maps[0].reshape((synth_maps.shape[1], -1)).T # ONLY ENV 0\n",
    "\n",
    "fit = umap.UMAP(n_components = 3)\n",
    "u = fit.fit_transform(data)\n",
    "u = fit.fit_transform(data)\n",
    "fit = umap.UMAP(n_components = 3)\n"
   ]
  },
  {
   "cell_type": "code",
   "execution_count": null,
   "id": "f54ff869",
   "metadata": {},
   "outputs": [],
   "source": [
    "fig,axs = scatter3d(u,np.ones(len(u)),nrows=2,ncols=2)#,azim_elev_title=False,figsize=figsize,s=0.005,alpha=0.8)"
   ]
  },
  {
   "cell_type": "code",
   "execution_count": null,
   "id": "1389182f",
   "metadata": {},
   "outputs": [],
   "source": [
    "pca_fit, umap_fit = PCA_UMAP(data)"
   ]
  },
  {
   "cell_type": "code",
   "execution_count": null,
   "id": "463680af",
   "metadata": {},
   "outputs": [],
   "source": [
    "fig,axs = scatter3d(umap_fit, pca_fit[:,0],nrows=2,ncols=2,azim_elev_title=False,figsize=(10,10),s=0.005,alpha=0.8)"
   ]
  },
  {
   "cell_type": "code",
   "execution_count": null,
   "id": "6322f715",
   "metadata": {},
   "outputs": [],
   "source": [
    "fig,axs = plt.subplots(ncols=2)\n",
    "#dgms = ripser(g[env_i][:,module_indices],maxdim=2,n_perm=150)['dgms']\n",
    "#dgms = ripser(pca_fits[env_i],maxdim=2,n_perm=150)['dgms']\n",
    "dgms = ripser(umap_fit ,maxdim=2,n_perm=150)['dgms']\n",
    "plot_diagrams(dgms, show=False, ax=axs[0])\n",
    "axs[1].hist(dgms[1][:,1] - dgms[1][:,0])\n",
    "\n"
   ]
  }
 ],
 "metadata": {
  "kernelspec": {
   "display_name": "Python 3 (ipykernel)",
   "language": "python",
   "name": "python3"
  },
  "language_info": {
   "codemirror_mode": {
    "name": "ipython",
    "version": 3
   },
   "file_extension": ".py",
   "mimetype": "text/x-python",
   "name": "python",
   "nbconvert_exporter": "python",
   "pygments_lexer": "ipython3",
   "version": "3.9.7"
  }
 },
 "nbformat": 4,
 "nbformat_minor": 5
}
