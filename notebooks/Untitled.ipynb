{
 "cells": [
  {
   "cell_type": "code",
   "execution_count": 62,
   "id": "2e54a891-ce1e-42a5-aa3e-23f6b3bcffe9",
   "metadata": {},
   "outputs": [],
   "source": [
    "import torch\n",
    "import numpy as np"
   ]
  },
  {
   "cell_type": "code",
   "execution_count": 46,
   "id": "720431e5-051d-4043-834f-7f641d82956c",
   "metadata": {},
   "outputs": [],
   "source": [
    "L, N, Hin, Hout = 4, 3, 2, 5\n",
    "n_rnns = 1\n",
    "rnn = torch.nn.RNN(Hin, Hout, n_rnns, batch_first=True)"
   ]
  },
  {
   "cell_type": "code",
   "execution_count": 47,
   "id": "5a171dd7-c18c-4bfb-874a-fddfd45d5ea1",
   "metadata": {},
   "outputs": [],
   "source": [
    "x = torch.randn(N, L, Hin)\n",
    "h0 = torch.randn(n_rnns, N, Hout)"
   ]
  },
  {
   "cell_type": "code",
   "execution_count": 50,
   "id": "5ef8d562-c816-434b-9e4c-f7ce783462aa",
   "metadata": {},
   "outputs": [],
   "source": [
    "test = rnn(x,h0)"
   ]
  },
  {
   "cell_type": "code",
   "execution_count": 55,
   "id": "8d69a6de-d79f-48c8-8260-cc6579c8a622",
   "metadata": {},
   "outputs": [],
   "source": [
    "t1,t2 = test"
   ]
  },
  {
   "cell_type": "code",
   "execution_count": null,
   "id": "c884c7d2-592f-491a-ab83-871b2b6ed50c",
   "metadata": {},
   "outputs": [
    {
     "data": {
      "text/plain": [
       "(torch.Size([3, 4, 5]), torch.Size([1, 3, 5]))"
      ]
     },
     "execution_count": 56,
     "metadata": {},
     "output_type": "execute_result"
    }
   ],
   "source": [
    "t1.shape, t2.shape"
   ]
  },
  {
   "cell_type": "code",
   "execution_count": null,
   "id": "770dd94c-d167-4dd8-9022-9cc2485ee01e",
   "metadata": {},
   "outputs": [
    {
     "data": {
      "text/plain": [
       "tensor([[[True, True, True, True, True],\n",
       "         [True, True, True, True, True],\n",
       "         [True, True, True, True, True]]])"
      ]
     },
     "execution_count": 61,
     "metadata": {},
     "output_type": "execute_result"
    }
   ],
   "source": [
    "t1[:,3] == t2"
   ]
  },
  {
   "cell_type": "code",
   "execution_count": 68,
   "id": "bc8f66be-a9ae-436f-8d05-6db42bb0b731",
   "metadata": {},
   "outputs": [
    {
     "data": {
      "text/plain": [
       "array(10)"
      ]
     },
     "execution_count": 68,
     "metadata": {},
     "output_type": "execute_result"
    }
   ],
   "source": [
    "torch.tensor(np.array(10)).numpy()"
   ]
  },
  {
   "cell_type": "code",
   "execution_count": 2,
   "id": "aeafed49-70d0-4623-993c-24bd159e787c",
   "metadata": {},
   "outputs": [],
   "source": [
    "import sys\n",
    "sys.path.append(\"../src\") if \"../src\" not in sys.path else None # avoid adding multiple relave paths to sys.path\n",
    "from methods import *"
   ]
  },
  {
   "cell_type": "code",
   "execution_count": 3,
   "id": "3471026d-e34b-46b4-8385-05d67fceca94",
   "metadata": {},
   "outputs": [
    {
     "data": {
      "text/plain": [
       "<methods.Dataset at 0x7fab441c1f70>"
      ]
     },
     "execution_count": 3,
     "metadata": {},
     "output_type": "execute_result"
    }
   ],
   "source": [
    "Dataset()"
   ]
  },
  {
   "cell_type": "code",
   "execution_count": null,
   "id": "a2fee52e-a008-4583-a9c9-028245a51956",
   "metadata": {},
   "outputs": [],
   "source": []
  }
 ],
 "metadata": {
  "kernelspec": {
   "display_name": "Python 3 (ipykernel)",
   "language": "python",
   "name": "python3"
  },
  "language_info": {
   "codemirror_mode": {
    "name": "ipython",
    "version": 3
   },
   "file_extension": ".py",
   "mimetype": "text/x-python",
   "name": "python",
   "nbconvert_exporter": "python",
   "pygments_lexer": "ipython3",
   "version": "3.9.6"
  }
 },
 "nbformat": 4,
 "nbformat_minor": 5
}
