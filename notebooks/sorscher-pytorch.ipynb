{
 "cells": [
  {
   "cell_type": "markdown",
   "id": "be522a85-71a1-4918-a711-f493aefb26ad",
   "metadata": {
    "tags": []
   },
   "source": [
    "### Imports"
   ]
  },
  {
   "cell_type": "code",
   "execution_count": 1,
   "id": "996cfee3",
   "metadata": {
    "jupyter": {
     "source_hidden": true
    },
    "tags": []
   },
   "outputs": [],
   "source": [
    "%load_ext autoreload\n",
    "%autoreload 2\n",
    "#%matplotlib notebook\n",
    "%matplotlib inline"
   ]
  },
  {
   "cell_type": "code",
   "execution_count": 2,
   "id": "9f109164",
   "metadata": {
    "jupyter": {
     "source_hidden": true
    },
    "tags": []
   },
   "outputs": [],
   "source": [
    "import numpy as np\n",
    "import matplotlib.pyplot as plt\n",
    "import torch\n",
    "\n",
    "# custom packages\n",
    "from ratsimulator import Agent, trajectory_generator, batch_trajectory_generator\n",
    "from ratsimulator.Environment import Rectangle\n",
    "\n",
    "import datetime\n",
    "import sys\n",
    "# avoid adding multiple relave paths to sys.path\n",
    "sys.path.append(\"../src\") if \"../src\" not in sys.path else None \n",
    "\n",
    "from Brain import Brain\n",
    "from Models import UnitPathIntegrator, SorscherRNN\n",
    "from methods import *"
   ]
  },
  {
   "cell_type": "markdown",
   "id": "55dd0493",
   "metadata": {},
   "source": [
    "### Set parameters and initialise"
   ]
  },
  {
   "cell_type": "code",
   "execution_count": 3,
   "id": "62ccac93-1919-4ab0-b6a0-af08f0ea8a91",
   "metadata": {
    "tags": []
   },
   "outputs": [],
   "source": [
    "\"\"\"\n",
    "# Sorscher params\n",
    "options.save_dir = '/mnt/fs2/bsorsch/grid_cells/models/'\n",
    "options.n_steps = 100000      # number of training steps\n",
    "options.batch_size = 200      # number of trajectories per batch\n",
    "options.sequence_length = 20  # number of steps in trajectory\n",
    "options.learning_rate = 1e-4  # gradient descent learning rate\n",
    "options.Np = 512              # number of place cells\n",
    "options.Ng = 4096             # number of grid cells\n",
    "options.place_cell_rf = 0.12  # width of place cell center tuning curve (m)\n",
    "options.surround_scale = 2    # if DoG, ratio of sigma2^2 to sigma1^2\n",
    "options.RNN_type = 'RNN'      # RNN or LSTM\n",
    "options.activation = 'relu'   # recurrent nonlinearity\n",
    "options.weight_decay = 1e-4   # strength of weight decay on recurrent weights\n",
    "options.DoG = True            # use difference of gaussians tuning curves\n",
    "options.periodic = False      # trajectories with periodic boundary conditions\n",
    "options.box_width = 2.2       # width of training environment\n",
    "options.box_height = 2.2      # height of training environment\n",
    "\"\"\"\n",
    "\n",
    "params = {}\n",
    "# Environment params\n",
    "params['boxsize'] = (2.2, 2.2)\n",
    "params['origo'] = (0,0)\n",
    "params['soft_boundary'] = 0.2\n",
    "# Brain params\n",
    "params['npcs'] = 512 # as used in Sorscher model\n",
    "params['pc_sigma'] = 0.12\n",
    "params['DoG'] = True\n",
    "# Training data (Agent) params\n",
    "params['batch_size'] = 200\n",
    "params['seq_len'] = 20\n",
    "params['angle0'] = None # random\n",
    "params['p0'] = None     # random\n",
    "# Agent/random walk parameters\n",
    "params['dt'] = 0.02\n",
    "params['turn_sigma'] = 5.76 * 2\n",
    "params['b'] = 0.13 * 2 * np.pi\n",
    "params['mu'] = 0\n",
    "# Model params\n",
    "params['Ng'] = 4096\n",
    "params['Np'] = params['npcs'] # defined for Brain already\n",
    "params['weight_decay'] = 1e-4\n",
    "params['lr'] = 1e-4# 1e-3 is default for Adam()\n",
    "params['nsteps'] = 100 # number of mini batches in an epoch\n",
    "params['nepochs'] = 1000 # number of epochs\n",
    "\n",
    "# stuff\n",
    "params['tag'] = 'default'\n",
    "params['save_model'] = True \n",
    "params['save_freq'] = 1\n",
    "params['date'] = datetime.datetime.now()\n",
    "\n",
    "num_workers = 16\n",
    "device = torch.device('cuda' if torch.cuda.is_available() else 'cpu')"
   ]
  },
  {
   "cell_type": "code",
   "execution_count": 4,
   "id": "2cff29f0-2cb5-4eb8-9ece-72a72fb91141",
   "metadata": {
    "tags": []
   },
   "outputs": [
    {
     "name": "stdout",
     "output_type": "stream",
     "text": [
      "Singular matrix\n",
      "Singular matrix\n",
      "SorscherRNN(\n",
      "  (init_position_encoder): Linear(in_features=512, out_features=4096, bias=False)\n",
      "  (RNN): RNN(2, 4096, bias=False, batch_first=True)\n",
      "  (decoder): Linear(in_features=4096, out_features=512, bias=False)\n",
      ")\n"
     ]
    }
   ],
   "source": [
    "# Init Environment\n",
    "env = Rectangle(boxsize=params['boxsize'], soft_boundary=params['soft_boundary'])\n",
    "params['environment'] = type(env).__name__\n",
    "# Init brain\n",
    "brain = Brain(env, npcs=params['npcs'], sigma=params['pc_sigma'], DoG=params['DoG'])\n",
    "# Init training data\n",
    "dataset = Dataset(brain=brain, batch_size=params['batch_size'], nsteps=params['nsteps'], \\\n",
    "                  environment=env, seq_len=params['seq_len'], angle0=params['angle0'], \\\n",
    "                  p0=params['p0'], dt=params['dt'], sigma=params['turn_sigma'], b=params['b'], \\\n",
    "                  mu=params['mu'])\n",
    "dataloader = torch.utils.data.DataLoader(dataset, batch_size=params['batch_size'], num_workers=num_workers)\n",
    "# Init model\n",
    "model = SorscherRNN(params['Ng'],params['Np']) # UnitPathIntegrator(params['Ng'],params['Np'])\n",
    "model.to(device)\n",
    "print(model)\n",
    "# Init optimizer (use custom weight decay, rather than torch optim decay)\n",
    "optimizer = torch.optim.Adam(model.parameters(), lr=params['lr'], betas=(0.9, 0.999), \\\n",
    "                             eps=1e-08, weight_decay=0.0, amsgrad=False)"
   ]
  },
  {
   "cell_type": "markdown",
   "id": "56ee8580-f195-4621-a75c-6ad55e76a58d",
   "metadata": {},
   "source": [
    "### Train Model"
   ]
  },
  {
   "cell_type": "code",
   "execution_count": null,
   "id": "bad08929-98de-4862-adcb-460f5fb06c23",
   "metadata": {
    "tags": []
   },
   "outputs": [
    {
     "name": "stderr",
     "output_type": "stream",
     "text": [
      "Epoch=7/1000, loss=6.238220233917236:   1%|▏                         | 7/1000 [01:35<3:43:11, 13.49s/it]"
     ]
    }
   ],
   "source": [
    "checkpoint_path = '../checkpoints/'\n",
    "loss_history = []\n",
    "\n",
    "if loaded_model:=False:\n",
    "    model_name = type(model).__name__\n",
    "    checkpoints = torch.load(f'{checkpoint_path}{model_name}_{params[\"tag\"]}')\n",
    "    model.load_state_dict(checkpoints['model_state_dict'])\n",
    "    optimizer.load_state_dict(checkpoints['optimizer_state_dict'])\n",
    "    loss_history = checkpoints['loss_history']\n",
    "    training_metrics = checkpoints['training_metrics']\n",
    "    print(\"Loaded weights\")\n",
    "    \n",
    "# whether to train\n",
    "if train:=True:\n",
    "    loss_history = model.train(trainloader = dataloader, optimizer = optimizer, weight_decay=params['weight_decay'], \\\n",
    "                nepochs=params['nepochs'], loaded_model = loaded_model, \\\n",
    "                save_model = params['save_model'], save_freq = params['save_freq'], \\\n",
    "                loss_history = loss_history, tag = params['tag'], params = params)"
   ]
  },
  {
   "cell_type": "markdown",
   "id": "90a35a08-d3f8-40a0-9be7-ddc9b010f8c4",
   "metadata": {},
   "source": [
    "### Analyse Model"
   ]
  },
  {
   "cell_type": "code",
   "execution_count": null,
   "id": "9b4dd377-770d-4347-b54b-703b24a03183",
   "metadata": {},
   "outputs": [],
   "source": [
    "fig, ax = plt.subplots(ncols=4,figsize=(18,5))\n",
    "for i,(key,value) in enumerate(checkpoints['training_metrics'].items()):\n",
    "    if key == 'l2_reg':\n",
    "        value = value[2:]\n",
    "    ax[i].plot(value)\n",
    "    ax[i].set_title(key)\n",
    "\n",
    "# maximum labelled distribution entropy (uniform labelled distribution)\n",
    "n = 512\n",
    "px = np.ones(n) / n # uniform\n",
    "entropy = lambda x: -np.sum(x * np.log(x))\n",
    "entropy(px)"
   ]
  },
  {
   "cell_type": "code",
   "execution_count": null,
   "id": "656866b4-c954-4c1f-a7e4-4bd459129734",
   "metadata": {},
   "outputs": [],
   "source": [
    "plt.plot(loss_history[5:])\n",
    "plt.title('Total-loss history')\n",
    "plt.xlabel('epoch')\n",
    "plt.ylabel('loss')"
   ]
  },
  {
   "cell_type": "code",
   "execution_count": null,
   "id": "61ed3c9f-cdf3-4f01-90ba-788446a0283b",
   "metadata": {
    "tags": []
   },
   "outputs": [],
   "source": [
    "idxs=slice(0, 64*8, 8)\n",
    "board, rate_maps, response_maps, count_maps = rate_map(model=model.g, environment=env, dataset=dataset, seq_len=params['seq_len'], \\\n",
    "              res=np.array([32, 32]), idxs=idxs, num_samples=1)\n",
    "num_response_maps = int((idxs.stop - idxs.start) / idxs.step)\n",
    "\n",
    "fig, ax = multicontourf(*board.T, rate_maps)"
   ]
  },
  {
   "cell_type": "code",
   "execution_count": null,
   "id": "5909fbd0-c6e8-47e6-aadd-46c3607fe07f",
   "metadata": {},
   "outputs": [],
   "source": [
    "# learned place cells\n",
    "# idxs=slice(0, 64, 1)\n",
    "board, rate_maps, _, _ = rate_map(model=model, environment=env, dataset=dataset, seq_len=params['seq_len'], \\\n",
    "              res=np.array([32, 32]), idxs=idxs, num_samples=1)\n",
    "num_response_maps = int((idxs.stop - idxs.start) / idxs.step)\n",
    "\n",
    "fig, ax = multicontourf(*board.T, rate_maps)"
   ]
  },
  {
   "cell_type": "markdown",
   "id": "9a40c4a6-f727-4fd7-928c-a583c08ea080",
   "metadata": {},
   "source": [
    "### Decoding labels and predictions to cartesian"
   ]
  },
  {
   "cell_type": "code",
   "execution_count": null,
   "id": "737f3b6b-92cc-412c-b038-11bb8e02cbbc",
   "metadata": {},
   "outputs": [],
   "source": [
    "dataset.return_cartesian = True\n",
    "[[vel, init_pos], labels, true_cartesian_pos] = dataset[1]\n",
    "dataset.return_cartesian = False\n",
    "true_decoded_pos = brain.to_euclid(torch.cat([init_pos[None], labels]))\n",
    "pc_preds = model([vel, init_pos]).detach().cpu()[0]\n",
    "predicted_decoded_pos = brain.to_euclid(torch.cat([init_pos[None], pc_preds]))"
   ]
  },
  {
   "cell_type": "code",
   "execution_count": null,
   "id": "888cd951-d0ca-47f7-93df-a48bd4cd6a21",
   "metadata": {},
   "outputs": [],
   "source": [
    "plt.plot(*true_decoded_pos.T, label='true_decoded_pos')\n",
    "plt.plot(*true_cartesian_pos.T, label='true_cartesian_pos')\n",
    "plt.plot(*predicted_decoded_pos.T, label='predicted_decoded_pos')\n",
    "plt.legend()"
   ]
  },
  {
   "cell_type": "markdown",
   "id": "de3cbc7d-5feb-4d5e-acdb-99c88f14b1fe",
   "metadata": {},
   "source": [
    "### Small analysis / checks / tests etc"
   ]
  },
  {
   "cell_type": "code",
   "execution_count": null,
   "id": "211373b1-2a56-49ea-b6c3-4ab5de3a088c",
   "metadata": {},
   "outputs": [],
   "source": [
    "# Wr = model.recurrence.weight.detach().cpu().numpy()\n",
    "Wr = model.RNN.weight_hh_l0.detach().cpu().numpy()\n",
    "stats = lambda W : print(f\"{np.min(W)=}, {np.max(W)=}, {np.min(abs(W))=}, {np.mean(W)=}, {np.std(W)=}, {np.sum(W**2)=}\")\n",
    "stats(Wr)\n",
    "plt.imshow(Wr[:25,:25])\n",
    "plt.colorbar()"
   ]
  },
  {
   "cell_type": "code",
   "execution_count": null,
   "id": "a44ae245-f59f-4ee6-b3c3-6f5b8ab29a25",
   "metadata": {},
   "outputs": [],
   "source": [
    "Wp = model.init_position_encoder.weight.detach().cpu().numpy()\n",
    "stats = lambda W : print(f\"{np.min(W)=}, {np.max(W)=}, {np.min(abs(W))=}, {np.mean(W)=}, {np.std(W)=}, {np.sum(W**2)=}\")\n",
    "stats(Wp)\n",
    "plt.imshow(Wp)\n",
    "plt.colorbar()"
   ]
  },
  {
   "cell_type": "code",
   "execution_count": null,
   "id": "3ccbc1f2-4e1b-4ee8-87f0-1c53b50bdb9f",
   "metadata": {},
   "outputs": [],
   "source": [
    "fig, ax = plt.subplots()\n",
    "x,y = brain.pcs.T\n",
    "\n",
    "ax.plot(x, y, \"+\")\n",
    "# add standard deviation circles to locations\n",
    "for i in range(5):\n",
    "    ax.plot(x[i], y[i], \"r+\")\n",
    "    a_circle = plt.Circle((x[i], y[i]), params['pc_sigma'], fill=False, color=(1, 0, 0, 0.5))\n",
    "    ax.add_artist(a_circle)\n",
    "\n",
    "plt.title(\"Spatial plot of place cell locations\")\n",
    "plt.xlabel(\"X\")\n",
    "plt.ylabel(\"Y\")\n",
    "plt.show()"
   ]
  }
 ],
 "metadata": {
  "kernelspec": {
   "display_name": "Python 3 (ipykernel)",
   "language": "python",
   "name": "python3"
  },
  "language_info": {
   "codemirror_mode": {
    "name": "ipython",
    "version": 3
   },
   "file_extension": ".py",
   "mimetype": "text/x-python",
   "name": "python",
   "nbconvert_exporter": "python",
   "pygments_lexer": "ipython3",
   "version": "3.9.6"
  }
 },
 "nbformat": 4,
 "nbformat_minor": 5
}
