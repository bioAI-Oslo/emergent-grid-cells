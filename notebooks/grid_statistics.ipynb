{
 "cells": [
  {
   "cell_type": "markdown",
   "id": "b658befc-513e-4661-b5bf-6112e7065908",
   "metadata": {},
   "source": [
    "Importing relevant packages and modules"
   ]
  },
  {
   "cell_type": "code",
   "execution_count": 1,
   "id": "d0704a08-5f45-41a2-be2f-c2c2f2d761e6",
   "metadata": {},
   "outputs": [
    {
     "ename": "TypeError",
     "evalue": "'ABCMeta' object is not subscriptable",
     "output_type": "error",
     "traceback": [
      "\u001b[0;31m---------------------------------------------------------------------------\u001b[0m",
      "\u001b[0;31mTypeError\u001b[0m                                 Traceback (most recent call last)",
      "\u001b[0;32m/var/folders/rv/mky69fln76nbwl7qkb06318h0000gn/T/ipykernel_2682/1240994615.py\u001b[0m in \u001b[0;36m<module>\u001b[0;34m\u001b[0m\n\u001b[1;32m     15\u001b[0m \u001b[0;34m\u001b[0m\u001b[0m\n\u001b[1;32m     16\u001b[0m \u001b[0;32mfrom\u001b[0m \u001b[0mExperiment\u001b[0m \u001b[0;32mimport\u001b[0m \u001b[0mExperiment\u001b[0m\u001b[0;34m\u001b[0m\u001b[0;34m\u001b[0m\u001b[0m\n\u001b[0;32m---> 17\u001b[0;31m \u001b[0;32mfrom\u001b[0m \u001b[0mstats\u001b[0m \u001b[0;32mimport\u001b[0m \u001b[0mgrid_score_masks\u001b[0m\u001b[0;34m,\u001b[0m \u001b[0mget_smooth_ratemaps\u001b[0m\u001b[0;34m,\u001b[0m \u001b[0mgrid_orientation\u001b[0m\u001b[0;34m,\u001b[0m \u001b[0mgrid_spacing\u001b[0m\u001b[0;34m,\u001b[0m \u001b[0mapply_to_selection\u001b[0m\u001b[0;34m,\u001b[0m \u001b[0mcircular_kernel\u001b[0m\u001b[0;34m\u001b[0m\u001b[0;34m\u001b[0m\u001b[0m\n\u001b[0m",
      "\u001b[0;32m~/Documents/skole/emergent-grid-cells/notebooks/../src/stats.py\u001b[0m in \u001b[0;36m<module>\u001b[0;34m\u001b[0m\n\u001b[1;32m     18\u001b[0m \u001b[0;34m\u001b[0m\u001b[0m\n\u001b[1;32m     19\u001b[0m def apply_to_selection(\n\u001b[0;32m---> 20\u001b[0;31m     \u001b[0mfn\u001b[0m\u001b[0;34m:\u001b[0m \u001b[0mCallable\u001b[0m\u001b[0;34m[\u001b[0m\u001b[0;34m[\u001b[0m\u001b[0mnp\u001b[0m\u001b[0;34m.\u001b[0m\u001b[0marray\u001b[0m\u001b[0;34m]\u001b[0m\u001b[0;34m,\u001b[0m \u001b[0mtuple\u001b[0m\u001b[0;34m]\u001b[0m\u001b[0;34m,\u001b[0m \u001b[0mratemaps\u001b[0m\u001b[0;34m:\u001b[0m \u001b[0mnp\u001b[0m\u001b[0;34m.\u001b[0m\u001b[0marray\u001b[0m\u001b[0;34m,\u001b[0m \u001b[0mmasks\u001b[0m\u001b[0;34m:\u001b[0m \u001b[0mnp\u001b[0m\u001b[0;34m.\u001b[0m\u001b[0marray\u001b[0m\u001b[0;34m\u001b[0m\u001b[0;34m\u001b[0m\u001b[0m\n\u001b[0m\u001b[1;32m     21\u001b[0m ) -> list:\n\u001b[1;32m     22\u001b[0m     \"\"\"\n",
      "\u001b[0;31mTypeError\u001b[0m: 'ABCMeta' object is not subscriptable"
     ]
    }
   ],
   "source": [
    "import sys\n",
    "from pathlib import Path\n",
    "\n",
    "# Plotting\n",
    "import numpy as np\n",
    "from matplotlib import pyplot as plt\n",
    "import matplotlib.patches as mpatches\n",
    "from scipy.stats import gaussian_kde\n",
    "\n",
    "'''\n",
    "CUSTOM PACKAGES\n",
    "'''\n",
    "# avoid adding multiple relave paths to sys.path\n",
    "sys.path.append(\"../src\") if \"../src\" not in sys.path else None\n",
    "\n",
    "from Experiment import Experiment\n",
    "from stats import grid_score_masks, get_smooth_ratemaps, grid_orientation, grid_spacing, apply_to_selection, circular_kernel"
   ]
  },
  {
   "cell_type": "markdown",
   "id": "7bba0b43-672f-414d-8263-507baeedb37b",
   "metadata": {},
   "source": [
    "Load the Experiment data"
   ]
  },
  {
   "cell_type": "code",
   "execution_count": null,
   "id": "50383973-a003-4b07-aa92-535461698ac7",
   "metadata": {},
   "outputs": [],
   "source": [
    "base_path = Path(\"/storA/GridCells/\")\n",
    "experiment = Experiment(name=\"3ME\", base_path=base_path)\n",
    "experiment.setup()"
   ]
  },
  {
   "cell_type": "markdown",
   "id": "f7f0cb0a-e2b6-4627-aeac-9916a1eed06f",
   "metadata": {},
   "source": [
    "Create the masks based on specified selection scheme (grid score, topology, ...)"
   ]
  },
  {
   "cell_type": "code",
   "execution_count": null,
   "id": "f7ab5618-2dc2-42d1-8749-9adc8c5ac7c9",
   "metadata": {},
   "outputs": [],
   "source": [
    "gs_masks = grid_score_masks(experiment, percentile=0.4, mode=\"intersection\")"
   ]
  },
  {
   "cell_type": "markdown",
   "id": "0ed59026-7f46-4bbf-9111-fa30daf3a445",
   "metadata": {},
   "source": [
    "## Plotting"
   ]
  },
  {
   "cell_type": "markdown",
   "id": "64583801-c8fa-4973-a326-b92a5d7c6914",
   "metadata": {},
   "source": [
    "Plotting style related settings. Loading notebook stylesheet and setting the colors of the cycler. Colors are either based on the officiel BioAI color scheme or on the diverging color scheme from [ColorBrewer2](https://colorbrewer2.org/#type=diverging&scheme=BrBG&n=3)."
   ]
  },
  {
   "cell_type": "code",
   "execution_count": null,
   "id": "7f5aae77-f4d1-499b-a600-8b0c4d1e4a7b",
   "metadata": {},
   "outputs": [],
   "source": [
    "plt.style.use(['seaborn-paper', './notebook.mplstyle'])\n",
    "\n",
    "# BioAI color scheme\n",
    "bioAI_dark_blue = '#194587'\n",
    "bioAI_bright_blue = '#1ca6e6'\n",
    "bioAI_background_grey = '#e8e8e8'\n",
    "bioAI_colors = [bioAI_dark_blue, bioAI_bright_blue, bioAI_background_grey]\n",
    "\n",
    "# ColorBrewer diverging\n",
    "gold = '#d8b365'\n",
    "off_white = '#f5f5f5'\n",
    "tyrkis = '#5ab4ac'\n",
    "cb_diverge = [gold, off_white, tyrkis]\n",
    "\n",
    "color_scheme=bioAI_colors"
   ]
  },
  {
   "cell_type": "markdown",
   "id": "0676af3d-37af-4d8e-93f6-a8d69a2be8e0",
   "metadata": {},
   "source": [
    "Retrieve and plot the different statistics based on smoothed versions of the ratemaps corresponding to the loaded experiment\n"
   ]
  },
  {
   "cell_type": "code",
   "execution_count": null,
   "id": "9f3b6239-1311-4b3f-8b03-a43c81660666",
   "metadata": {},
   "outputs": [],
   "source": [
    "smooth_ratemaps = get_smooth_ratemaps(experiment, sigma=1.0)"
   ]
  },
  {
   "cell_type": "markdown",
   "id": "bae7239a-612e-4b6e-9eaf-7da050b6c9ec",
   "metadata": {},
   "source": [
    "### Orientations"
   ]
  },
  {
   "cell_type": "code",
   "execution_count": null,
   "id": "efc8aa45-0c24-46bf-8c9e-84f4141ab0c9",
   "metadata": {},
   "outputs": [],
   "source": [
    "orientations = apply_to_selection(grid_orientation, smooth_ratemaps, gs_masks)"
   ]
  },
  {
   "cell_type": "code",
   "execution_count": null,
   "id": "6d4d5e7d-9e12-475c-96cb-35be809ba585",
   "metadata": {},
   "outputs": [],
   "source": [
    "# von Mises KDE parameter\n",
    "kappa = 50.0\n",
    "\n",
    "thetas = np.linspace(-np.pi, +np.pi, num=1001)\n",
    "\n",
    "fig, ax = plt.subplots()\n",
    "patches = []\n",
    "for env_i, orientations_env in enumerate(orientations):\n",
    "    # Kernel density estimation with periodic gaussian kernel (von Mises kernel)\n",
    "    # because orientation is 2-pi periodic\n",
    "    von_mises_pdf = circular_kernel(orientations_env, kappa=kappa)\n",
    "    ax.plot(\n",
    "        thetas, \n",
    "        von_mises_pdf(thetas), \n",
    "        color=color_scheme[env_i], \n",
    "        linewidth=1.0,\n",
    "        zorder=2\n",
    "    ) # color\n",
    "    ax.plot(\n",
    "        thetas, \n",
    "        von_mises_pdf(thetas), \n",
    "        color='#000000', \n",
    "        linewidth=1.5,\n",
    "        zorder=1\n",
    "    )\n",
    "    patches.append(\n",
    "        mpatches.Patch(\n",
    "            facecolor=color_scheme[env_i],\n",
    "            label=r\"$\" + str(env_i) + \"$\",\n",
    "            linewidth=0.5,\n",
    "            edgecolor='#000000'\n",
    "        )\n",
    "    )\n",
    "ymin, ymax = ax.get_ylim()\n",
    "ax.set_ylim((ymin, ymax))\n",
    "ax.vlines(\n",
    "    np.array(\n",
    "        [((60.0*i)*np.pi / 180.0) - np.pi for i in range(6)]\n",
    "    ),\n",
    "    ymin=ymin,\n",
    "    ymax=ymax,\n",
    "    color='grey',\n",
    "    linestyles='dotted'\n",
    ")\n",
    "ax.set_ylim(bottom=0)\n",
    "ax.set_ylabel(r\"Density\")\n",
    "ax.set_xlabel(r\"Orientation [rad]\")\n",
    "ax.legend(\n",
    "    handles=patches,\n",
    "    loc=\"upper right\",\n",
    "    title=r\"Environment\"\n",
    ")\n",
    "plt.show()"
   ]
  },
  {
   "cell_type": "markdown",
   "id": "9d78f3d8-a99c-483e-9f4e-1fd1b94995eb",
   "metadata": {},
   "source": [
    "### Spacings"
   ]
  },
  {
   "cell_type": "code",
   "execution_count": null,
   "id": "36d83cc6-c3a9-4c51-b48e-d38aaf4939fe",
   "metadata": {},
   "outputs": [],
   "source": [
    "spacings_list = apply_to_selection(grid_spacing, smooth_ratemaps, gs_masks)"
   ]
  },
  {
   "cell_type": "code",
   "execution_count": null,
   "id": "25dd69d4-3f64-4b71-b31c-3b516a5739a1",
   "metadata": {},
   "outputs": [],
   "source": [
    "# kde parameter\n",
    "bw_method = 0.5\n",
    "\n",
    "fig, ax = plt.subplots()\n",
    "patches=[]\n",
    "for env_i, spacings_env in enumerate(spacings_list):\n",
    "    # Kernel density estimation\n",
    "    spacing_pdf = gaussian_kde(spacings_env, bw_method=bw_method)\n",
    "    spacings = np.linspace(np.amin(spacings_env), np.amax(spacings_env), num=1001)\n",
    "    ax.plot(\n",
    "        spacings, \n",
    "        spacing_pdf(spacings),\n",
    "        color=color_scheme[env_i],\n",
    "        linewidth=1.0,\n",
    "        zorder=2\n",
    "    )\n",
    "    ax.plot(\n",
    "        spacings,\n",
    "        spacing_pdf(spacings),\n",
    "        color='#000000',\n",
    "        linewidth=1.5,\n",
    "        zorder=1\n",
    "    )\n",
    "    patches.append(\n",
    "        mpatches.Patch(\n",
    "            facecolor=color_scheme[env_i],\n",
    "            label=r\"$\" + str(env_i) + \"$\",\n",
    "            linewidth=0.5,\n",
    "            edgecolor='#000000'\n",
    "        )\n",
    "    )\n",
    "ax.set_ylim(bottom=0)\n",
    "ax.set_ylabel(r\"Density\")\n",
    "ax.set_xlabel(r\"Spacing [px]\")\n",
    "ax.legend(\n",
    "    handles=patches,\n",
    "    loc=\"upper right\",\n",
    "    title=r\"Environment\"\n",
    ")"
   ]
  },
  {
   "cell_type": "markdown",
   "id": "34230e07",
   "metadata": {},
   "source": [
    "# Phase Shifts"
   ]
  },
  {
   "cell_type": "code",
   "execution_count": null,
   "id": "ea3a4279",
   "metadata": {},
   "outputs": [],
   "source": [
    "phase_list = apply_to_selection(phase_shift, smooth_ratemaps, gs_masks)"
   ]
  },
  {
   "cell_type": "code",
   "execution_count": null,
   "id": "f5bced79",
   "metadata": {},
   "outputs": [],
   "source": []
  }
 ],
 "metadata": {
  "kernelspec": {
   "display_name": "Python 3 (ipykernel)",
   "language": "python",
   "name": "python3"
  },
  "language_info": {
   "codemirror_mode": {
    "name": "ipython",
    "version": 3
   },
   "file_extension": ".py",
   "mimetype": "text/x-python",
   "name": "python",
   "nbconvert_exporter": "python",
   "pygments_lexer": "ipython3",
   "version": "3.8.10"
  }
 },
 "nbformat": 4,
 "nbformat_minor": 5
}
