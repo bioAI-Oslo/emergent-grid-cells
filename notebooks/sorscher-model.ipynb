{
 "cells": [
  {
   "cell_type": "markdown",
   "id": "be522a85-71a1-4918-a711-f493aefb26ad",
   "metadata": {
    "tags": []
   },
   "source": [
    "### Imports"
   ]
  },
  {
   "cell_type": "code",
   "execution_count": 1,
   "id": "996cfee3",
   "metadata": {
    "tags": []
   },
   "outputs": [],
   "source": [
    "%load_ext autoreload\n",
    "%autoreload 2\n",
    "#%matplotlib notebook\n",
    "%matplotlib inline"
   ]
  },
  {
   "cell_type": "code",
   "execution_count": 2,
   "id": "9f109164",
   "metadata": {
    "tags": []
   },
   "outputs": [
    {
     "ename": "ModuleNotFoundError",
     "evalue": "No module named 'torch'",
     "output_type": "error",
     "traceback": [
      "\u001b[0;31m---------------------------------------------------------------------------\u001b[0m",
      "\u001b[0;31mModuleNotFoundError\u001b[0m                       Traceback (most recent call last)",
      "\u001b[0;32m/tmp/ipykernel_717181/2857798187.py\u001b[0m in \u001b[0;36m<module>\u001b[0;34m\u001b[0m\n\u001b[1;32m      1\u001b[0m \u001b[0;32mimport\u001b[0m \u001b[0mnumpy\u001b[0m \u001b[0;32mas\u001b[0m \u001b[0mnp\u001b[0m\u001b[0;34m\u001b[0m\u001b[0;34m\u001b[0m\u001b[0m\n\u001b[1;32m      2\u001b[0m \u001b[0;32mimport\u001b[0m \u001b[0mmatplotlib\u001b[0m\u001b[0;34m.\u001b[0m\u001b[0mpyplot\u001b[0m \u001b[0;32mas\u001b[0m \u001b[0mplt\u001b[0m\u001b[0;34m\u001b[0m\u001b[0;34m\u001b[0m\u001b[0m\n\u001b[0;32m----> 3\u001b[0;31m \u001b[0;32mimport\u001b[0m \u001b[0mtorch\u001b[0m\u001b[0;34m\u001b[0m\u001b[0;34m\u001b[0m\u001b[0m\n\u001b[0m\u001b[1;32m      4\u001b[0m \u001b[0;34m\u001b[0m\u001b[0m\n\u001b[1;32m      5\u001b[0m \u001b[0;31m# custom packages\u001b[0m\u001b[0;34m\u001b[0m\u001b[0;34m\u001b[0m\u001b[0;34m\u001b[0m\u001b[0m\n",
      "\u001b[0;31mModuleNotFoundError\u001b[0m: No module named 'torch'"
     ]
    }
   ],
   "source": [
    "import numpy as np\n",
    "import matplotlib.pyplot as plt\n",
    "import torch\n",
    "\n",
    "# custom packages\n",
    "from ratsimulator import trajectory_generator\n",
    "from ratsimulator.Environment import Rectangle\n",
    "\n",
    "import datetime\n",
    "import sys\n",
    "# avoid adding multiple relave paths to sys.path\n",
    "sys.path.append(\"../src\") if \"../src\" not in sys.path else None \n",
    "\n",
    "from PlaceCells import PlaceCells\n",
    "from Models import SorscherRNN\n",
    "from methods import *"
   ]
  },
  {
   "cell_type": "markdown",
   "id": "55dd0493",
   "metadata": {},
   "source": [
    "### Set parameters and initialise"
   ]
  },
  {
   "cell_type": "code",
   "execution_count": null,
   "id": "e21e3508-a066-47fc-8868-fbf46eebeeb6",
   "metadata": {
    "jupyter": {
     "source_hidden": true
    },
    "tags": []
   },
   "outputs": [],
   "source": [
    "\"\"\"\n",
    "# Sorscher params\n",
    "options.save_dir = '/mnt/fs2/bsorsch/grid_cells/models/'\n",
    "options.n_steps = 100000      # number of training steps\n",
    "options.batch_size = 200      # number of trajectories per batch\n",
    "options.sequence_length = 20  # number of steps in trajectory\n",
    "options.learning_rate = 1e-4  # gradient descent learning rate\n",
    "options.Np = 512              # number of place cells\n",
    "options.Ng = 4096             # number of grid cells\n",
    "options.place_cell_rf = 0.12  # width of place cell center tuning curve (m)\n",
    "options.surround_scale = 2    # if DoG, ratio of sigma2^2 to sigma1^2\n",
    "options.RNN_type = 'RNN'      # RNN or LSTM\n",
    "options.activation = 'relu'   # recurrent nonlinearity\n",
    "options.weight_decay = 1e-4   # strength of weight decay on recurrent weights\n",
    "options.DoG = True            # use difference of gaussians tuning curves\n",
    "options.periodic = False      # trajectories with periodic boundary conditions\n",
    "options.box_width = 2.2       # width of training environment\n",
    "options.box_height = 2.2      # height of training environment\n",
    "\"\"\""
   ]
  },
  {
   "cell_type": "code",
   "execution_count": null,
   "id": "62ccac93-1919-4ab0-b6a0-af08f0ea8a91",
   "metadata": {
    "tags": []
   },
   "outputs": [],
   "source": [
    "params = {}\n",
    "# Environment params\n",
    "params['boxsize'] = (2.2, 2.2)\n",
    "params['origo'] = (0,0)\n",
    "params['soft_boundary'] = 0.03 # Sorscher uses 0.03, I used to have 0.2\n",
    "# Place Cells params\n",
    "params['npcs'] = 512 # as used in Sorscher model\n",
    "params['pc_width'] = 0.12\n",
    "params['DoG'] = True\n",
    "params['seed'] = 0 # place-cell center seed\n",
    "# Training data (Agent) params\n",
    "params['batch_size'] = 200\n",
    "params['seq_len'] = 20\n",
    "params['angle0'] = None # random\n",
    "params['p0'] = None     # random\n",
    "# Agent/random walk parameters\n",
    "params['dt'] = 0.02\n",
    "params['turn_angle'] = 5.76 * 2\n",
    "params['b'] = 0.13 * 2 * np.pi\n",
    "params['mu'] = 0\n",
    "# Model params\n",
    "params['Ng'] = 4096\n",
    "params['Np'] = params['npcs'] # defined for Brain already\n",
    "params['weight_decay'] = 1e-4\n",
    "params['lr'] = 1e-4# 1e-3 is default for Adam()\n",
    "params['nsteps'] = 100 # number of mini batches in an epoch\n",
    "params['nepochs'] = 2000 # number of epochs\n",
    "\n",
    "# stuff\n",
    "params['tag'] = 'default'\n",
    "params['save_model'] = True \n",
    "params['save_freq'] = 1\n",
    "params['date'] = datetime.datetime.now()\n",
    "\n",
    "num_workers = 16\n",
    "device = torch.device('cuda' if torch.cuda.is_available() else 'cpu')\n",
    "print(f\"{device=}\")"
   ]
  },
  {
   "cell_type": "code",
   "execution_count": null,
   "id": "2cff29f0-2cb5-4eb8-9ece-72a72fb91141",
   "metadata": {
    "tags": []
   },
   "outputs": [],
   "source": [
    "# Init Environment\n",
    "environment = Rectangle(boxsize=params['boxsize'], soft_boundary=params['soft_boundary'])\n",
    "params['environment_name'] = type(environment).__name__\n",
    "\n",
    "# Init brain\n",
    "place_cells = PlaceCells(environment=environment, **params)\n",
    "\n",
    "# Init training data\n",
    "dataset = Dataset(environment=environment, place_cells=place_cells, **params)\n",
    "dataloader = torch.utils.data.DataLoader(dataset, batch_size=params['batch_size'], num_workers=num_workers)\n",
    "\n",
    "# Init model\n",
    "model = SorscherRNN(Ng=params['Ng'], Np=params['Np']) \n",
    "model.to(device)\n",
    "print(model)\n",
    "\n",
    "# Init optimizer (use custom weight decay, rather than torch optim decay)\n",
    "optimizer = torch.optim.Adam(model.parameters(), lr=params['lr'], betas=(0.9, 0.999), \\\n",
    "                             eps=1e-08, weight_decay=0.0, amsgrad=False)"
   ]
  },
  {
   "cell_type": "markdown",
   "id": "56ee8580-f195-4621-a75c-6ad55e76a58d",
   "metadata": {},
   "source": [
    "### Train Model"
   ]
  },
  {
   "cell_type": "code",
   "execution_count": null,
   "id": "bad08929-98de-4862-adcb-460f5fb06c23",
   "metadata": {
    "tags": []
   },
   "outputs": [],
   "source": [
    "checkpoint_path = '../checkpoints/'\n",
    "loss_history = []\n",
    "\n",
    "if loaded_model:=True:\n",
    "    model_name = type(model).__name__\n",
    "    checkpoints = torch.load(f'{checkpoint_path}{model_name}_{params[\"tag\"]}')\n",
    "    model.load_state_dict(checkpoints['model_state_dict'])\n",
    "    optimizer.load_state_dict(checkpoints['optimizer_state_dict'])\n",
    "    loss_history = checkpoints['loss_history']\n",
    "    training_metrics = checkpoints['training_metrics']\n",
    "    print(\"Loaded weights\")\n",
    "    \n",
    "# whether to train\n",
    "if train:=False:\n",
    "    loss_history = model.train(trainloader = dataloader, optimizer = optimizer, weight_decay=params['weight_decay'], \\\n",
    "                nepochs=params['nepochs'], loaded_model = loaded_model, \\\n",
    "                save_model = params['save_model'], save_freq = params['save_freq'], \\\n",
    "                loss_history = loss_history, training_metrics = training_metrics, tag = params['tag'], params = params)"
   ]
  },
  {
   "cell_type": "markdown",
   "id": "90a35a08-d3f8-40a0-9be7-ddc9b010f8c4",
   "metadata": {},
   "source": [
    "### Analyse Model"
   ]
  },
  {
   "cell_type": "code",
   "execution_count": null,
   "id": "9b4dd377-770d-4347-b54b-703b24a03183",
   "metadata": {},
   "outputs": [],
   "source": [
    "fig, ax = plt.subplots(ncols=4,figsize=(18,5))\n",
    "for i,(key,value) in enumerate(checkpoints['training_metrics'].items()):\n",
    "    if key == 'KL':\n",
    "        ax[i].axhline(0,ls=\":\")\n",
    "    ax[i].plot(value)\n",
    "    ax[i].set_title(key)\n",
    "\n",
    "# maximum labelled distribution entropy (uniform labelled distribution)\n",
    "n = 512\n",
    "px = np.ones(n) / n # uniform\n",
    "entropy = lambda x: -np.sum(x * np.log(x))\n",
    "entropy(px)"
   ]
  },
  {
   "cell_type": "code",
   "execution_count": null,
   "id": "656866b4-c954-4c1f-a7e4-4bd459129734",
   "metadata": {},
   "outputs": [],
   "source": [
    "plt.plot(loss_history[5:])\n",
    "plt.title('Total-loss history')\n",
    "plt.xlabel('epoch')\n",
    "plt.ylabel('loss')"
   ]
  },
  {
   "cell_type": "markdown",
   "id": "3e0f8b11-71ed-4d19-a940-b67fb4042cac",
   "metadata": {},
   "source": [
    "### Grid cells"
   ]
  },
  {
   "cell_type": "code",
   "execution_count": null,
   "id": "61ed3c9f-cdf3-4f01-90ba-788446a0283b",
   "metadata": {
    "tags": []
   },
   "outputs": [],
   "source": [
    "save_name = type(model).__name__ + '_' + params['tag']\n",
    "if save_ratemaps:=False:\n",
    "    idxs=slice(0, params['Ng'], 1)\n",
    "    res=np.array([32, 32])\n",
    "    board, ratemaps, response_maps, count_maps = rate_map(model=model.g, environment=environment, dataset=dataset, seq_len=params['seq_len'], \\\n",
    "                  res=res, idxs=idxs, num_samples=1)\n",
    "    # pickle rate_maps\n",
    "    save_obj(ratemaps, save_name + \"/ratemaps\")\n",
    "\n",
    "elif load_ratemaps:=True:\n",
    "    ratemaps = load_obj(save_name + \"/ratemaps\")"
   ]
  },
  {
   "cell_type": "code",
   "execution_count": null,
   "id": "d1219ff1-9a96-4bf8-8106-d4496ac0c285",
   "metadata": {},
   "outputs": [],
   "source": [
    "#fig, ax = multicontourf(*board.T, rate_maps)\n",
    "start_idx = 512\n",
    "num_ratemaps = 256\n",
    "fig, ax = multiimshow(ratemaps[start_idx:start_idx+num_ratemaps])"
   ]
  },
  {
   "cell_type": "markdown",
   "id": "897a7f22-e27d-4971-8115-1132ebf9f568",
   "metadata": {},
   "source": [
    "### Predicted place Cells"
   ]
  },
  {
   "cell_type": "code",
   "execution_count": null,
   "id": "5909fbd0-c6e8-47e6-aadd-46c3607fe07f",
   "metadata": {},
   "outputs": [],
   "source": [
    "\"\"\"\n",
    "board, rate_maps, _, _ = rate_map(model=model, environment=environment, dataset=dataset, seq_len=params['seq_len'], \\\n",
    "              res=res, idxs=idxs, num_samples=1)\n",
    "#fig, ax = multicontourf(*board.T, rate_maps)\n",
    "fig, ax = multiimshow(rate_maps)\n",
    "\"\"\""
   ]
  },
  {
   "cell_type": "markdown",
   "id": "b99b07fd-b6cc-4d46-94a2-eb1d07f40612",
   "metadata": {},
   "source": [
    "### Predicted Place cells - SOFTMAX"
   ]
  },
  {
   "cell_type": "code",
   "execution_count": null,
   "id": "253c76e9-613f-46d3-bfb8-adc97239b7c4",
   "metadata": {},
   "outputs": [],
   "source": [
    "\"\"\"\n",
    "forward_with_softmax = lambda x: torch.exp(model(x, log_softmax=True))\n",
    "board, rate_maps, _, _ = rate_map(model=forward_with_softmax, environment=environment, dataset=dataset, seq_len=params['seq_len'], \\\n",
    "              res=res, idxs=idxs, num_samples=1)\n",
    "#fig, ax = multicontourf(*board.T, rate_maps)\n",
    "fig, ax = multiimshow(rate_maps)\n",
    "\"\"\""
   ]
  },
  {
   "cell_type": "markdown",
   "id": "d37b0e08-a61c-4cb5-98ca-32d53dab9f8c",
   "metadata": {},
   "source": [
    "### Labelled place cells"
   ]
  },
  {
   "cell_type": "code",
   "execution_count": null,
   "id": "acecf65e-07fb-4ecb-bd6e-03cbc3ef9dfd",
   "metadata": {},
   "outputs": [],
   "source": [
    "\"\"\"\n",
    "board, rate_maps, _, _ = rate_map(model='labels', environment=environment, dataset=dataset, seq_len=params['seq_len'], \\\n",
    "              res=res, idxs=idxs, num_samples=1)\n",
    "#fig, ax = multicontourf(*board.T, rate_maps)\n",
    "fig, ax = multiimshow(rate_maps)\n",
    "\"\"\""
   ]
  },
  {
   "cell_type": "code",
   "execution_count": null,
   "id": "adfd1d49-da3f-4566-bdaa-d4e1b86d8dc7",
   "metadata": {},
   "outputs": [],
   "source": [
    "model.prune_mask = list(range(int(4096/2),4096))"
   ]
  },
  {
   "cell_type": "code",
   "execution_count": null,
   "id": "1458ccf6-523c-4c5d-a99c-141678df5ee1",
   "metadata": {},
   "outputs": [],
   "source": [
    "model.prune_mask = []"
   ]
  },
  {
   "cell_type": "code",
   "execution_count": null,
   "id": "888216c9-59b1-4328-98ad-23eb539fb8e3",
   "metadata": {},
   "outputs": [],
   "source": [
    "model.prune_mask"
   ]
  },
  {
   "cell_type": "code",
   "execution_count": null,
   "id": "d860630b-994e-4cd1-be6a-60d62aaaed95",
   "metadata": {},
   "outputs": [],
   "source": [
    "idxs=slice(0, 16**2, 1)\n",
    "res=np.array([32, 32])\n",
    "board, rate_maps, response_maps, count_maps = rate_map(model=model.g, environment=environment, dataset=dataset, seq_len=params['seq_len'], \\\n",
    "              res=res, idxs=idxs, num_samples=1)\n",
    "#fig, ax = multicontourf(*board.T, rate_maps)\n",
    "fig, ax = multiimshow(rate_maps)"
   ]
  },
  {
   "cell_type": "markdown",
   "id": "9a40c4a6-f727-4fd7-928c-a583c08ea080",
   "metadata": {},
   "source": [
    "### Decoding labels and predictions to cartesian"
   ]
  },
  {
   "cell_type": "code",
   "execution_count": null,
   "id": "737f3b6b-92cc-412c-b038-11bb8e02cbbc",
   "metadata": {},
   "outputs": [],
   "source": [
    "dataset.return_cartesian = True\n",
    "[[vel, init_pos], labels, true_cartesian_pos] = dataset[0]\n",
    "dataset.return_cartesian = False\n",
    "true_decoded_pos = place_cells.to_euclid(torch.cat([init_pos[None], labels]))\n",
    "pc_preds = model([vel, init_pos]).detach().cpu()[0]\n",
    "predicted_decoded_pos = place_cells.to_euclid(torch.cat([init_pos[None], pc_preds]))"
   ]
  },
  {
   "cell_type": "code",
   "execution_count": null,
   "id": "888cd951-d0ca-47f7-93df-a48bd4cd6a21",
   "metadata": {},
   "outputs": [],
   "source": [
    "plt.plot(*true_decoded_pos.T, label='true_decoded_pos')\n",
    "plt.plot(*true_cartesian_pos.T, label='true_cartesian_pos')\n",
    "plt.plot(*predicted_decoded_pos.T, label='predicted_decoded_pos')\n",
    "plt.xlim(environment.origo[0],environment.boxsize[0])\n",
    "plt.ylim(environment.origo[1],environment.boxsize[1])\n",
    "plt.legend()"
   ]
  },
  {
   "cell_type": "markdown",
   "id": "f961bd5c-05ce-4ec0-9e89-9845243e38cb",
   "metadata": {},
   "source": [
    "### Plot all place cell centers and some with tuning curves"
   ]
  },
  {
   "cell_type": "code",
   "execution_count": null,
   "id": "08c0284b-16f7-401d-af6a-1e042e2b4cf2",
   "metadata": {},
   "outputs": [],
   "source": [
    "fig, ax = plt.subplots()\n",
    "x,y = place_cells.pcs.T\n",
    "\n",
    "ax.plot(x, y, \"+\")\n",
    "# add standard deviation circles to locations\n",
    "for i in range(5):\n",
    "    ax.plot(x[i], y[i], \"r+\")\n",
    "    a_circle = plt.Circle((x[i], y[i]), params['pc_width'], fill=False, color=(1, 0, 0, 0.5))\n",
    "    ax.add_artist(a_circle)\n",
    "\n",
    "plt.title(\"Spatial plot of place cell locations\")\n",
    "plt.xlabel(\"X\")\n",
    "plt.ylabel(\"Y\")\n",
    "plt.show()"
   ]
  },
  {
   "cell_type": "markdown",
   "id": "69ba8623-47eb-424d-95b9-6d80d79de68c",
   "metadata": {},
   "source": [
    "### Calculate grid scores using different implementations of the metric"
   ]
  },
  {
   "cell_type": "code",
   "execution_count": null,
   "id": "74fd8c8c-32ab-420a-97de-8751594d2dca",
   "metadata": {},
   "outputs": [],
   "source": [
    "# get grid cells\n",
    "idxs=slice(0, 128, 1)\n",
    "board, rate_maps, response_maps, count_maps = rate_map(model=model.g, environment=environment, dataset=dataset, seq_len=params['seq_len'], \\\n",
    "              res=res, idxs=idxs, num_samples=1)"
   ]
  },
  {
   "cell_type": "code",
   "execution_count": null,
   "id": "c20675fc-dc2e-4ff7-87c1-5bff46d83dd0",
   "metadata": {},
   "outputs": [],
   "source": [
    "# Custom grid score\n",
    "print(\"CUSTOM:\", grid_score(rate_maps[1])) \n",
    "\n",
    "# CINPLA grid score\n",
    "import spatial_maps as sm\n",
    "print(\"CINPLA:\", sm.gridness(rate_maps[1])) \n",
    "\n",
    "# BANINO (and Sorscher) grid scoring\n",
    "from scores import GridScorer\n",
    "\"\"\"\n",
    "One difference from custom and CINPLA grid scores: \n",
    "1. Uses average difference between phase60 and phase30 correlations\n",
    "\"\"\"\n",
    "starts = [0.2] * 10\n",
    "ends = np.linspace(0.4, 1.0, num=10)\n",
    "coord_range=((0, environment.boxsize[0]), (0, environment.boxsize[1]))\n",
    "box_width, box_height = 2.2, 2.2\n",
    "coords_range=((-box_width/2, box_width/2), (-box_height/2, box_height/2))\n",
    "mask_parameters = zip(starts, ends.tolist())\n",
    "scorer = GridScorer(nbins=res[0], coords_range=coords_range, mask_parameters=mask_parameters)\n",
    "\n",
    "#score_60, score_90, max_60_mask, max_90_mask, sac, max_60_ind = zip(\n",
    "#      *[scorer.get_scores(rm.reshape(res, res)) for rm in tqdm(rate_map_lores)])\n",
    "score_60, score_90, max_60_mask, max_90_mask, sac = scorer.get_scores(rate_maps[1])\n",
    "print(\"BANINO/SORSCHER:\", score_60)"
   ]
  },
  {
   "cell_type": "code",
   "execution_count": null,
   "id": "d80105ea-8683-4c30-a027-e0c958c4bfa4",
   "metadata": {},
   "outputs": [],
   "source": [
    "# choose grid scoring function to use, e.g: grid_score, sm.gridness or scorer.get_scores\n",
    "# for scorer.get_scores use: < (lambda rm: scorer.get_scores(rm)[0])(rate_map) >\n",
    "grid_scoring_fn = lambda rate_map: sm.gridness(rate_map)\n",
    "\n",
    "#map(grid_scoring_fn, *rate_maps)\n",
    "grid_scoring_fn(rate_maps[1])"
   ]
  },
  {
   "cell_type": "markdown",
   "id": "de3cbc7d-5feb-4d5e-acdb-99c88f14b1fe",
   "metadata": {},
   "source": [
    "### Small analysis / checks / tests etc"
   ]
  },
  {
   "cell_type": "code",
   "execution_count": null,
   "id": "211373b1-2a56-49ea-b6c3-4ab5de3a088c",
   "metadata": {},
   "outputs": [],
   "source": [
    "# Wr = model.recurrence.weight.detach().cpu().numpy()\n",
    "Wr = model.RNN.weight_hh_l0.detach().cpu().numpy()\n",
    "stats = lambda W : print(f\"{np.min(W)=}, {np.max(W)=}, {np.min(abs(W))=}, {np.mean(W)=}, {np.std(W)=}, {np.sum(W**2)=}\")\n",
    "stats(Wr)\n",
    "plt.imshow(Wr[:25,:25])\n",
    "plt.colorbar()"
   ]
  },
  {
   "cell_type": "code",
   "execution_count": null,
   "id": "a44ae245-f59f-4ee6-b3c3-6f5b8ab29a25",
   "metadata": {},
   "outputs": [],
   "source": [
    "Wp = model.init_position_encoder.weight.detach().cpu().numpy()\n",
    "stats = lambda W : print(f\"{np.min(W)=}, {np.max(W)=}, {np.min(abs(W))=}, {np.mean(W)=}, {np.std(W)=}, {np.sum(W**2)=}\")\n",
    "stats(Wp)\n",
    "plt.imshow(Wp)\n",
    "plt.colorbar()"
   ]
  },
  {
   "cell_type": "code",
   "execution_count": null,
   "id": "6afd4981-2870-4fca-a590-ae8b55792942",
   "metadata": {},
   "outputs": [],
   "source": []
  }
 ],
 "metadata": {
  "kernelspec": {
   "display_name": "Python 3 (ipykernel)",
   "language": "python",
   "name": "python3"
  },
  "language_info": {
   "codemirror_mode": {
    "name": "ipython",
    "version": 3
   },
   "file_extension": ".py",
   "mimetype": "text/x-python",
   "name": "python",
   "nbconvert_exporter": "python",
   "pygments_lexer": "ipython3",
   "version": "3.7.10"
  }
 },
 "nbformat": 4,
 "nbformat_minor": 5
}
