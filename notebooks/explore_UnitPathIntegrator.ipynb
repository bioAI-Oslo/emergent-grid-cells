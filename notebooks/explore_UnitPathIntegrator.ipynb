{
 "cells": [
  {
   "cell_type": "code",
   "execution_count": 1,
   "id": "7e82f7fc",
   "metadata": {},
   "outputs": [],
   "source": [
    "%load_ext autoreload\n",
    "%autoreload 2\n",
    "#%matplotlib notebook\n",
    "%matplotlib inline"
   ]
  },
  {
   "cell_type": "code",
   "execution_count": 2,
   "id": "70401762",
   "metadata": {},
   "outputs": [],
   "source": [
    "import numpy as np\n",
    "import matplotlib.pyplot as plt\n",
    "import tensorflow as tf\n",
    "from scipy.spatial.distance import euclidean\n",
    "\n",
    "import sys\n",
    "sys.path.append(\"../src\") if \"../src\" not in sys.path else None # avoid adding multiple relave paths to sys.path"
   ]
  },
  {
   "cell_type": "code",
   "execution_count": 3,
   "id": "19e95ebb",
   "metadata": {},
   "outputs": [],
   "source": [
    "from Agent import Agent, trajectory_generator, batch_trajectory_generator\n",
    "from Environment import Rectangle\n",
    "from Models import SorscherRNN, UnitPathIntegrator\n",
    "\n",
    "from ctimeit import ctimeit # for timing"
   ]
  },
  {
   "cell_type": "markdown",
   "id": "b3a33142-a4b6-43be-960d-b259dbc74ca7",
   "metadata": {},
   "source": [
    "# Initialise Environment"
   ]
  },
  {
   "cell_type": "code",
   "execution_count": 4,
   "id": "87ba62bd-5932-43dc-8b6b-79a94c74a221",
   "metadata": {},
   "outputs": [
    {
     "name": "stdout",
     "output_type": "stream",
     "text": [
      "Singular matrix\n",
      "Singular matrix\n"
     ]
    }
   ],
   "source": [
    "# Environment params\n",
    "boxsize = (2.2, 2.2)\n",
    "origo = (0,0)\n",
    "soft_boundary = 0.2\n",
    "\n",
    "# Init Environment\n",
    "env = Rectangle(boxsize=boxsize, soft_boundary=soft_boundary)\n",
    "env.avoid_walls = None"
   ]
  },
  {
   "cell_type": "markdown",
   "id": "9c93a178-f2d5-4dcb-8079-b525c323f0f1",
   "metadata": {},
   "source": [
    "# Initialise Agent / Data generator"
   ]
  },
  {
   "cell_type": "code",
   "execution_count": 5,
   "id": "87a97e4a-38ab-4ff1-8d98-d195055f6c4a",
   "metadata": {},
   "outputs": [],
   "source": [
    "# Training data (Agent) params\n",
    "batch_size = 32\n",
    "seq_len = 2\n",
    "angle0 = None # random\n",
    "p0 = None     # random\n",
    "# As used by Sorscher\n",
    "dt = 0.02\n",
    "sigma = 5.76 * 2\n",
    "b = 0.13 * 2 * np.pi\n",
    "mu = 0\n",
    "\n",
    "# Init training data\n",
    "btg = batch_trajectory_generator(batch_size, env, seq_len, angle0, p0, dt=dt, sigma=sigma, b=b, mu=mu)"
   ]
  },
  {
   "cell_type": "markdown",
   "id": "9b0bdebb-a788-4a80-b6a1-762cc00cb05b",
   "metadata": {},
   "source": [
    "# Format data-generator"
   ]
  },
  {
   "cell_type": "code",
   "execution_count": 6,
   "id": "81620f78-a82e-4080-a45e-8cb60d57971c",
   "metadata": {},
   "outputs": [],
   "source": [
    "def to_one_hot(x):\n",
    "    \"\"\"OBS! if max(x,axis=-1) is not unique, then return result is not one-hot, but k-hot\"\"\"\n",
    "    return np.where(x == np.max(x,axis=-1,keepdims=True),1,0)\n",
    "    \n",
    "def data_generator(btg):\n",
    "    while True:\n",
    "        pos, vel = next(btg)\n",
    "        init_pos, y_true = pos[:,0], pos[:,1] # \"next\" pos is label\n",
    "        vel = vel[:,1] # first velocity (idx 0) is always 0 (initial vel)\n",
    "        yield (vel,init_pos), y_true \n",
    "\n",
    "# Initialise data generator\n",
    "dg = data_generator(btg)"
   ]
  },
  {
   "cell_type": "markdown",
   "id": "c869bdb3-13a4-4e3a-bd12-b90bc9d87f0f",
   "metadata": {},
   "source": [
    "# Specify and instantiate Model"
   ]
  },
  {
   "cell_type": "code",
   "execution_count": 7,
   "id": "e5a0cfb2-4b98-41b2-a536-455912238784",
   "metadata": {},
   "outputs": [
    {
     "name": "stdout",
     "output_type": "stream",
     "text": [
      "Model: \"unit_path_integrator\"\n",
      "_________________________________________________________________\n",
      "Layer (type)                 Output Shape              Param #   \n",
      "=================================================================\n",
      "velocity_encoder (Dense)     multiple                  4         \n",
      "_________________________________________________________________\n",
      "init_position_encoder (Dense multiple                  4         \n",
      "_________________________________________________________________\n",
      "decoder (Dense)              multiple                  4         \n",
      "_________________________________________________________________\n",
      "activation (Activation)      multiple                  0         \n",
      "=================================================================\n",
      "Total params: 12\n",
      "Trainable params: 12\n",
      "Non-trainable params: 0\n",
      "_________________________________________________________________\n"
     ]
    }
   ],
   "source": [
    "# Model params\n",
    "Ng=2\n",
    "Np=2\n",
    "weight_decay=1e-4\n",
    "activation=None#\"relu\"\n",
    "lr=1e-3 # 1e-3 is default for Adam()\n",
    "\n",
    "# model init\n",
    "model = UnitPathIntegrator(Ng,Np,weight_decay,activation)\n",
    "\n",
    "model.compile(\n",
    "    optimizer=tf.keras.optimizers.Adam(lr=lr),\n",
    "    loss=tf.keras.losses.MeanAbsoluteError()\n",
    ")\n",
    "\n",
    "# Build (by specifying input_shape) and summarize model\n",
    "input_shape = [(batch_size, 2), (batch_size, Np)] # velocity-input UNION initial-state\n",
    "model.build(input_shape)\n",
    "model.summary()"
   ]
  },
  {
   "cell_type": "markdown",
   "id": "4c31da13-0e83-4f1b-a138-685a1f41e4a2",
   "metadata": {},
   "source": [
    "# Train model"
   ]
  },
  {
   "cell_type": "code",
   "execution_count": 8,
   "id": "93c61024-7ae7-4612-8bcc-8b205b8db193",
   "metadata": {
    "tags": []
   },
   "outputs": [
    {
     "name": "stdout",
     "output_type": "stream",
     "text": [
      "Epoch 1/15\n",
      "200/200 [==============================] - 2s 7ms/step - loss: 1.1186\n",
      "Epoch 2/15\n",
      "200/200 [==============================] - 1s 7ms/step - loss: 0.6749\n",
      "Epoch 3/15\n",
      "200/200 [==============================] - 1s 5ms/step - loss: 0.4923\n",
      "Epoch 4/15\n",
      "200/200 [==============================] - 1s 5ms/step - loss: 0.3907\n",
      "Epoch 5/15\n",
      "200/200 [==============================] - 1s 5ms/step - loss: 0.3071\n",
      "Epoch 6/15\n",
      "200/200 [==============================] - 1s 5ms/step - loss: 0.1968\n",
      "Epoch 7/15\n",
      "200/200 [==============================] - 1s 6ms/step - loss: 0.0503\n",
      "Epoch 8/15\n",
      "200/200 [==============================] - 1s 5ms/step - loss: 0.0114\n",
      "Epoch 9/15\n",
      "200/200 [==============================] - 1s 6ms/step - loss: 0.0092\n",
      "Epoch 10/15\n",
      "200/200 [==============================] - 1s 7ms/step - loss: 0.0074\n",
      "Epoch 11/15\n",
      "200/200 [==============================] - 1s 6ms/step - loss: 0.0054\n",
      "Epoch 12/15\n",
      "200/200 [==============================] - 1s 5ms/step - loss: 0.0038\n",
      "Epoch 13/15\n",
      "200/200 [==============================] - 1s 6ms/step - loss: 0.0021\n",
      "Epoch 14/15\n",
      "200/200 [==============================] - 1s 6ms/step - loss: 9.2149e-04\n",
      "Epoch 15/15\n",
      "200/200 [==============================] - 1s 5ms/step - loss: 7.7061e-04\n"
     ]
    },
    {
     "data": {
      "text/plain": [
       "<tensorflow.python.keras.callbacks.History at 0x7f4958609bb0>"
      ]
     },
     "execution_count": 8,
     "metadata": {},
     "output_type": "execute_result"
    }
   ],
   "source": [
    "# train model\n",
    "epochs = 15\n",
    "steps_per_epoch = 200\n",
    "model.fit(x=dg, epochs=epochs, steps_per_epoch=steps_per_epoch)"
   ]
  },
  {
   "cell_type": "code",
   "execution_count": 9,
   "id": "b26d636a-e64e-4d51-bcc0-8d539fadd066",
   "metadata": {},
   "outputs": [
    {
     "data": {
      "text/plain": [
       "[<tf.Variable 'velocity_encoder/kernel:0' shape=(2, 2) dtype=float32, numpy=\n",
       " array([[-1.1223828 , -0.41783872],\n",
       "        [ 0.04182081,  1.2343307 ]], dtype=float32)>,\n",
       " <tf.Variable 'init_position_encoder/kernel:0' shape=(2, 2) dtype=float32, numpy=\n",
       " array([[-1.1253455 , -0.4160894 ],\n",
       "        [ 0.03968569,  1.233881  ]], dtype=float32)>,\n",
       " <tf.Variable 'decoder/kernel:0' shape=(2, 2) dtype=float32, numpy=\n",
       " array([[-0.89914596, -0.30311564],\n",
       "        [ 0.02876061,  0.81992716]], dtype=float32)>]"
      ]
     },
     "execution_count": 9,
     "metadata": {},
     "output_type": "execute_result"
    }
   ],
   "source": [
    "# Ideal path integrator in Euclidean coordinates for a model: p = C@activation(A@v + B@p0) \n",
    "# should yield all weights as idendity weights ? \n",
    "model.weights"
   ]
  },
  {
   "cell_type": "markdown",
   "id": "0f4a2531-42ba-4344-90b8-14eacff6cb43",
   "metadata": {},
   "source": [
    "# Interesting observations"
   ]
  },
  {
   "cell_type": "code",
   "execution_count": 24,
   "id": "24a155e7-2718-4531-939a-b342b70ffc9f",
   "metadata": {},
   "outputs": [
    {
     "name": "stdout",
     "output_type": "stream",
     "text": [
      "--- Are the three weight matricies approximately equal? ---\n",
      "\n",
      "A =  [[-1.1223828  -0.41783872]\n",
      " [ 0.04182081  1.2343307 ]]\n",
      "B =  [[-1.1253455  -0.4160894 ]\n",
      " [ 0.03968569  1.233881  ]]\n",
      "C^-1 =  [[-1.1254752  -0.4160725 ]\n",
      " [ 0.03947833  1.2342151 ]]\n",
      "\n",
      "sum(abs(A-B)) = 0.007296815514564514\n",
      "sum(abs(A-C^-1)) = 0.007316630333662033\n",
      "sum(abs(B-C^-1)) = 0.0006881020963191986\n"
     ]
    }
   ],
   "source": [
    "# ACTUALLY! The weights doesn't have to be indentities, i.e.: < I >. It also works if \n",
    "# A = B, and C = A.inverse(). Thus, A & B are linear basis changes for A & B which is also a vector space?\n",
    "# Thus their addition is well-defined. Afterwards, the inverse linear transform C takes us back into our \n",
    "# original coordinate system.\n",
    "\n",
    "A,B,C = model.weights\n",
    "A,B,C = A.numpy(),B.numpy(),C.numpy()\n",
    "\n",
    "# Check if decoder weight is the inverse of the encoder weights\n",
    "print(\"--- Are the three weight matricies approximately equal? ---\\n\")\n",
    "print(\"A = \",A)\n",
    "print(\"B = \",B)\n",
    "print(\"C^-1 = \",np.linalg.inv(C))\n",
    "\n",
    "\n",
    "C_inv = np.linalg.inv(C)\n",
    "print(\"\\nsum(abs(A-B)) = {}\".format(np.sum(np.abs(A-B))))\n",
    "print(\"sum(abs(A-C^-1)) = {}\".format(np.sum(np.abs(A-C_inv))))\n",
    "print(\"sum(abs(B-C^-1)) = {}\".format(np.sum(np.abs(B-C_inv))))"
   ]
  },
  {
   "cell_type": "code",
   "execution_count": 11,
   "id": "6963bdd1-08c2-4e2e-b078-f65ee3e242ec",
   "metadata": {},
   "outputs": [],
   "source": [
    "(vel,init_pos), y_true = next(dg)\n",
    "idx = 0\n",
    "y_pred = model((vel,init_pos))"
   ]
  }
 ],
 "metadata": {
  "kernelspec": {
   "display_name": "Python 3",
   "language": "python",
   "name": "python3"
  },
  "language_info": {
   "codemirror_mode": {
    "name": "ipython",
    "version": 3
   },
   "file_extension": ".py",
   "mimetype": "text/x-python",
   "name": "python",
   "nbconvert_exporter": "python",
   "pygments_lexer": "ipython3",
   "version": "3.8.8"
  }
 },
 "nbformat": 4,
 "nbformat_minor": 5
}
