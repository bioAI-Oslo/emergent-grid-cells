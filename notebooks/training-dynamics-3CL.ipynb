{
 "cells": [
  {
   "cell_type": "markdown",
   "id": "be522a85-71a1-4918-a711-f493aefb26ad",
   "metadata": {
    "tags": []
   },
   "source": [
    "### Imports"
   ]
  },
  {
   "cell_type": "code",
   "execution_count": 1,
   "id": "996cfee3",
   "metadata": {
    "tags": []
   },
   "outputs": [],
   "source": [
    "%load_ext autoreload\n",
    "%autoreload 2\n",
    "#%matplotlib notebook\n",
    "%matplotlib inline"
   ]
  },
  {
   "cell_type": "code",
   "execution_count": 7,
   "id": "9f109164",
   "metadata": {
    "tags": []
   },
   "outputs": [],
   "source": [
    "# Computational packages\n",
    "import numpy as np\n",
    "import matplotlib.pyplot as plt\n",
    "import torch\n",
    "import tqdm\n",
    "plt.style.use('../bioAI.mplstyle')\n",
    "\n",
    "# General packages\n",
    "import datetime\n",
    "import sys\n",
    "import os\n",
    "\n",
    "# custom packages\n",
    "import ratsimulator\n",
    "from ratsimulator.Environment import Rectangle\n",
    "import spatial_maps as sm # CINPLA spatial maps\n",
    "\n",
    "# avoid adding multiple relave paths to sys.path\n",
    "sys.path.append(\"../src\") if \"../src\" not in sys.path else None \n",
    "from PlaceCells import PlaceCells\n",
    "from Models import SorscherRNN\n",
    "from Experiment import Experiment\n",
    "from methods import *\n",
    "from datahandling import *\n",
    "from Plots import *\n",
    "from plotting_functions import *"
   ]
  },
  {
   "cell_type": "markdown",
   "id": "22fb2b7a-33d6-499f-b899-7f249416b36d",
   "metadata": {},
   "source": [
    "### Setup Experiment"
   ]
  },
  {
   "cell_type": "code",
   "execution_count": 8,
   "id": "57ff00f3-81cd-4031-8e86-28d9955f6572",
   "metadata": {},
   "outputs": [
    {
     "name": "stdout",
     "output_type": "stream",
     "text": [
      "Experiment <gg-3CL> already EXISTS. Loading experiment settings!\n",
      "Loading experiment details\n",
      "This experiment has ALREADY been setup - SKIPPING.\n"
     ]
    },
    {
     "data": {
      "text/plain": [
       "False"
      ]
     },
     "execution_count": 8,
     "metadata": {},
     "output_type": "execute_result"
    }
   ],
   "source": [
    "base_path = \"/mnt/WD12TB-HDD\"\n",
    "experiment = Experiment(name := 'gg-3CL', base_path = base_path)\n",
    "experiment.setup()"
   ]
  },
  {
   "cell_type": "code",
   "execution_count": 9,
   "id": "6afd4981-2870-4fca-a590-ae8b55792942",
   "metadata": {},
   "outputs": [
    {
     "name": "stdout",
     "output_type": "stream",
     "text": [
      "Loading model at epoch = 02999\n"
     ]
    }
   ],
   "source": [
    "checkpoint_filenames = filenames(experiment.paths['checkpoints'])\n",
    "# load model latest (wrt. #epochs trained)\n",
    "print(f\"Loading model at epoch = {checkpoint_filenames[-1]}\")\n",
    "checkpoint = torch.load(experiment.paths['checkpoints'] / checkpoint_filenames[-1])\n",
    "with open(experiment.paths[\"experiment\"] / \"logger.pkl\", \"rb\") as f:\n",
    "    logger = pickle.load(f)"
   ]
  },
  {
   "cell_type": "markdown",
   "id": "c63961f5-4fcd-4738-ab1c-ef56f2068be2",
   "metadata": {},
   "source": [
    "### Helper functions"
   ]
  },
  {
   "cell_type": "code",
   "execution_count": 10,
   "id": "5fcaa03e-4f77-416d-966e-59c3e04c0110",
   "metadata": {},
   "outputs": [],
   "source": [
    "def metric_fraction_to_checkpoint():\n",
    "    checkpoint_phase_nums = [990,1990,2990]\n",
    "    checkpoint_phase_filenames = [\n",
    "        f\"{checkpoint_phase_num:05d}.pkl\"\n",
    "        for checkpoint_phase_num in checkpoint_phase_nums\n",
    "    ]\n",
    "    return checkpoint_phase_filenames, checkpoint_phase_nums\n",
    "\n",
    "def load_grid_scores():\n",
    "    # load grid scores for environments\n",
    "    score_maps = []\n",
    "    sorted_idxs = []\n",
    "    grid_score_filenames = ['00990_env_0.pkl', '01990_env_1.pkl', '02990_env_2.pkl']\n",
    "    for grid_score_filename in grid_score_filenames:#filenames(experiment.paths[\"grid_scores\"]):\n",
    "        with open(experiment.paths[\"grid_scores\"] / grid_score_filename, \"rb\") as f:\n",
    "            score_map = pickle.load(f)\n",
    "        sorted_idxs.append(np.argsort(score_map)[::-1])\n",
    "        score_maps.append(score_map)\n",
    "\n",
    "    # select the best cell for each environment separately\n",
    "    selected_sorted_cells_idxs = []\n",
    "    for env_i in range(len(experiment.environments)):\n",
    "        selected_sorted_cells_idxs.append(sorted_idxs[env_i][0])\n",
    "    selected_sorted_cells_idxs.append(0) # add a fourth random cell\n",
    "\n",
    "    # get the grid score for each of the \"selected\" cells\n",
    "    selected_cell_scores = []\n",
    "    for env_i in range(len(experiment.environments)):\n",
    "        selected_cell_scores.append([])\n",
    "        for selected_sorted_cells_idx in selected_sorted_cells_idxs:\n",
    "            selected_cell_scores[env_i].append(\n",
    "                np.around(score_maps[env_i][selected_sorted_cells_idx], decimals=2)\n",
    "            )\n",
    "\n",
    "    return selected_sorted_cells_idxs, selected_cell_scores\n",
    "\n",
    "checkpoint_phase_filenames, checkpoint_phase_nums = metric_fraction_to_checkpoint()\n",
    "selected_sorted_cells_idxs, selected_cell_scores = load_grid_scores()"
   ]
  },
  {
   "cell_type": "code",
   "execution_count": 11,
   "id": "3466fad9-3f2c-4ab6-a0d0-16026a7b03ef",
   "metadata": {},
   "outputs": [
    {
     "data": {
      "text/plain": [
       "(4.77376504773765, 4.77376504773765)"
      ]
     },
     "execution_count": 11,
     "metadata": {},
     "output_type": "execute_result"
    }
   ],
   "source": [
    "panesize = set_size(width=345, mode='square')\n",
    "panesize"
   ]
  },
  {
   "cell_type": "code",
   "execution_count": 12,
   "id": "51619472-d882-4ed9-a5ef-286344a56918",
   "metadata": {},
   "outputs": [
    {
     "data": {
      "image/png": "[encoded data removed]",
      "text/plain": [
       "<Figure size 85.9278x114.57 with 1 Axes>"
      ]
     },
     "metadata": {
      "needs_background": "light"
     },
     "output_type": "display_data"
    }
   ],
   "source": [
    "#figsize=(panesize[0]/3, panesize[1]/4) # histories beneath\n",
    "figsize=(panesize[0]/4, panesize[1]/3) # histories to left\n",
    "fig, ax = plt.subplots(figsize=figsize)\n",
    "ax.plot(logger.training_metrics['familiar']['KL'],label='familiar')\n",
    "ax.plot(logger.training_metrics['novel']['KL'],label='novel')\n",
    "ax.legend()\n",
    "ax.axhline(0,ls=\":\")\n",
    "ax.set_ylabel('KL-Divergence')\n",
    "ax.xaxis.set_visible(False)\n",
    "[ax.axvline(num, linestyle=\":\") for num in checkpoint_phase_nums]\n",
    "\n",
    "os.makedirs(experiment.paths['experiment'] / 'plots', exist_ok=True)\n",
    "fig.savefig(experiment.paths['experiment'] / 'plots/loss-history')"
   ]
  },
  {
   "cell_type": "code",
   "execution_count": 13,
   "id": "1c12599a-cf8e-4379-aab3-39a1a2e96ba4",
   "metadata": {},
   "outputs": [
    {
     "data": {
      "image/png": "[encoded data removed]",
      "text/plain": [
       "<Figure size 85.9278x114.57 with 1 Axes>"
      ]
     },
     "metadata": {
      "needs_background": "light"
     },
     "output_type": "display_data"
    }
   ],
   "source": [
    "fig, ax = plt.subplots(figsize=figsize)\n",
    "ax.plot(logger.training_metrics['familiar']['l2_reg'])\n",
    "ax.axhline(0,ls=\":\")\n",
    "ax.set_ylabel('L2-Penalty')\n",
    "ax.xaxis.set_visible(False)\n",
    "[ax.axvline(num, linestyle=\":\") for num in checkpoint_phase_nums]\n",
    "\n",
    "fig.savefig(experiment.paths['experiment'] / 'plots/l2-penalty')"
   ]
  },
  {
   "cell_type": "code",
   "execution_count": 14,
   "id": "dbe22eaa-d7f0-448d-8d71-d007205dfa30",
   "metadata": {},
   "outputs": [
    {
     "data": {
      "image/png": "[encoded data removed]",
      "text/plain": [
       "<Figure size 85.9278x114.57 with 1 Axes>"
      ]
     },
     "metadata": {
      "needs_background": "light"
     },
     "output_type": "display_data"
    }
   ],
   "source": [
    "fig, ax = plt.subplots(figsize=figsize)\n",
    "ax.plot(logger.training_metrics['familiar']['pred_error'],label='familiar')\n",
    "ax.plot(logger.training_metrics['novel']['pred_error'],label='novel')\n",
    "ax.plot(logger.training_metrics['familiar']['true_error'],label='true')\n",
    "ax.legend()\n",
    "ax.set_ylabel('Decoding Error')\n",
    "ax.set_xlabel('t [Epochs]')\n",
    "[ax.axvline(num, linestyle=\":\") for num in checkpoint_phase_nums]\n",
    "\n",
    "fig.savefig(experiment.paths['experiment'] / 'plots/decoding-error')"
   ]
  },
  {
   "cell_type": "code",
   "execution_count": 19,
   "id": "3385d0ba-6fa3-407c-abf9-75cbec6f0d7e",
   "metadata": {},
   "outputs": [
    {
     "data": {
      "image/png": "[encoded data removed]",
      "text/plain": [
       "<Figure size 257.783x114.57 with 12 Axes>"
      ]
     },
     "metadata": {},
     "output_type": "display_data"
    }
   ],
   "source": [
    "fig, axs = plt.subplots(nrows=2,ncols=6,figsize=(figsize[0]*3,figsize[1]))\n",
    "[axis_off_labels_on(ax) for ax in axs.flat]\n",
    "#selected_sorted_cells = [20, 51, 2048, 4095]\n",
    "#selected_sorted_cells = [0, 1, 7, 8]\n",
    "\n",
    "j = 2 # MANUALLY CHOOSE j=0, j=1 and j=2\n",
    "fig.supylabel(f't={checkpoint_phase_nums[j]}')\n",
    "checkpoint_phase_filename = checkpoint_phase_filenames[j]\n",
    "\n",
    "for env_i in range(len(experiment.environments)):\n",
    "    ratemap_filename = (\n",
    "        experiment.paths[\"ratemaps\"]\n",
    "        / f\"env_{env_i}\"\n",
    "        / checkpoint_phase_filename\n",
    "    )\n",
    "    with open(ratemap_filename, \"rb\") as f:\n",
    "        ratemaps_i = pickle.load(f)\n",
    "\n",
    "    for ratemap_example_k in range(num_ratemap_examples := 4):\n",
    "        ratemap_idx = selected_sorted_cells_idxs[ratemap_example_k]\n",
    "        ratemap_score = selected_cell_scores[env_i][ratemap_example_k]\n",
    "        ratemap = ratemaps_i[ratemap_idx]\n",
    "        ax = axs[(ratemap_example_k//2), env_i*2 + (ratemap_example_k%2)]\n",
    "        ax.imshow(ratemap)\n",
    "        if j == 0 and env_i == (len(experiment.environments)-1):\n",
    "            ax.set_title(f\"id={ratemap_idx}\")\n",
    "        if j == env_i:\n",
    "            ax.set_title(f\"gsc={ratemap_score}\")\n",
    "            \n",
    "fig.savefig(experiment.paths['experiment'] / f'plots/ratemap-dynamics-t{j}')"
   ]
  },
  {
   "cell_type": "code",
   "execution_count": null,
   "id": "f4165e92-bbd0-4bd4-92d2-6b933a194b03",
   "metadata": {},
   "outputs": [],
   "source": []
  }
 ],
 "metadata": {
  "kernelspec": {
   "display_name": "Python [conda env:ml]",
   "language": "python",
   "name": "conda-env-ml-py"
  },
  "language_info": {
   "codemirror_mode": {
    "name": "ipython",
    "version": 3
   },
   "file_extension": ".py",
   "mimetype": "text/x-python",
   "name": "python",
   "nbconvert_exporter": "python",
   "pygments_lexer": "ipython3",
   "version": "3.9.9"
  }
 },
 "nbformat": 4,
 "nbformat_minor": 5
}
