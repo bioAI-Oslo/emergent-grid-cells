{
 "cells": [
  {
   "cell_type": "markdown",
   "id": "b658befc-513e-4661-b5bf-6112e7065908",
   "metadata": {},
   "source": [
    "Importing relevant packages and modules"
   ]
  },
  {
   "cell_type": "code",
   "execution_count": 1,
   "id": "2480af7b-9569-48db-960a-b5c8cc94d065",
   "metadata": {},
   "outputs": [],
   "source": [
    "%load_ext autoreload\n",
    "%autoreload 2\n",
    "#%matplotlib notebook\n",
    "%matplotlib inline"
   ]
  },
  {
   "cell_type": "code",
   "execution_count": 2,
   "id": "d0704a08-5f45-41a2-be2f-c2c2f2d761e6",
   "metadata": {},
   "outputs": [],
   "source": [
    "import sys\n",
    "from pathlib import Path\n",
    "\n",
    "# Plotting\n",
    "import numpy as np\n",
    "import matplotlib\n",
    "from matplotlib import pyplot as plt\n",
    "import matplotlib.patches as mpatches\n",
    "from scipy.stats import gaussian_kde\n",
    "plt.style.use('../bioAI.mplstyle')\n",
    "\n",
    "'''\n",
    "CUSTOM PACKAGES\n",
    "'''\n",
    "# avoid adding multiple relave paths to sys.path\n",
    "sys.path.append(\"../src\") if \"../src\" not in sys.path else None\n",
    "\n",
    "from Experiment import Experiment\n",
    "from stats import grid_score_masks, get_smooth_ratemaps, grid_orientation, grid_spacing, apply_scalarFn_to_selection, scalar_shifts, phase_shifts, circular_kernel\n",
    "from plotting_functions import *"
   ]
  },
  {
   "cell_type": "markdown",
   "id": "7bba0b43-672f-414d-8263-507baeedb37b",
   "metadata": {},
   "source": [
    "Load the Experiment data"
   ]
  },
  {
   "cell_type": "code",
   "execution_count": 3,
   "id": "50383973-a003-4b07-aa92-535461698ac7",
   "metadata": {},
   "outputs": [
    {
     "name": "stdout",
     "output_type": "stream",
     "text": [
      "Experiment <gg-3ME> already EXISTS. Loading experiment settings!\n",
      "Loading experiment details\n",
      "This experiment has ALREADY been setup - SKIPPING.\n"
     ]
    },
    {
     "data": {
      "text/plain": [
       "False"
      ]
     },
     "execution_count": 3,
     "metadata": {},
     "output_type": "execute_result"
    }
   ],
   "source": [
    "#base_path = Path(\"/storA/GridCells/\")\n",
    "base_path = \"/mnt/WD12TB-HDD\"\n",
    "experiment = Experiment(name=\"gg-3ME\", base_path=base_path)\n",
    "experiment.setup()"
   ]
  },
  {
   "cell_type": "code",
   "execution_count": 4,
   "id": "bbe990f4-4af8-4d23-a615-315e0df8aedf",
   "metadata": {},
   "outputs": [
    {
     "name": "stdout",
     "output_type": "stream",
     "text": [
      "['C0_from_env_0', 'C1_from_env_1', 'C5_from_env_2']\n"
     ]
    }
   ],
   "source": [
    "module_indices = np.load(f\"{experiment.paths['experiment']}/module_indices.npz\")\n",
    "print(module_indices.files)\n",
    "module_indices = module_indices['C5_from_env_2']"
   ]
  },
  {
   "cell_type": "markdown",
   "id": "f7f0cb0a-e2b6-4627-aeac-9916a1eed06f",
   "metadata": {},
   "source": [
    "Create the masks based on specified selection scheme (grid score, topology, ...)"
   ]
  },
  {
   "cell_type": "code",
   "execution_count": 5,
   "id": "f7ab5618-2dc2-42d1-8749-9adc8c5ac7c9",
   "metadata": {},
   "outputs": [],
   "source": [
    "#gs_masks = grid_score_masks(experiment, percentile=0.4, mode=\"intersection\")\n",
    "gs_masks = np.zeros(4096,dtype=bool)\n",
    "gs_masks[module_indices] = 1"
   ]
  },
  {
   "cell_type": "markdown",
   "id": "0ed59026-7f46-4bbf-9111-fa30daf3a445",
   "metadata": {},
   "source": [
    "## Plotting"
   ]
  },
  {
   "cell_type": "markdown",
   "id": "64583801-c8fa-4973-a326-b92a5d7c6914",
   "metadata": {},
   "source": [
    "Plotting style related settings. Loading notebook stylesheet and setting the colors of the cycler. Colors are either based on the officiel BioAI color scheme or on the diverging color scheme from [ColorBrewer2](https://colorbrewer2.org/#type=diverging&scheme=BrBG&n=3)."
   ]
  },
  {
   "cell_type": "markdown",
   "id": "0676af3d-37af-4d8e-93f6-a8d69a2be8e0",
   "metadata": {},
   "source": [
    "Retrieve and plot the different statistics based on smoothed versions of the ratemaps corresponding to the loaded experiment\n"
   ]
  },
  {
   "cell_type": "code",
   "execution_count": 6,
   "id": "9f3b6239-1311-4b3f-8b03-a43c81660666",
   "metadata": {},
   "outputs": [],
   "source": [
    "smooth_ratemaps = get_smooth_ratemaps(experiment, sigma=1.0)"
   ]
  },
  {
   "cell_type": "markdown",
   "id": "bae7239a-612e-4b6e-9eaf-7da050b6c9ec",
   "metadata": {},
   "source": [
    "### Orientations"
   ]
  },
  {
   "cell_type": "code",
   "execution_count": 7,
   "id": "efc8aa45-0c24-46bf-8c9e-84f4141ab0c9",
   "metadata": {},
   "outputs": [],
   "source": [
    "orientations = apply_scalarFn_to_selection(grid_orientation, smooth_ratemaps, gs_masks)"
   ]
  },
  {
   "cell_type": "code",
   "execution_count": 8,
   "id": "30183133-afb9-4974-b43c-f16f56663596",
   "metadata": {},
   "outputs": [
    {
     "data": {
      "text/plain": [
       "(4.77376504773765, 4.77376504773765)"
      ]
     },
     "execution_count": 8,
     "metadata": {},
     "output_type": "execute_result"
    }
   ],
   "source": [
    "panesize = set_size(width=345, mode='square')\n",
    "panesize"
   ]
  },
  {
   "cell_type": "code",
   "execution_count": 9,
   "id": "6d4d5e7d-9e12-475c-96cb-35be809ba585",
   "metadata": {},
   "outputs": [
    {
     "data": {
      "image/png": "[encoded data removed]",
      "text/plain": [
       "<Figure size 171.856x114.57 with 1 Axes>"
      ]
     },
     "metadata": {
      "needs_background": "light"
     },
     "output_type": "display_data"
    }
   ],
   "source": [
    "# von Mises KDE parameter\n",
    "kappa = 50.0\n",
    "\n",
    "thetas = np.linspace(-np.pi, +np.pi, num=1001)\n",
    "\n",
    "figsize=(panesize[0]/2,panesize[1]/3)\n",
    "fig, ax = plt.subplots(figsize=figsize)\n",
    "for env_i, orientations_env in enumerate(orientations):\n",
    "    # Kernel density estimation with periodic gaussian kernel (von Mises kernel)\n",
    "    # because orientation is 2-pi periodic\n",
    "    von_mises_pdf = circular_kernel(orientations_env, kappa=kappa)\n",
    "    ax.plot(thetas, von_mises_pdf(thetas), label=f'{env_i}')\n",
    "ymin, ymax = ax.get_ylim()\n",
    "ax.set_ylim((ymin, ymax))\n",
    "ax.vlines(\n",
    "    np.array(\n",
    "        [((60.0*i)*np.pi / 180.0) - np.pi for i in range(6)]\n",
    "    ),\n",
    "    ymin=ymin,\n",
    "    ymax=ymax,\n",
    "    color='grey',\n",
    "    linestyles=':',\n",
    ")\n",
    "ax.set_ylim(bottom=0)\n",
    "ax.set_ylabel(r\"Density\")\n",
    "ax.set_xlabel(r\"Orientation [rad]\")\n",
    "ax.legend()\n",
    "fig.savefig(experiment.paths['experiment'] / f'plots/orientations')"
   ]
  },
  {
   "cell_type": "markdown",
   "id": "1f872b4c-4c29-487c-83d9-f1065ec0f752",
   "metadata": {},
   "source": [
    "### Orientation Shifts"
   ]
  },
  {
   "cell_type": "code",
   "execution_count": 10,
   "id": "7320bbca-d546-4c9e-a3ec-1d0a18c4c12d",
   "metadata": {},
   "outputs": [],
   "source": [
    "orientations = apply_scalarFn_to_selection(grid_orientation, smooth_ratemaps, gs_masks, rm_nan=False)\n",
    "orientations_shifts = scalar_shifts(orientations)"
   ]
  },
  {
   "cell_type": "code",
   "execution_count": 11,
   "id": "d51919b5-cb2e-4a65-bbbd-da6f675f8385",
   "metadata": {},
   "outputs": [
    {
     "data": {
      "image/png": "[encoded data removed]",
      "text/plain": [
       "<Figure size 171.856x114.57 with 1 Axes>"
      ]
     },
     "metadata": {
      "needs_background": "light"
     },
     "output_type": "display_data"
    }
   ],
   "source": [
    "# von Mises KDE parameter\n",
    "kappa = 50.0\n",
    "\n",
    "thetas = np.linspace(-np.pi, +np.pi, num=1001)\n",
    "\n",
    "no_envs = len(orientations_shifts)\n",
    "\n",
    "figsize=(panesize[0]/2,panesize[1]/3)\n",
    "fig, ax = plt.subplots(figsize=figsize)\n",
    "\n",
    "# iterate over upper triangular in environment indices\n",
    "for env_i in range(no_envs):\n",
    "    for env_j in range(env_i + 1, no_envs):\n",
    "        \n",
    "        # remove nans from shift array\n",
    "        or_shifts = orientations_shifts[env_i, env_j]\n",
    "        or_shifts = or_shifts[~np.isnan(or_shifts)]\n",
    "    \n",
    "        # Kernel density estimation with periodic gaussian kernel (von Mises kernel)\n",
    "        # because orientation is 2-pi periodic\n",
    "        von_mises_pdf = circular_kernel(or_shifts, kappa=kappa)\n",
    "        pdf_vals = von_mises_pdf(thetas)\n",
    "        \n",
    "        ax_idx = env_i + env_j - 1\n",
    "        ax.plot(thetas, pdf_vals, label=r\"$\" + str(env_i) + \" \\leftrightarrow \" + str(env_j) + \"$\")\n",
    "\n",
    "ymin, ymax = ax.get_ylim()\n",
    "ax.set_ylim((ymin, ymax))\n",
    "ax.vlines(\n",
    "    np.array(\n",
    "        [((60.0*i)*np.pi / 180.0) - np.pi for i in range(6)]\n",
    "    ),\n",
    "    ymin=ymin,\n",
    "    ymax=ymax,\n",
    "    linestyles=':',\n",
    "    color='grey',\n",
    ")\n",
    "ax.set_ylim(bottom=0)\n",
    "ax.set_ylabel(r\"Density\")\n",
    "ax.set_xlabel(r\"Orientation Shifts [rad]\")\n",
    "ax.legend()\n",
    "fig.savefig(experiment.paths['experiment'] / f'plots/orientation-shifts')"
   ]
  },
  {
   "cell_type": "markdown",
   "id": "9d78f3d8-a99c-483e-9f4e-1fd1b94995eb",
   "metadata": {},
   "source": [
    "### Spacings"
   ]
  },
  {
   "cell_type": "code",
   "execution_count": 12,
   "id": "36d83cc6-c3a9-4c51-b48e-d38aaf4939fe",
   "metadata": {},
   "outputs": [],
   "source": [
    "spacings_list = apply_scalarFn_to_selection(grid_spacing, smooth_ratemaps, gs_masks)"
   ]
  },
  {
   "cell_type": "code",
   "execution_count": 13,
   "id": "25dd69d4-3f64-4b71-b31c-3b516a5739a1",
   "metadata": {},
   "outputs": [
    {
     "data": {
      "image/png": "[encoded data removed]",
      "text/plain": [
       "<Figure size 171.856x114.57 with 1 Axes>"
      ]
     },
     "metadata": {
      "needs_background": "light"
     },
     "output_type": "display_data"
    }
   ],
   "source": [
    "# kde parameter\n",
    "bw_method = 0.3\n",
    "\n",
    "figsize=(panesize[0]/2,panesize[1]/3)\n",
    "fig, ax = plt.subplots(figsize=figsize)\n",
    "for env_i, spacings_env in enumerate(spacings_list):\n",
    "    # Kernel density estimation\n",
    "    spacing_pdf = gaussian_kde(spacings_env, bw_method=bw_method)\n",
    "    spacings = np.linspace(np.amin(spacings_env), np.amax(spacings_env), num=1001)\n",
    "    ax.plot(spacings, spacing_pdf(spacings),label=r\"$\" + str(env_i) + \"$\")\n",
    "    \n",
    "ax.set_ylim(bottom=0)\n",
    "ax.set_ylabel(r\"Density\")\n",
    "ax.set_xlabel(r\"Spacing [px]\")\n",
    "ax.legend()\n",
    "fig.savefig(experiment.paths['experiment'] / f'plots/spacings')"
   ]
  },
  {
   "cell_type": "markdown",
   "id": "b42dbe96-4966-4500-b08c-ea300287b946",
   "metadata": {},
   "source": [
    "### Spacing Shifts"
   ]
  },
  {
   "cell_type": "code",
   "execution_count": 14,
   "id": "13b19017-ed28-4144-88eb-d84acb5c3dec",
   "metadata": {},
   "outputs": [],
   "source": [
    "spacings_list = apply_scalarFn_to_selection(grid_spacing, smooth_ratemaps, gs_masks, rm_nan=False)\n",
    "spacings_shifts = scalar_shifts(spacings_list)"
   ]
  },
  {
   "cell_type": "code",
   "execution_count": 15,
   "id": "92267bfb-643d-45df-ae1d-a87c7f207e0c",
   "metadata": {},
   "outputs": [
    {
     "data": {
      "image/png": "[encoded data removed]",
      "text/plain": [
       "<Figure size 171.856x114.57 with 1 Axes>"
      ]
     },
     "metadata": {
      "needs_background": "light"
     },
     "output_type": "display_data"
    }
   ],
   "source": [
    "# parameter\n",
    "res = 1001\n",
    "# kde\n",
    "bw_method = 0.3\n",
    "\n",
    "no_envs = len(spacings_list)\n",
    "max_shift = np.nanmax(spacings_shifts)\n",
    "min_shift = np.nanmin(spacings_shifts)\n",
    "spacings = np.linspace(min_shift, max_shift, num=res)\n",
    "\n",
    "figsize=(panesize[0]/2,panesize[1]/3)\n",
    "fig, ax = plt.subplots(figsize=figsize)\n",
    "\n",
    "# iterate over upper triangular (shift statistics)\n",
    "for env_i in range(no_envs):\n",
    "    for env_j in range(env_i + 1, no_envs):\n",
    "        \n",
    "        # remove nan values\n",
    "        sp_shifts = spacings_shifts[env_i, env_j]\n",
    "        sp_shifts = sp_shifts[~np.isnan(sp_shifts)]\n",
    "        \n",
    "        # Kernel density estimation\n",
    "        pdf = gaussian_kde(sp_shifts, bw_method=bw_method)\n",
    "        pdf_vals = pdf(spacings)\n",
    "        \n",
    "        ax_idx = env_i + env_j - 1\n",
    "        ax.plot(spacings, pdf_vals,label=r\"$\" + str(env_i) + \" \\leftrightarrow \" + str(env_j) + \"$\",)\n",
    "\n",
    "ax.set_ylim(bottom=0)\n",
    "ax.set_ylabel(r\"Density\")\n",
    "ax.set_xlabel(r\"Spacing Shift [px]\")\n",
    "ax.legend()\n",
    "fig.savefig(experiment.paths['experiment'] / f'plots/spacing-shifts')"
   ]
  },
  {
   "cell_type": "markdown",
   "id": "0162cdd0-d4e6-46a5-9e34-9616abb3f364",
   "metadata": {},
   "source": [
    "### Phase Shifts"
   ]
  },
  {
   "cell_type": "code",
   "execution_count": 16,
   "id": "9fdd5828-ad49-45b1-89e8-a7ef598d8e32",
   "metadata": {},
   "outputs": [],
   "source": [
    "dPs = phase_shifts(smooth_ratemaps, gs_masks)"
   ]
  },
  {
   "cell_type": "markdown",
   "id": "d5377952-538b-407a-822b-f64fa7508085",
   "metadata": {},
   "source": [
    "#### Vector distribution"
   ]
  },
  {
   "cell_type": "code",
   "execution_count": 17,
   "id": "0d5f9e53-20ef-4a8b-a8a9-ce2ddc479cdb",
   "metadata": {},
   "outputs": [
    {
     "data": {
      "image/png": "[encoded data removed]",
      "text/plain": [
       "<Figure size 343.711x114.57 with 3 Axes>"
      ]
     },
     "metadata": {
      "needs_background": "light"
     },
     "output_type": "display_data"
    }
   ],
   "source": [
    "# parameter\n",
    "res = 100\n",
    "# kde\n",
    "bw_method = 0.5\n",
    "\n",
    "\n",
    "figsize=(panesize[0],panesize[1]/3)\n",
    "fig, axs = plt.subplots(ncols=3,figsize=figsize)\n",
    "#[axis_off_labels_on(ax) for ax in axs.flat]\n",
    "\n",
    "no_envs = dPs.shape[0]\n",
    "max_val = np.nanmax(dPs)\n",
    "\n",
    "for env_i in range(no_envs):\n",
    "    for env_j in range(env_i + 1, no_envs):\n",
    "        \n",
    "        ps = dPs[env_i, env_j]\n",
    "        ps = ps[~np.isnan(ps).any(axis=1)]\n",
    "        \n",
    "        pdf = gaussian_kde(ps.T, bw_method=bw_method)\n",
    "        \n",
    "        p_xs = np.linspace(-max_val, max_val, num=res)\n",
    "        p_ys = np.linspace(-max_val, max_val, num=res)\n",
    "        xv, yv = np.meshgrid(p_xs, p_ys)\n",
    "        coords = np.append(xv.reshape(-1,1), yv.reshape(-1,1), axis=1)\n",
    "        pdf_vals = pdf(coords.T)\n",
    "\n",
    "        ax_idx = env_i + env_j - 1\n",
    "        \n",
    "        axs[ax_idx].set_title(f\"${env_i} \\leftrightarrow {env_j}$\")\n",
    "        axs[ax_idx].imshow(\n",
    "            pdf_vals.reshape(res, res),\n",
    "            extent=[-max_val, max_val, -max_val, max_val]\n",
    "        )\n",
    "        \n",
    "#axs[0].set_ylabel(\"$\\phi_{y}\\, [\\textrm{px}]$\")\n",
    "#axs[1].set_xlabel(\"$\\phi_{x}\\, [\\textrm{px}]$\")\n",
    "fig.savefig(experiment.paths['experiment'] / f'plots/phase-shifts')"
   ]
  },
  {
   "cell_type": "markdown",
   "id": "ec83ecb4-6760-4500-a98a-f48eaa7c879e",
   "metadata": {},
   "source": [
    "#### Magnitude distribution"
   ]
  },
  {
   "cell_type": "code",
   "execution_count": 18,
   "id": "6e5c5e4e-8f20-4c8f-9025-4ad6cdff83a3",
   "metadata": {},
   "outputs": [
    {
     "data": {
      "image/png": "[encoded data removed]",
      "text/plain": [
       "<Figure size 171.856x114.57 with 1 Axes>"
      ]
     },
     "metadata": {
      "needs_background": "light"
     },
     "output_type": "display_data"
    }
   ],
   "source": [
    "# parameter\n",
    "res = 1001\n",
    "# kde\n",
    "bw_method = 0.3\n",
    "\n",
    "no_envs = dPs.shape[0]\n",
    "max_val = np.nanmax(dPs)\n",
    "max_magnitude = np.sqrt(2)*max_val\n",
    "magnitudes = np.linspace(0.0, max_magnitude, num=res)\n",
    "\n",
    "figsize=(panesize[0]/2,panesize[1]/3)\n",
    "fig, ax = plt.subplots(figsize=figsize)\n",
    "\n",
    "# iterate over upper triangular (shift statistics)\n",
    "for env_i in range(no_envs):\n",
    "    for env_j in range(env_i + 1, no_envs):\n",
    "        \n",
    "        ps = dPs[env_i, env_j]\n",
    "        \n",
    "        # remove nans from statistics\n",
    "        ps = ps[~np.isnan(ps).any(axis=1)]\n",
    "        ps_magnitude = np.linalg.norm(ps, axis=1)\n",
    "        \n",
    "        pdf = gaussian_kde(ps_magnitude, bw_method=bw_method)\n",
    "        pdf_vals = pdf(magnitudes)\n",
    "        \n",
    "        ax_idx = env_i + env_j - 1\n",
    "        ax.plot(\n",
    "            magnitudes, \n",
    "            pdf_vals,label=r\"$\" + str(env_i) + \" \\leftrightarrow \" + str(env_j) + \"$\",\n",
    "        )\n",
    "\n",
    "ax.set_ylim(bottom=0.)\n",
    "ax.set_ylabel(r\"Distribution\")\n",
    "ax.set_xlabel(\"$\\|\\phi\\|\\, [px]$\")\n",
    "ax.legend()\n",
    "fig.savefig(experiment.paths['experiment'] / f'plots/magnitude-shifts')"
   ]
  },
  {
   "cell_type": "code",
   "execution_count": null,
   "id": "a56f0f9b-98fd-4861-ba43-61c2e6ca57c4",
   "metadata": {},
   "outputs": [],
   "source": []
  }
 ],
 "metadata": {
  "kernelspec": {
   "display_name": "Python [conda env:ml]",
   "language": "python",
   "name": "conda-env-ml-py"
  },
  "language_info": {
   "codemirror_mode": {
    "name": "ipython",
    "version": 3
   },
   "file_extension": ".py",
   "mimetype": "text/x-python",
   "name": "python",
   "nbconvert_exporter": "python",
   "pygments_lexer": "ipython3",
   "version": "3.9.9"
  }
 },
 "nbformat": 4,
 "nbformat_minor": 5
}
