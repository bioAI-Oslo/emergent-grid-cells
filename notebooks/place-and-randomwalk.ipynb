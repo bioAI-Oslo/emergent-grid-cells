{
 "cells": [
  {
   "cell_type": "markdown",
   "id": "be522a85-71a1-4918-a711-f493aefb26ad",
   "metadata": {
    "tags": []
   },
   "source": [
    "### Imports"
   ]
  },
  {
   "cell_type": "code",
   "execution_count": 1,
   "id": "996cfee3",
   "metadata": {
    "tags": []
   },
   "outputs": [],
   "source": [
    "%load_ext autoreload\n",
    "%autoreload 2\n",
    "#%matplotlib notebook\n",
    "%matplotlib inline"
   ]
  },
  {
   "cell_type": "code",
   "execution_count": 2,
   "id": "9f109164",
   "metadata": {
    "tags": []
   },
   "outputs": [],
   "source": [
    "# Computational packages\n",
    "import numpy as np\n",
    "import matplotlib.pyplot as plt\n",
    "import torch\n",
    "import tqdm\n",
    "plt.style.use('../bioAI.mplstyle')\n",
    "\n",
    "# General packages\n",
    "import datetime\n",
    "import sys\n",
    "import os\n",
    "\n",
    "# custom packages\n",
    "import ratsimulator\n",
    "from ratsimulator.Environment import Rectangle\n",
    "import spatial_maps as sm # CINPLA spatial maps\n",
    "\n",
    "# avoid adding multiple relave paths to sys.path\n",
    "sys.path.append(\"../src\") if \"../src\" not in sys.path else None \n",
    "from PlaceCells import PlaceCells\n",
    "from Models import SorscherRNN\n",
    "from Experiment import Experiment\n",
    "from methods import *\n",
    "from datahandling import *\n",
    "from plotting_functions import *"
   ]
  },
  {
   "cell_type": "markdown",
   "id": "22fb2b7a-33d6-499f-b899-7f249416b36d",
   "metadata": {},
   "source": [
    "### Setup Experiment"
   ]
  },
  {
   "cell_type": "code",
   "execution_count": 3,
   "id": "57ff00f3-81cd-4031-8e86-28d9955f6572",
   "metadata": {},
   "outputs": [
    {
     "name": "stdout",
     "output_type": "stream",
     "text": [
      "Experiment <gg-3ME> already EXISTS. Loading experiment settings!\n",
      "Loading experiment details\n",
      "This experiment has ALREADY been setup - SKIPPING.\n"
     ]
    },
    {
     "data": {
      "text/plain": [
       "False"
      ]
     },
     "execution_count": 3,
     "metadata": {},
     "output_type": "execute_result"
    }
   ],
   "source": [
    "base_path = \"/mnt/WD12TB-HDD\"\n",
    "experiment = Experiment(name = 'gg-3ME', base_path=base_path)\n",
    "experiment.setup()"
   ]
  },
  {
   "cell_type": "code",
   "execution_count": 4,
   "id": "ce6a24c8-095c-4ac1-87e6-2d1895a147a5",
   "metadata": {},
   "outputs": [],
   "source": [
    "pc_ensembles = experiment.pc_ensembles"
   ]
  },
  {
   "cell_type": "code",
   "execution_count": 5,
   "id": "c9ca3a6b-5273-4c4a-be18-f604759afe3a",
   "metadata": {},
   "outputs": [
    {
     "data": {
      "text/plain": [
       "(4.77376504773765, 4.77376504773765)"
      ]
     },
     "execution_count": 5,
     "metadata": {},
     "output_type": "execute_result"
    }
   ],
   "source": [
    "panesize = set_size(width=345, mode='square')\n",
    "panesize"
   ]
  },
  {
   "cell_type": "code",
   "execution_count": 6,
   "id": "2ea690f5-c1db-4592-beb0-20d2a9125550",
   "metadata": {},
   "outputs": [],
   "source": [
    "def border_color(ax, color):\n",
    "    for spine in ax.spines.values():\n",
    "        spine.set_visible(True)\n",
    "        spine.set_color(color)"
   ]
  },
  {
   "cell_type": "code",
   "execution_count": 15,
   "id": "2cdb8646-8c05-4677-a736-d1d84e269cff",
   "metadata": {},
   "outputs": [
    {
     "data": {
      "image/png": "[encoded data removed]",
      "text/plain": [
       "<Figure size 114.57x114.57 with 1 Axes>"
      ]
     },
     "metadata": {},
     "output_type": "display_data"
    }
   ],
   "source": [
    "figsize = (panesize[0]/3, panesize[1]/3)\n",
    "fig, ax = plt.subplots(figsize=figsize)\n",
    "\n",
    "j = 2\n",
    "colors = ['red','green','blue']\n",
    "x,y = pc_ensembles[j].pcs.T\n",
    "ax.scatter(x, y, alpha=1, color='grey')#, s=1)\n",
    "\n",
    "for i in range(3):\n",
    "    ax.text(x[i], y[i], f\"{i}\", color='black', ha='center', va='center', fontsize=10)\n",
    "    a_circle = plt.Circle((x[i], y[i]), pc_ensembles[j].pc_width, fill=False, color=colors[j])\n",
    "    ax.add_artist(a_circle)\n",
    "    a_circle = plt.Circle((x[i], y[i]), 2*pc_ensembles[j].pc_width, fill=False, color=colors[j])\n",
    "    ax.add_artist(a_circle)\n",
    "\n",
    "ax.set_xticks([], [])\n",
    "ax.set_yticks([], [])\n",
    "border_color(ax, color=colors[j])\n",
    "\n",
    "fig.savefig(experiment.paths['experiment'] / f'plots/place-remapping-{j}')"
   ]
  },
  {
   "cell_type": "markdown",
   "id": "9c41dd1f-0502-4a53-9647-c84f27869755",
   "metadata": {},
   "source": [
    "## Create Place Cell Ratemap Plots"
   ]
  },
  {
   "cell_type": "code",
   "execution_count": 16,
   "id": "d8af6304-a395-4b5c-9933-b97f706ade3b",
   "metadata": {},
   "outputs": [
    {
     "data": {
      "text/plain": [
       "((128, 128, 2), (3, 128, 128, 1), (3, 90, 90))"
      ]
     },
     "execution_count": 16,
     "metadata": {},
     "output_type": "execute_result"
    }
   ],
   "source": [
    "res = 128\n",
    "pos = np.mgrid[0:res,0:res].T * experiment.environments[0].boxsize[0] / res\n",
    "\n",
    "num_cells = 1\n",
    "pc_responses = np.zeros((len(pc_ensembles), res, res, num_cells))\n",
    "ratemaps = []\n",
    "for env_i in range(len(pc_ensembles)):\n",
    "    pc_responses[env_i] = pc_ensembles[env_i].softmax_response(torch.tensor(pos))[...,:num_cells].detach().numpy()\n",
    "    res = scipy.stats.binned_statistic_2d(pos[...,0].flatten(), pos[...,1].flatten(), pc_responses[env_i].flatten(), bins=90).statistic\n",
    "    ratemaps.append(res)\n",
    "    \n",
    "ratemaps = np.array(ratemaps)\n",
    "pos.shape, pc_responses.shape, ratemaps.shape"
   ]
  },
  {
   "cell_type": "code",
   "execution_count": 17,
   "id": "5e80bf4a-fcb0-4d95-a552-728711cfcb30",
   "metadata": {},
   "outputs": [
    {
     "data": {
      "image/png": "[encoded data removed]",
      "text/plain": [
       "<Figure size 114.57x114.57 with 1 Axes>"
      ]
     },
     "metadata": {},
     "output_type": "display_data"
    }
   ],
   "source": [
    "figsize = (panesize[0]/3, panesize[1]/3)\n",
    "fig, ax = plt.subplots(figsize=figsize)\n",
    "#j=2\n",
    "plt.imshow(ratemaps[j].T, origin='lower')\n",
    "ax.set_xticks([], [])\n",
    "ax.set_yticks([], [])\n",
    "\n",
    "fig.savefig(experiment.paths['experiment'] / f'plots/place-remapping-ratemap-{j}')"
   ]
  },
  {
   "cell_type": "markdown",
   "id": "d785a61d-f908-4404-819c-5e37959e4b06",
   "metadata": {},
   "source": [
    "## Create Trajectory Example"
   ]
  },
  {
   "cell_type": "code",
   "execution_count": 26,
   "id": "664df196-1932-46d3-84e9-31b8d3f28a6b",
   "metadata": {},
   "outputs": [
    {
     "data": {
      "image/png": "[encoded data removed]",
      "text/plain": [
       "<Figure size 114.57x114.57 with 1 Axes>"
      ]
     },
     "metadata": {
      "needs_background": "light"
     },
     "output_type": "display_data"
    }
   ],
   "source": [
    "agent = experiment.agents[0]\n",
    "\n",
    "agent.reset()\n",
    "for _ in range(nsteps:=1000):\n",
    "    agent.step()\n",
    "\n",
    "# plot track\n",
    "figsize=(panesize[0]/3,panesize[1]/3) # keep square\n",
    "fig,ax=plt.subplots(figsize=figsize)\n",
    "plt.axis('off')\n",
    "\n",
    "# plot board and trajectory\n",
    "experiment.environments[0].plot_board(ax)\n",
    "agent.plot_trajectory(ax,ds=8)\n",
    "\n",
    "a_circle = plt.Circle(agent.positions[0], 2.2*0.02, fill=True, color='gold')#, color=color)\n",
    "ax.add_artist(a_circle)\n",
    "\n",
    "fig.savefig(experiment.paths['experiment'] / 'plots/rat-trajectory-example')"
   ]
  },
  {
   "cell_type": "code",
   "execution_count": 11,
   "id": "5b9941d0-8002-40e9-8c93-f3a9d4de7ab7",
   "metadata": {},
   "outputs": [
    {
     "data": {
      "text/plain": [
       "((1.59125501591255, 1.59125501591255), 2.386882523868825)"
      ]
     },
     "execution_count": 11,
     "metadata": {},
     "output_type": "execute_result"
    }
   ],
   "source": [
    "figsize, panesize[0]/2"
   ]
  }
 ],
 "metadata": {
  "kernelspec": {
   "display_name": "Python [conda env:ml]",
   "language": "python",
   "name": "conda-env-ml-py"
  },
  "language_info": {
   "codemirror_mode": {
    "name": "ipython",
    "version": 3
   },
   "file_extension": ".py",
   "mimetype": "text/x-python",
   "name": "python",
   "nbconvert_exporter": "python",
   "pygments_lexer": "ipython3",
   "version": "3.9.9"
  }
 },
 "nbformat": 4,
 "nbformat_minor": 5
}
