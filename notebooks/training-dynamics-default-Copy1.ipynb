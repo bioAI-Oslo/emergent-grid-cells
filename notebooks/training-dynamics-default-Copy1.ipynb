{
 "cells": [
  {
   "cell_type": "markdown",
   "id": "be522a85-71a1-4918-a711-f493aefb26ad",
   "metadata": {
    "tags": []
   },
   "source": [
    "### Imports"
   ]
  },
  {
   "cell_type": "code",
   "execution_count": 1,
   "id": "996cfee3",
   "metadata": {
    "tags": []
   },
   "outputs": [],
   "source": [
    "%load_ext autoreload\n",
    "%autoreload 2\n",
    "#%matplotlib notebook\n",
    "%matplotlib inline"
   ]
  },
  {
   "cell_type": "code",
   "execution_count": 2,
   "id": "9f109164",
   "metadata": {
    "tags": []
   },
   "outputs": [],
   "source": [
    "# Computational packages\n",
    "import numpy as np\n",
    "import matplotlib.pyplot as plt\n",
    "import torch\n",
    "import tqdm\n",
    "plt.style.use('../bioAI.mplstyle')\n",
    "\n",
    "# General packages\n",
    "import datetime\n",
    "import sys\n",
    "import os\n",
    "\n",
    "# custom packages\n",
    "import ratsimulator\n",
    "from ratsimulator.Environment import Rectangle\n",
    "import spatial_maps as sm # CINPLA spatial maps\n",
    "\n",
    "# avoid adding multiple relave paths to sys.path\n",
    "sys.path.append(\"../src\") if \"../src\" not in sys.path else None \n",
    "from PlaceCells import PlaceCells\n",
    "from Models import SorscherRNN\n",
    "from Experiment import Experiment\n",
    "from methods import *\n",
    "from datahandling import *\n",
    "from Plots import *"
   ]
  },
  {
   "cell_type": "markdown",
   "id": "22fb2b7a-33d6-499f-b899-7f249416b36d",
   "metadata": {},
   "source": [
    "### Setup Experiment"
   ]
  },
  {
   "cell_type": "code",
   "execution_count": 3,
   "id": "57ff00f3-81cd-4031-8e86-28d9955f6572",
   "metadata": {},
   "outputs": [
    {
     "name": "stdout",
     "output_type": "stream",
     "text": [
      "Experiment <gg-default> already EXISTS. Loading experiment settings!\n",
      "Loading experiment details\n",
      "This experiment has ALREADY been setup - SKIPPING.\n"
     ]
    },
    {
     "data": {
      "text/plain": [
       "False"
      ]
     },
     "execution_count": 3,
     "metadata": {},
     "output_type": "execute_result"
    }
   ],
   "source": [
    "base_path = \"/mnt/WD12TB-HDD\"\n",
    "experiment = Experiment(name := 'gg-default', base_path = base_path)\n",
    "experiment.setup()"
   ]
  },
  {
   "cell_type": "code",
   "execution_count": 4,
   "id": "6afd4981-2870-4fca-a590-ae8b55792942",
   "metadata": {},
   "outputs": [
    {
     "name": "stdout",
     "output_type": "stream",
     "text": [
      "Loading model at epoch = 00999\n"
     ]
    }
   ],
   "source": [
    "checkpoint_filenames = filenames(experiment.paths['checkpoints'])\n",
    "# load model latest (wrt. #epochs trained)\n",
    "print(f\"Loading model at epoch = {checkpoint_filenames[-1]}\")\n",
    "checkpoint = torch.load(experiment.paths['checkpoints'] / checkpoint_filenames[-1])\n",
    "with open(experiment.paths[\"experiment\"] / \"logger.pkl\", \"rb\") as f:\n",
    "    logger = pickle.load(f)"
   ]
  },
  {
   "cell_type": "markdown",
   "id": "c63961f5-4fcd-4738-ab1c-ef56f2068be2",
   "metadata": {},
   "source": [
    "### Helper functions"
   ]
  },
  {
   "cell_type": "code",
   "execution_count": 5,
   "id": "5fcaa03e-4f77-416d-966e-59c3e04c0110",
   "metadata": {},
   "outputs": [],
   "source": [
    "def metric_fraction_to_checkpoint(metric, ps=[0.9999, 0.95, 0.05]):\n",
    "    # find training phases as a fraction of loss-differences\n",
    "    metric = np.array(metric)\n",
    "    metric_diff = np.max(metric) - np.min(metric)\n",
    "    metric_phases = metric_diff * np.array(ps)\n",
    "    metric_phases += np.min(metric)\n",
    "    metric_phase_idxs = abs(metric_phases[:, None] - metric[None])  # shape: (3, #epochs)\n",
    "    metric_phase_idxs = np.argmin(metric_phase_idxs, axis=-1)  # shape: (3,)\n",
    "\n",
    "    # find closest (rounded) model checkpoints to the phase idxs\n",
    "    checkpoint_filenames = filenames(experiment.paths[\"checkpoints\"])\n",
    "    checkpoint_nums = [\n",
    "        int(checkpoint_filename) for checkpoint_filename in checkpoint_filenames\n",
    "    ]\n",
    "    save_freq = checkpoint_nums[2] - checkpoint_nums[1]\n",
    "    checkpoint_phase_nums = baround(metric_phase_idxs, save_freq)\n",
    "    checkpoint_phase_nums = np.minimum(checkpoint_phase_nums, np.max(checkpoint_nums))\n",
    "    checkpoint_phase_filenames = [\n",
    "        f\"{checkpoint_phase_num:05d}.pkl\"\n",
    "        for checkpoint_phase_num in checkpoint_phase_nums\n",
    "    ]\n",
    "    return checkpoint_phase_filenames, checkpoint_phase_nums\n",
    "\n",
    "def load_grid_scores():\n",
    "    # load grid scores for environments\n",
    "    sorted_scores = []\n",
    "    sort_idxs = []\n",
    "    for grid_score_filename in filenames(experiment.paths[\"grid_scores\"]):\n",
    "        with open(experiment.paths[\"grid_scores\"] / grid_score_filename, \"rb\") as f:\n",
    "            score_map = pickle.load(f)\n",
    "\n",
    "        sort_idxs.append(np.argsort(score_map)[::-1])\n",
    "        sorted_scores.append(score_map[sort_idxs[-1]])\n",
    "    return sort_idxs, sorted_scores\n",
    "\n",
    "checkpoint_phase_filenames, checkpoint_phase_nums = metric_fraction_to_checkpoint(logger.training_metrics['familiar']['KL'])\n",
    "sort_idxs, sorted_scores = load_grid_scores()"
   ]
  },
  {
   "cell_type": "code",
   "execution_count": 6,
   "id": "51619472-d882-4ed9-a5ef-286344a56918",
   "metadata": {},
   "outputs": [
    {
     "data": {
      "image/png": "[encoded data removed]",
      "text/plain": [
       "<Figure size 360x360 with 1 Axes>"
      ]
     },
     "metadata": {
      "needs_background": "light"
     },
     "output_type": "display_data"
    }
   ],
   "source": [
    "figsize=(5,5)\n",
    "fig, ax = plt.subplots(figsize=figsize)\n",
    "ax.plot(logger.training_metrics['familiar']['KL'],label='familiar')\n",
    "ax.plot(logger.training_metrics['novel']['KL'],label='novel')\n",
    "ax.legend()\n",
    "ax.axhline(0,ls=\":\")\n",
    "ax.set_ylabel('Kullback-Leibler')\n",
    "ax.xaxis.set_visible(False)"
   ]
  },
  {
   "cell_type": "code",
   "execution_count": 7,
   "id": "1c12599a-cf8e-4379-aab3-39a1a2e96ba4",
   "metadata": {},
   "outputs": [
    {
     "data": {
      "image/png": "[encoded data removed]",
      "text/plain": [
       "<Figure size 360x360 with 1 Axes>"
      ]
     },
     "metadata": {
      "needs_background": "light"
     },
     "output_type": "display_data"
    }
   ],
   "source": [
    "fig, ax = plt.subplots(figsize=figsize)\n",
    "ax.plot(logger.training_metrics['familiar']['l2_reg'])\n",
    "ax.axhline(0,ls=\":\")\n",
    "ax.set_ylabel('L2-Penalty')\n",
    "ax.xaxis.set_visible(False)"
   ]
  },
  {
   "cell_type": "code",
   "execution_count": 8,
   "id": "dbe22eaa-d7f0-448d-8d71-d007205dfa30",
   "metadata": {},
   "outputs": [
    {
     "data": {
      "text/plain": [
       "Text(0.5, 0, 't [Epochs]')"
      ]
     },
     "execution_count": 8,
     "metadata": {},
     "output_type": "execute_result"
    },
    {
     "data": {
      "image/png": "[encoded data removed]",
      "text/plain": [
       "<Figure size 360x360 with 1 Axes>"
      ]
     },
     "metadata": {
      "needs_background": "light"
     },
     "output_type": "display_data"
    }
   ],
   "source": [
    "fig, ax = plt.subplots(figsize=figsize)\n",
    "ax.plot(logger.training_metrics['familiar']['pred_error'],label='familiar')\n",
    "ax.plot(logger.training_metrics['novel']['pred_error'],label='novel')\n",
    "ax.plot(logger.training_metrics['familiar']['true_error'],label='true')\n",
    "ax.legend()\n",
    "ax.set_ylabel('Decoding Error')\n",
    "ax.set_xlabel('t [Epochs]')"
   ]
  },
  {
   "cell_type": "code",
   "execution_count": 9,
   "id": "c7ab16e1-52de-4564-8f2b-daadc054b989",
   "metadata": {},
   "outputs": [
    {
     "ename": "NameError",
     "evalue": "name 'axis_off_labels_on' is not defined",
     "output_type": "error",
     "traceback": [
      "\u001b[0;31m---------------------------------------------------------------------------\u001b[0m",
      "\u001b[0;31mNameError\u001b[0m                                 Traceback (most recent call last)",
      "Input \u001b[0;32mIn [9]\u001b[0m, in \u001b[0;36m<cell line: 13>\u001b[0;34m()\u001b[0m\n\u001b[1;32m     14\u001b[0m     \u001b[38;5;28;01mfor\u001b[39;00m j \u001b[38;5;129;01min\u001b[39;00m \u001b[38;5;28mrange\u001b[39m(figdims[\u001b[38;5;241m1\u001b[39m]\u001b[38;5;241m-\u001b[39m\u001b[38;5;241m2\u001b[39m):\n\u001b[1;32m     15\u001b[0m         axs[i,j] \u001b[38;5;241m=\u001b[39m plt\u001b[38;5;241m.\u001b[39msubplot2grid(figdims, (i,\u001b[38;5;241m2\u001b[39m\u001b[38;5;241m+\u001b[39mj), colspan\u001b[38;5;241m=\u001b[39m\u001b[38;5;241m1\u001b[39m, rowspan\u001b[38;5;241m=\u001b[39m\u001b[38;5;241m1\u001b[39m, fig\u001b[38;5;241m=\u001b[39mfig)\n\u001b[0;32m---> 16\u001b[0m         \u001b[43maxis_off_labels_on\u001b[49m(axs[i,j])\n\u001b[1;32m     17\u001b[0m         \u001b[38;5;66;03m#axs[i,j].axis('off')\u001b[39;00m\n\u001b[1;32m     18\u001b[0m         \u001b[38;5;66;03m#axs[i,j].imshow(np.zeros((10,10)))\u001b[39;00m\n\u001b[1;32m     21\u001b[0m \u001b[38;5;124;03m\"\"\"\u001b[39;00m\n\u001b[1;32m     22\u001b[0m \u001b[38;5;124;03mPOPULATE TRAINING DYNAMICS\u001b[39;00m\n\u001b[1;32m     23\u001b[0m \u001b[38;5;124;03m\"\"\"\u001b[39;00m\n",
      "\u001b[0;31mNameError\u001b[0m: name 'axis_off_labels_on' is not defined"
     ]
    },
    {
     "data": {
      "image/png": "[encoded data removed]",
      "text/plain": [
       "<Figure size 403.2x604.8 with 4 Axes>"
      ]
     },
     "metadata": {
      "needs_background": "light"
     },
     "output_type": "display_data"
    }
   ],
   "source": [
    "\"\"\"\n",
    "CREATE PANE LAYOUT\n",
    "\"\"\"\n",
    "figdims = np.array([6,4])\n",
    "scale = 1.4\n",
    "\n",
    "figsize = figdims[::-1] * scale # figsize is width by height, subplots is height by width\n",
    "fig = plt.figure(figsize=figsize)\n",
    "lh_ax = plt.subplot2grid(figdims, (0,0), colspan=2, rowspan=2, fig=fig)\n",
    "l2_ax = plt.subplot2grid(figdims, (2,0), colspan=2, rowspan=2, fig=fig)\n",
    "de_ax = plt.subplot2grid(figdims, (4,0), colspan=2, rowspan=2, fig=fig)\n",
    "axs = np.zeros((figdims[0],figdims[1]-2),dtype='object')\n",
    "for i in range(figdims[0]):\n",
    "    for j in range(figdims[1]-2):\n",
    "        axs[i,j] = plt.subplot2grid(figdims, (i,2+j), colspan=1, rowspan=1, fig=fig)\n",
    "        axis_off_labels_on(axs[i,j])\n",
    "        #axs[i,j].axis('off')\n",
    "        #axs[i,j].imshow(np.zeros((10,10)))\n",
    "        \n",
    "        \n",
    "\"\"\"\n",
    "POPULATE TRAINING DYNAMICS\n",
    "\"\"\"\n",
    "lh_ax.plot(logger.training_metrics['familiar']['KL'],label='familiar')\n",
    "lh_ax.plot(logger.training_metrics['novel']['KL'],label='novel')\n",
    "lh_ax.legend()\n",
    "lh_ax.axhline(0,ls=\":\")\n",
    "lh_ax.set_ylabel('Kullback-Leibler')\n",
    "lh_ax.xaxis.set_visible(False)\n",
    "\n",
    "l2_ax.plot(logger.training_metrics['familiar']['l2_reg'])\n",
    "l2_ax.axhline(0,ls=\":\")\n",
    "l2_ax.set_ylabel('L2-Penalty')\n",
    "l2_ax.xaxis.set_visible(False)\n",
    "\n",
    "de_ax.plot(logger.training_metrics['familiar']['pred_error'],label='familiar')\n",
    "de_ax.plot(logger.training_metrics['novel']['pred_error'],label='novel')\n",
    "de_ax.plot(logger.training_metrics['familiar']['true_error'],label='true')\n",
    "de_ax.legend()\n",
    "de_ax.set_ylabel('Decoding Error')\n",
    "de_ax.set_xlabel('t [Epochs]')\n",
    "\n",
    "\n",
    "\"\"\"\n",
    "POPULATE RATEMAPS\n",
    "\"\"\"\n",
    "# load ratemaps for environment\n",
    "ratemaps = []\n",
    "selected_sorted_cells = [20, 51, 2048, 4095]\n",
    "for j, checkpoint_phase_filename in enumerate(checkpoint_phase_filenames):\n",
    "    for env_i in range(len(experiment.environments)):\n",
    "        ratemap_filename = (\n",
    "            experiment.paths[\"ratemaps\"]\n",
    "            / f\"env_{env_i}\"\n",
    "            / checkpoint_phase_filename\n",
    "        )\n",
    "        with open(ratemap_filename, \"rb\") as f:\n",
    "            ratemaps_i = pickle.load(f)\n",
    "\n",
    "        for ratemap_example_k in range(num_ratemap_examples := 4):\n",
    "            ratemap_idx = sort_idxs[env_i][selected_sorted_cells[ratemap_example_k]]\n",
    "            ratemap_score = np.around(\n",
    "                sorted_scores[env_i][selected_sorted_cells[ratemap_example_k]],\n",
    "                decimals=2,\n",
    "            )\n",
    "            ratemap = ratemaps_i[ratemap_idx]\n",
    "            ax = axs[j*2 + (ratemap_example_k//2), env_i*2 + (ratemap_example_k%2)]\n",
    "            ax.imshow(ratemap)\n",
    "            if j == 0:\n",
    "                ax.set_title(f\"id={ratemap_idx}\")\n",
    "            elif j == len(checkpoint_phase_filenames) - 1:\n",
    "                ax.set_title(f\"gcs={ratemap_score}\")\n",
    "\n",
    "\n",
    "axs[0,0].sharey(axs[1,0])\n",
    "axs[0,0].set_ylabel('heallio')"
   ]
  },
  {
   "cell_type": "markdown",
   "id": "41c7b855-9012-4c48-9275-188c9dc8cd4f",
   "metadata": {},
   "source": [
    "### Plot some sorted ratemaps to choose nice and ugly cells"
   ]
  },
  {
   "cell_type": "code",
   "execution_count": null,
   "id": "76fe616c-a7c5-44f8-afbd-7cbb5a88a19e",
   "metadata": {},
   "outputs": [],
   "source": [
    "start_idx = 0\n",
    "num_ratemaps = 64\n",
    "fig, ax = multiimshow(ratemaps_i[sort_idxs[0]][start_idx:start_idx+num_ratemaps])"
   ]
  },
  {
   "cell_type": "code",
   "execution_count": null,
   "id": "b0ee70b0-c508-4919-8a70-8b3047925ee7",
   "metadata": {},
   "outputs": [],
   "source": [
    "plt.imshow(ratemaps_i[sort_idxs[0]][20])"
   ]
  },
  {
   "cell_type": "code",
   "execution_count": null,
   "id": "91941b9f-3c44-4be3-94ee-51062a8a30ba",
   "metadata": {},
   "outputs": [],
   "source": [
    "plt.imshow(ratemaps_i[sort_idxs[0]][51])"
   ]
  },
  {
   "cell_type": "code",
   "execution_count": null,
   "id": "6a554a04-8310-4c61-ab9e-d8d32bdef67c",
   "metadata": {},
   "outputs": [],
   "source": [
    "fig.savefig(experiment.paths['experiment'] / (figname))"
   ]
  },
  {
   "cell_type": "code",
   "execution_count": null,
   "id": "0cf18470-5191-49b2-80db-cfe5507265aa",
   "metadata": {},
   "outputs": [],
   "source": []
  }
 ],
 "metadata": {
  "kernelspec": {
   "display_name": "Python [conda env:ml]",
   "language": "python",
   "name": "conda-env-ml-py"
  },
  "language_info": {
   "codemirror_mode": {
    "name": "ipython",
    "version": 3
   },
   "file_extension": ".py",
   "mimetype": "text/x-python",
   "name": "python",
   "nbconvert_exporter": "python",
   "pygments_lexer": "ipython3",
   "version": "3.9.9"
  }
 },
 "nbformat": 4,
 "nbformat_minor": 5
}
