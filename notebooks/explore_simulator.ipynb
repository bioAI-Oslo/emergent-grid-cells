{
 "cells": [
  {
   "cell_type": "code",
   "execution_count": 1,
   "id": "7e82f7fc",
   "metadata": {},
   "outputs": [],
   "source": [
    "%load_ext autoreload\n",
    "%autoreload 2\n",
    "#%matplotlib notebook\n",
    "%matplotlib inline"
   ]
  },
  {
   "cell_type": "code",
   "execution_count": 2,
   "id": "70401762",
   "metadata": {},
   "outputs": [],
   "source": [
    "import numpy as np\n",
    "import matplotlib.pyplot as plt\n",
    "from scipy.spatial.distance import euclidean\n",
    "import sys\n",
    "sys.path.append(\"../src\") if \"../src\" not in sys.path else None # avoid adding multiple relave paths to sys.path"
   ]
  },
  {
   "cell_type": "code",
   "execution_count": 3,
   "id": "19e95ebb",
   "metadata": {},
   "outputs": [],
   "source": [
    "from Agent import Agent\n",
    "from Environment import Rectangle"
   ]
  },
  {
   "cell_type": "code",
   "execution_count": 4,
   "id": "6afd59f0",
   "metadata": {},
   "outputs": [],
   "source": [
    "boxsize=(2.2, 2.2)\n",
    "origo=(0,0)\n",
    "soft_boundary=0.2"
   ]
  },
  {
   "cell_type": "code",
   "execution_count": 5,
   "id": "832f200e",
   "metadata": {},
   "outputs": [],
   "source": [
    "env = Rectangle(boxsize=boxsize, soft_boundary=soft_boundary)\n",
    "avoid_walls = env.avoid_walls\n",
    "env.add_wall(\"free_wall\", {\"bias\":np.array([0.4,0.4]),\"slope\":np.array([0.8,0.8])})"
   ]
  },
  {
   "cell_type": "code",
   "execution_count": null,
   "id": "59472a9e",
   "metadata": {
    "tags": []
   },
   "outputs": [],
   "source": [
    "ag = Agent(np.pi, 0.02, np.array([[0.5,0.51]]))\n",
    "\n",
    "for i in range(2000):\n",
    "    ag.step(avoid_walls)\n",
    "\n",
    "print(\"------------\")\n",
    "print(ag.speeds)\n",
    "print(ag.hds)\n",
    "print(ag.velocities)\n",
    "print(ag.positions.shape)"
   ]
  },
  {
   "cell_type": "code",
   "execution_count": null,
   "id": "33421a6a",
   "metadata": {},
   "outputs": [],
   "source": [
    "fig,axs=plt.subplots(figsize=(10,10))\n",
    "\n",
    "for wallname,wall in env.walls.items():\n",
    "    # plottable wall matrix\n",
    "    W = np.array([wall['bias'],sum(wall.values())]).T\n",
    "    \n",
    "    # wall\n",
    "    axs.plot(*W,'orange')\n",
    "    \n",
    "    if \"free_wall\" in wallname:\n",
    "        # The normal vectors n1,n2 to a vector v=(vx,vy)=(v[0],v[1]) in R^2\n",
    "        # is the vectors n1 = (-vy,vx) = (-v[1],v[0]) and n2 = (vy,-vx) = (v[1],-v[0])\n",
    "        # For a more in depth explanation, see:\n",
    "        # https://stackoverflow.com/questions/1243614/how-do-i-calculate-the-normal-vector-of-a-line-segment\n",
    "        v = W.T[1] - W.T[0]\n",
    "        n1 = np.array([-v[1],v[0]])\n",
    "        n1 = n1 / euclidean([0,0],n1) * soft_boundary# unit normal\n",
    "        n2 = np.array([v[1],-v[0]])\n",
    "        n2 = n2 / euclidean((0,0),n2) * soft_boundary# unit normal\n",
    "        \n",
    "        SB1 = (W.T + n1).T # soft boundary 1\n",
    "        axs.plot(*SB1,'orange')\n",
    "        SB2 = (W.T + n2).T # soft boundary 2\n",
    "        axs.plot(*SB2,'orange')\n",
    "    else: # boundary wall\n",
    "        # soft boundary\n",
    "        axs.plot(*np.abs(W - soft_boundary),'orange')\n",
    "        \n",
    "        \n",
    "\"\"\"\n",
    "# reformat walls as easily plottable matrices\n",
    "W1 = np.array([env.walls['w1']['bias'],sum(env.walls['w1'].values())]).T\n",
    "W2 = np.array([env.walls['w2']['bias'],sum(env.walls['w2'].values())]).T\n",
    "W3 = np.array([env.walls['w3']['bias'],sum(env.walls['w3'].values())]).T\n",
    "W4 = np.array([env.walls['w4']['bias'],sum(env.walls['w4'].values())]).T\n",
    "\n",
    "# walls plot\n",
    "axs.plot(*W1,'orange')\n",
    "axs.plot(*W2,'orange')\n",
    "axs.plot(*W3,'orange')\n",
    "axs.plot(*W4,'orange')\n",
    "\n",
    "\n",
    "# soft boundary plot\n",
    "axs.plot(*np.abs(W1 - soft_boundary),'orange')\n",
    "axs.plot(*np.abs(W2 - soft_boundary),'orange')\n",
    "axs.plot(*np.abs(W3 - soft_boundary),'orange')\n",
    "axs.plot(*np.abs(W4 - soft_boundary),'orange')\n",
    "\"\"\"\n",
    "\n",
    "\"\"\"\n",
    "# hard coded walls\n",
    "plt.plot((0,0),(0,2.2),'orange')\n",
    "plt.plot((0,2.2),(0,0),'orange')\n",
    "plt.plot((2.2,2.2),(0,2.2),'orange')\n",
    "plt.plot((2.2,0),(2.2,2.2),'orange')\n",
    "\"\"\"\n",
    "\n",
    "# plot animal path\n",
    "n=ag.positions.shape[0]\n",
    "c=np.zeros((n,4))\n",
    "c[:,-1] = 1\n",
    "c[:,:-1] = 0.9-np.linspace(0,0.9,n)[:,None]\n",
    "axs.scatter(*ag.positions.T,s=0.1,c=c)#[(0,0,0,1)]*100001)\n",
    "\n"
   ]
  },
  {
   "cell_type": "code",
   "execution_count": null,
   "id": "8f1ce6f2",
   "metadata": {},
   "outputs": [],
   "source": []
  },
  {
   "cell_type": "markdown",
   "id": "600edf8f",
   "metadata": {},
   "source": [
    "# Testing whether numpy.append or list.append is faster"
   ]
  },
  {
   "cell_type": "code",
   "execution_count": 93,
   "id": "aad0d89a",
   "metadata": {},
   "outputs": [],
   "source": [
    "from ctimeit import ctimeit"
   ]
  },
  {
   "cell_type": "code",
   "execution_count": 100,
   "id": "f6ac3132",
   "metadata": {},
   "outputs": [
    {
     "name": "stdout",
     "output_type": "stream",
     "text": [
      "File \"<ipython-input-100-d38cc1da07f1>\", line 9, function: array_cat() used <2.150149049999527> seconds\n"
     ]
    },
    {
     "data": {
      "text/plain": [
       "array([0.0000e+00, 1.0000e+00, 2.0000e+00, ..., 9.9997e+04, 9.9998e+04,\n",
       "       9.9999e+04])"
      ]
     },
     "execution_count": 100,
     "metadata": {},
     "output_type": "execute_result"
    }
   ],
   "source": [
    "@ctimeit\n",
    "def array_cat():\n",
    "    a = np.zeros(0)\n",
    "    for i in range(100000):\n",
    "        a = np.append(a,i)\n",
    "    \n",
    "    return a\n",
    "\n",
    "array_cat()"
   ]
  },
  {
   "cell_type": "code",
   "execution_count": 103,
   "id": "94b89860",
   "metadata": {},
   "outputs": [
    {
     "name": "stdout",
     "output_type": "stream",
     "text": [
      "File \"<ipython-input-103-d0af6f9751c8>\", line 8, function: array_cat() used <2.2002655910000612> seconds\n"
     ]
    },
    {
     "data": {
      "text/plain": [
       "array([0.0000e+00, 1.0000e+00, 2.0000e+00, ..., 9.9997e+04, 9.9998e+04,\n",
       "       9.9999e+04])"
      ]
     },
     "execution_count": 103,
     "metadata": {},
     "output_type": "execute_result"
    }
   ],
   "source": [
    "@ctimeit\n",
    "def list_cat():\n",
    "    a = []\n",
    "    for i in range(100000):\n",
    "        a.append(i)\n",
    "    \n",
    "    return i\n",
    "array_cat()"
   ]
  },
  {
   "cell_type": "markdown",
   "id": "50c1ffa7",
   "metadata": {},
   "source": [
    "# Conclusion: NO DIFFERENCE"
   ]
  },
  {
   "cell_type": "code",
   "execution_count": null,
   "id": "6b4ad218",
   "metadata": {},
   "outputs": [],
   "source": []
  }
 ],
 "metadata": {
  "kernelspec": {
   "display_name": "Python 3",
   "language": "python",
   "name": "python3"
  },
  "language_info": {
   "codemirror_mode": {
    "name": "ipython",
    "version": 3
   },
   "file_extension": ".py",
   "mimetype": "text/x-python",
   "name": "python",
   "nbconvert_exporter": "python",
   "pygments_lexer": "ipython3",
   "version": "3.8.8"
  }
 },
 "nbformat": 4,
 "nbformat_minor": 5
}
