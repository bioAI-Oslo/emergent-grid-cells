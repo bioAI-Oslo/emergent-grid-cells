{
 "cells": [
  {
   "cell_type": "code",
   "execution_count": 1,
   "id": "7e82f7fc",
   "metadata": {},
   "outputs": [],
   "source": [
    "%load_ext autoreload\n",
    "%autoreload 2\n",
    "#%matplotlib notebook\n",
    "%matplotlib inline"
   ]
  },
  {
   "cell_type": "code",
   "execution_count": 2,
   "id": "70401762",
   "metadata": {},
   "outputs": [],
   "source": [
    "import numpy as np\n",
    "import matplotlib.pyplot as plt\n",
    "\n",
    "# custom packages\n",
    "from ratsimulator import Agent\n",
    "from ratsimulator.Environment import Rectangle\n",
    "\n",
    "import sys\n",
    "sys.path.append(\"../../src\") if \"../../src\" not in sys.path else None # avoid adding multiple relave paths to sys.path\n",
    "\n",
    "from Brain_numpy import Brain"
   ]
  },
  {
   "cell_type": "code",
   "execution_count": 3,
   "id": "87ba62bd-5932-43dc-8b6b-79a94c74a221",
   "metadata": {},
   "outputs": [],
   "source": [
    "boxsize=(2.2, 2.2)\n",
    "origo=(0,0)\n",
    "soft_boundary=0.2"
   ]
  },
  {
   "cell_type": "code",
   "execution_count": 4,
   "id": "b18f83f3-6f54-4f72-b805-481a5025048c",
   "metadata": {},
   "outputs": [
    {
     "name": "stdout",
     "output_type": "stream",
     "text": [
      "Singular matrix\n",
      "Singular matrix\n"
     ]
    }
   ],
   "source": [
    "env = Rectangle(boxsize=boxsize, soft_boundary=soft_boundary)\n",
    "npcs=4096\n",
    "sigma=0.12\n",
    "brain = Brain(env, npcs, sigma)\n",
    "board = env.get_board(res=(32,32))\n",
    "# avoid_walls = env.avoid_walls\n",
    "# env.add_wall(name=\"free_wall1\", bias=np.array([0.401,0.403]),slope=np.array([0.8,0.8]),t=[0,1])"
   ]
  },
  {
   "cell_type": "markdown",
   "id": "ab3427dc-ec2b-4052-8635-29ff784be383",
   "metadata": {},
   "source": [
    "# Single cell response"
   ]
  },
  {
   "cell_type": "code",
   "execution_count": 5,
   "id": "ec85c631-cc14-427f-8986-7980c17eeab6",
   "metadata": {},
   "outputs": [
    {
     "name": "stdout",
     "output_type": "stream",
     "text": [
      "(32, 32, 4096)\n"
     ]
    },
    {
     "data": {
      "text/plain": [
       "<matplotlib.colorbar.Colorbar at 0x7f5d86ea25b0>"
      ]
     },
     "execution_count": 5,
     "metadata": {},
     "output_type": "execute_result"
    },
    {
     "data": {
      "image/png": "[encoded data removed]",
      "text/plain": [
       "<Figure size 432x288 with 2 Axes>"
      ]
     },
     "metadata": {
      "needs_background": "light"
     },
     "output_type": "display_data"
    }
   ],
   "source": [
    "# VECTORIZED and succinct brain response calculations\n",
    "br = brain(board,lateral_inhibition=False)\n",
    "print(br.shape)\n",
    "plt.imshow(br[...,0])\n",
    "plt.colorbar()"
   ]
  },
  {
   "cell_type": "code",
   "execution_count": 6,
   "id": "d2642999-5d29-4ae9-9c3a-d5a480ed1d98",
   "metadata": {},
   "outputs": [
    {
     "data": {
      "text/plain": [
       "<matplotlib.colorbar.Colorbar at 0x7f5d86cfe190>"
      ]
     },
     "execution_count": 6,
     "metadata": {},
     "output_type": "execute_result"
    },
    {
     "data": {
      "image/png": "[encoded data removed]",
      "text/plain": [
       "<Figure size 432x288 with 2 Axes>"
      ]
     },
     "metadata": {
      "needs_background": "light"
     },
     "output_type": "display_data"
    }
   ],
   "source": [
    "plt.imshow(np.sum(br,axis=-1))\n",
    "plt.colorbar()"
   ]
  },
  {
   "cell_type": "markdown",
   "id": "e552513e-ed77-4aa7-93ca-37676f5cedcb",
   "metadata": {},
   "source": [
    "# Lateral inhibition? -> \"Single cell response, but with global activity regularization\""
   ]
  },
  {
   "cell_type": "code",
   "execution_count": 7,
   "id": "bc54a0cc-f6fa-431d-88b4-392973ae53c3",
   "metadata": {},
   "outputs": [
    {
     "name": "stdout",
     "output_type": "stream",
     "text": [
      "Summed place-cell activity is 1 for each spatial location:  1.0 True\n",
      "Activity = 2.1112581410061572e-11, in middle of the board for cell_nr = 8\n"
     ]
    },
    {
     "data": {
      "image/png": "[encoded data removed]",
      "text/plain": [
       "<Figure size 432x288 with 2 Axes>"
      ]
     },
     "metadata": {
      "needs_background": "light"
     },
     "output_type": "display_data"
    }
   ],
   "source": [
    "cell_nr = 8\n",
    "activity_model = brain.norm_response\n",
    "br = brain(board,lateral_inhibition=True, activity_model=activity_model)\n",
    "plt.imshow(br[...,cell_nr])\n",
    "plt.colorbar()\n",
    "\n",
    "print(\"Summed place-cell activity is 1 for each spatial location: \", np.mean(np.sum(br,axis=-1)), (np.sum(br) == np.prod(br.shape[:-1])))\n",
    "print(\"Activity = {}, in middle of the board for cell_nr = {}\".format(br[int(board.shape[0]/2),int(board.shape[1]/2),cell_nr],cell_nr))"
   ]
  },
  {
   "cell_type": "markdown",
   "id": "e55b583c-45b2-47dd-b0f6-a8cc7747ad67",
   "metadata": {},
   "source": [
    "# Decoding error going from place-cell basis to Euclidean basis"
   ]
  },
  {
   "cell_type": "code",
   "execution_count": 8,
   "id": "eaf59348-a502-4f28-8473-90be320d30c1",
   "metadata": {},
   "outputs": [
    {
     "ename": "TypeError",
     "evalue": "unsupported operand type(s) for -: 'type' and 'float'",
     "output_type": "error",
     "traceback": [
      "\u001b[0;31m---------------------------------------------------------------------------\u001b[0m",
      "\u001b[0;31mTypeError\u001b[0m                                 Traceback (most recent call last)",
      "\u001b[0;32m/tmp/ipykernel_31643/3284269575.py\u001b[0m in \u001b[0;36m<module>\u001b[0;34m\u001b[0m\n\u001b[0;32m----> 1\u001b[0;31m \u001b[0mdiff\u001b[0m \u001b[0;34m=\u001b[0m \u001b[0mnp\u001b[0m\u001b[0;34m.\u001b[0m\u001b[0msqrt\u001b[0m\u001b[0;34m(\u001b[0m\u001b[0mnp\u001b[0m\u001b[0;34m.\u001b[0m\u001b[0msum\u001b[0m\u001b[0;34m(\u001b[0m\u001b[0;34m(\u001b[0m\u001b[0mbrain\u001b[0m\u001b[0;34m.\u001b[0m\u001b[0mto_euclid\u001b[0m\u001b[0;34m(\u001b[0m\u001b[0mbr\u001b[0m\u001b[0;34m,\u001b[0m\u001b[0mk\u001b[0m\u001b[0;34m=\u001b[0m\u001b[0;36m3\u001b[0m\u001b[0;34m)\u001b[0m \u001b[0;34m-\u001b[0m \u001b[0mboard\u001b[0m\u001b[0;34m)\u001b[0m\u001b[0;34m**\u001b[0m\u001b[0;36m2\u001b[0m\u001b[0;34m,\u001b[0m\u001b[0maxis\u001b[0m\u001b[0;34m=\u001b[0m\u001b[0;34m-\u001b[0m\u001b[0;36m1\u001b[0m\u001b[0;34m)\u001b[0m\u001b[0;34m)\u001b[0m\u001b[0;34m\u001b[0m\u001b[0;34m\u001b[0m\u001b[0m\n\u001b[0m\u001b[1;32m      2\u001b[0m \u001b[0mplt\u001b[0m\u001b[0;34m.\u001b[0m\u001b[0mimshow\u001b[0m\u001b[0;34m(\u001b[0m\u001b[0mdiff\u001b[0m\u001b[0;34m)\u001b[0m\u001b[0;34m\u001b[0m\u001b[0;34m\u001b[0m\u001b[0m\n\u001b[1;32m      3\u001b[0m \u001b[0mplt\u001b[0m\u001b[0;34m.\u001b[0m\u001b[0mcolorbar\u001b[0m\u001b[0;34m(\u001b[0m\u001b[0;34m)\u001b[0m\u001b[0;34m\u001b[0m\u001b[0;34m\u001b[0m\u001b[0m\n",
      "\u001b[0;31mTypeError\u001b[0m: unsupported operand type(s) for -: 'type' and 'float'"
     ]
    }
   ],
   "source": [
    "diff = np.sqrt(np.sum((brain.to_euclid(br,k=3) - board)**2,axis=-1))\n",
    "plt.imshow(diff)\n",
    "plt.colorbar()"
   ]
  },
  {
   "cell_type": "markdown",
   "id": "dd9bc71e-9df3-4933-9149-e522444bb365",
   "metadata": {},
   "source": [
    "# Sorschers place-cell activity"
   ]
  },
  {
   "cell_type": "code",
   "execution_count": 9,
   "id": "e2a66046-d76b-4cc1-b80b-b79bbdf42356",
   "metadata": {},
   "outputs": [
    {
     "name": "stdout",
     "output_type": "stream",
     "text": [
      "Activity = 1.1406967591734437e-07, in middle of the board for cell_nr = 8\n"
     ]
    },
    {
     "data": {
      "image/png": "[encoded data removed]",
      "text/plain": [
       "<Figure size 432x288 with 2 Axes>"
      ]
     },
     "metadata": {
      "needs_background": "light"
     },
     "output_type": "display_data"
    }
   ],
   "source": [
    "br = brain.softmax_response(board,DoG=True)\n",
    "plt.imshow(br[...,cell_nr])\n",
    "plt.colorbar()\n",
    "print(\"Activity = {}, in middle of the board for cell_nr = {}\".format(br[int(board.shape[0]/2),int(board.shape[1]/2),cell_nr],cell_nr))"
   ]
  },
  {
   "cell_type": "markdown",
   "id": "40ef8d1f-99a4-47e0-9c39-84a2f2046a31",
   "metadata": {},
   "source": [
    "# Non-vectorized plotting (Sanity check)"
   ]
  },
  {
   "cell_type": "code",
   "execution_count": 11,
   "id": "7324e78f-ca84-418b-9a99-d974bde03913",
   "metadata": {},
   "outputs": [
    {
     "data": {
      "text/plain": [
       "<matplotlib.colorbar.Colorbar at 0x7f5d86a85d00>"
      ]
     },
     "execution_count": 11,
     "metadata": {},
     "output_type": "execute_result"
    },
    {
     "data": {
      "image/png": "[encoded data removed]",
      "text/plain": [
       "<Figure size 432x288 with 2 Axes>"
      ]
     },
     "metadata": {
      "needs_background": "light"
     },
     "output_type": "display_data"
    }
   ],
   "source": [
    "board = env.get_board()\n",
    "exmp_pc = brain.pcs[0]\n",
    "Z = np.zeros(board.shape[:-1])\n",
    "for i in range(board.shape[0]):\n",
    "    for j in range(board.shape[1]):\n",
    "        #print(board[i,j],exmp_pc)\n",
    "        d = brain.d_pcc(board[i,j],exmp_pc)\n",
    "        tmp = brain.ricker_response(d) # or norm_response\n",
    "        #print(tmp)\n",
    "        Z[i,j] = tmp\n",
    "\n",
    "plt.imshow(Z)\n",
    "plt.colorbar()"
   ]
  },
  {
   "cell_type": "code",
   "execution_count": 12,
   "id": "de80ecd8-8927-4542-b882-b3e972cafbd7",
   "metadata": {},
   "outputs": [
    {
     "data": {
      "image/png": "[encoded data removed]",
      "text/plain": [
       "<Figure size 432x288 with 10 Axes>"
      ]
     },
     "metadata": {
      "needs_background": "light"
     },
     "output_type": "display_data"
    }
   ],
   "source": [
    "ncols,nrows = 5,2\n",
    "fig,axs=plt.subplots(ncols=ncols,nrows=nrows)\n",
    "\n",
    "for cols in range(ncols):\n",
    "    for rows in range(nrows):\n",
    "        Z = np.zeros(board.shape[:-1])\n",
    "        for i in range(board.shape[0]):\n",
    "            for j in range(board.shape[1]):\n",
    "                tmp = brain.d_pcc(board[i,j],brain.pcs[cols*nrows+rows])\n",
    "                tmp = brain.ricker_response(tmp)\n",
    "                Z[i,j] = tmp\n",
    "            \n",
    "        \n",
    "        axs[rows,cols].imshow(Z)\n",
    "        \n",
    "plt.tight_layout()"
   ]
  },
  {
   "cell_type": "code",
   "execution_count": null,
   "id": "87a97e4a-38ab-4ff1-8d98-d195055f6c4a",
   "metadata": {},
   "outputs": [],
   "source": []
  }
 ],
 "metadata": {
  "kernelspec": {
   "display_name": "Python 3 (ipykernel)",
   "language": "python",
   "name": "python3"
  },
  "language_info": {
   "codemirror_mode": {
    "name": "ipython",
    "version": 3
   },
   "file_extension": ".py",
   "mimetype": "text/x-python",
   "name": "python",
   "nbconvert_exporter": "python",
   "pygments_lexer": "ipython3",
   "version": "3.9.6"
  }
 },
 "nbformat": 4,
 "nbformat_minor": 5
}
