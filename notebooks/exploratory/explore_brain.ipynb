{
 "cells": [
  {
   "cell_type": "code",
   "execution_count": 14,
   "id": "7e82f7fc",
   "metadata": {},
   "outputs": [
    {
     "name": "stdout",
     "output_type": "stream",
     "text": [
      "The autoreload extension is already loaded. To reload it, use:\n",
      "  %reload_ext autoreload\n"
     ]
    }
   ],
   "source": [
    "%load_ext autoreload\n",
    "%autoreload 2\n",
    "#%matplotlib notebook\n",
    "%matplotlib inline"
   ]
  },
  {
   "cell_type": "code",
   "execution_count": 15,
   "id": "70401762",
   "metadata": {},
   "outputs": [],
   "source": [
    "import numpy as np\n",
    "import torch\n",
    "import matplotlib.pyplot as plt\n",
    "\n",
    "# custom packages\n",
    "from ratsimulator import Agent\n",
    "from ratsimulator.Environment import Rectangle\n",
    "\n",
    "import sys\n",
    "sys.path.append(\"../../src\") if \"../../src\" not in sys.path else None # avoid adding multiple relave paths to sys.path\n",
    "\n",
    "from Brain import Brain"
   ]
  },
  {
   "cell_type": "code",
   "execution_count": 16,
   "id": "87ba62bd-5932-43dc-8b6b-79a94c74a221",
   "metadata": {},
   "outputs": [],
   "source": [
    "boxsize=(2.2, 2.2)\n",
    "origo=(0,0)\n",
    "soft_boundary=0.2"
   ]
  },
  {
   "cell_type": "code",
   "execution_count": 17,
   "id": "b18f83f3-6f54-4f72-b805-481a5025048c",
   "metadata": {},
   "outputs": [
    {
     "name": "stdout",
     "output_type": "stream",
     "text": [
      "Singular matrix\n",
      "Singular matrix\n"
     ]
    }
   ],
   "source": [
    "env = Rectangle(boxsize=boxsize, soft_boundary=soft_boundary)\n",
    "npcs=4096\n",
    "sigma=0.12\n",
    "brain = Brain(env, npcs, sigma)\n",
    "board = env.get_board(res=(32,32))\n",
    "# avoid_walls = env.avoid_walls\n",
    "# env.add_wall(name=\"free_wall1\", bias=np.array([0.401,0.403]),slope=np.array([0.8,0.8]),t=[0,1])"
   ]
  },
  {
   "cell_type": "markdown",
   "id": "ab3427dc-ec2b-4052-8635-29ff784be383",
   "metadata": {},
   "source": [
    "# Single cell response"
   ]
  },
  {
   "cell_type": "code",
   "execution_count": 18,
   "id": "ec85c631-cc14-427f-8986-7980c17eeab6",
   "metadata": {},
   "outputs": [
    {
     "name": "stdout",
     "output_type": "stream",
     "text": [
      "torch.Size([32, 32, 4096])\n"
     ]
    },
    {
     "data": {
      "text/plain": [
       "<matplotlib.colorbar.Colorbar at 0x7f5d8689dc10>"
      ]
     },
     "execution_count": 18,
     "metadata": {},
     "output_type": "execute_result"
    },
    {
     "data": {
      "image/png": "[encoded data removed]",
      "text/plain": [
       "<Figure size 432x288 with 2 Axes>"
      ]
     },
     "metadata": {
      "needs_background": "light"
     },
     "output_type": "display_data"
    }
   ],
   "source": [
    "# VECTORIZED and succinct brain response calculations\n",
    "br = brain.softmax_response(torch.tensor(board, dtype=torch.float32))\n",
    "print(br.shape)\n",
    "plt.imshow(br[...,0])\n",
    "plt.colorbar()"
   ]
  },
  {
   "cell_type": "markdown",
   "id": "e55b583c-45b2-47dd-b0f6-a8cc7747ad67",
   "metadata": {},
   "source": [
    "# Decoding error going from place-cell basis to Euclidean basis"
   ]
  },
  {
   "cell_type": "code",
   "execution_count": 19,
   "id": "eaf59348-a502-4f28-8473-90be320d30c1",
   "metadata": {},
   "outputs": [
    {
     "name": "stdout",
     "output_type": "stream",
     "text": [
      "torch.Size([32, 32, 4096])\n"
     ]
    },
    {
     "data": {
      "text/plain": [
       "<matplotlib.colorbar.Colorbar at 0x7f5d867e00a0>"
      ]
     },
     "execution_count": 19,
     "metadata": {},
     "output_type": "execute_result"
    },
    {
     "data": {
      "image/png": "[encoded data removed]",
      "text/plain": [
       "<Figure size 432x288 with 2 Axes>"
      ]
     },
     "metadata": {
      "needs_background": "light"
     },
     "output_type": "display_data"
    }
   ],
   "source": [
    "print(br.shape)\n",
    "diff = torch.sqrt(torch.sum((brain.to_euclid(br,k=3) - board)**2,axis=-1))\n",
    "plt.imshow(diff)\n",
    "plt.colorbar()"
   ]
  },
  {
   "cell_type": "markdown",
   "id": "dd9bc71e-9df3-4933-9149-e522444bb365",
   "metadata": {},
   "source": [
    "# Sorschers place-cell activity"
   ]
  },
  {
   "cell_type": "code",
   "execution_count": 65,
   "id": "e2a66046-d76b-4cc1-b80b-b79bbdf42356",
   "metadata": {},
   "outputs": [
    {
     "ename": "TypeError",
     "evalue": "cdist(): argument 'x1' (position 1) must be Tensor, not numpy.ndarray",
     "output_type": "error",
     "traceback": [
      "\u001b[0;31m---------------------------------------------------------------------------\u001b[0m",
      "\u001b[0;31mTypeError\u001b[0m                                 Traceback (most recent call last)",
      "\u001b[0;32m/tmp/ipykernel_37718/1126493485.py\u001b[0m in \u001b[0;36m<module>\u001b[0;34m\u001b[0m\n\u001b[0;32m----> 1\u001b[0;31m \u001b[0mbr\u001b[0m \u001b[0;34m=\u001b[0m \u001b[0mbrain\u001b[0m\u001b[0;34m.\u001b[0m\u001b[0msoftmax_response\u001b[0m\u001b[0;34m(\u001b[0m\u001b[0mboard\u001b[0m\u001b[0;34m,\u001b[0m\u001b[0mDoG\u001b[0m\u001b[0;34m=\u001b[0m\u001b[0;32mTrue\u001b[0m\u001b[0;34m)\u001b[0m\u001b[0;34m\u001b[0m\u001b[0;34m\u001b[0m\u001b[0m\n\u001b[0m\u001b[1;32m      2\u001b[0m \u001b[0mplt\u001b[0m\u001b[0;34m.\u001b[0m\u001b[0mimshow\u001b[0m\u001b[0;34m(\u001b[0m\u001b[0mbr\u001b[0m\u001b[0;34m[\u001b[0m\u001b[0;34m...\u001b[0m\u001b[0;34m,\u001b[0m\u001b[0mcell_nr\u001b[0m\u001b[0;34m]\u001b[0m\u001b[0;34m)\u001b[0m\u001b[0;34m\u001b[0m\u001b[0;34m\u001b[0m\u001b[0m\n\u001b[1;32m      3\u001b[0m \u001b[0mplt\u001b[0m\u001b[0;34m.\u001b[0m\u001b[0mcolorbar\u001b[0m\u001b[0;34m(\u001b[0m\u001b[0;34m)\u001b[0m\u001b[0;34m\u001b[0m\u001b[0;34m\u001b[0m\u001b[0m\n\u001b[1;32m      4\u001b[0m \u001b[0mprint\u001b[0m\u001b[0;34m(\u001b[0m\u001b[0;34m\"Activity = {}, in middle of the board for cell_nr = {}\"\u001b[0m\u001b[0;34m.\u001b[0m\u001b[0mformat\u001b[0m\u001b[0;34m(\u001b[0m\u001b[0mbr\u001b[0m\u001b[0;34m[\u001b[0m\u001b[0mint\u001b[0m\u001b[0;34m(\u001b[0m\u001b[0mboard\u001b[0m\u001b[0;34m.\u001b[0m\u001b[0mshape\u001b[0m\u001b[0;34m[\u001b[0m\u001b[0;36m0\u001b[0m\u001b[0;34m]\u001b[0m\u001b[0;34m/\u001b[0m\u001b[0;36m2\u001b[0m\u001b[0;34m)\u001b[0m\u001b[0;34m,\u001b[0m\u001b[0mint\u001b[0m\u001b[0;34m(\u001b[0m\u001b[0mboard\u001b[0m\u001b[0;34m.\u001b[0m\u001b[0mshape\u001b[0m\u001b[0;34m[\u001b[0m\u001b[0;36m1\u001b[0m\u001b[0;34m]\u001b[0m\u001b[0;34m/\u001b[0m\u001b[0;36m2\u001b[0m\u001b[0;34m)\u001b[0m\u001b[0;34m,\u001b[0m\u001b[0mcell_nr\u001b[0m\u001b[0;34m]\u001b[0m\u001b[0;34m,\u001b[0m\u001b[0mcell_nr\u001b[0m\u001b[0;34m)\u001b[0m\u001b[0;34m)\u001b[0m\u001b[0;34m\u001b[0m\u001b[0;34m\u001b[0m\u001b[0m\n",
      "\u001b[0;32m~/Prosjekter/emergent-grid-cells/notebooks/exploratory/../../src/Brain.py\u001b[0m in \u001b[0;36msoftmax_response\u001b[0;34m(self, pos, DoG, surround_scale, p, compute_mode)\u001b[0m\n\u001b[1;32m     27\u001b[0m \u001b[0;34m\u001b[0m\u001b[0m\n\u001b[1;32m     28\u001b[0m         \u001b[0;31m# distance to place cell center\u001b[0m\u001b[0;34m\u001b[0m\u001b[0;34m\u001b[0m\u001b[0;34m\u001b[0m\u001b[0m\n\u001b[0;32m---> 29\u001b[0;31m         \u001b[0mdists\u001b[0m \u001b[0;34m=\u001b[0m \u001b[0mtorch\u001b[0m\u001b[0;34m.\u001b[0m\u001b[0mcdist\u001b[0m\u001b[0;34m(\u001b[0m\u001b[0mpos\u001b[0m\u001b[0;34m,\u001b[0m \u001b[0mself\u001b[0m\u001b[0;34m.\u001b[0m\u001b[0mpcs\u001b[0m\u001b[0;34m,\u001b[0m \u001b[0mp\u001b[0m\u001b[0;34m=\u001b[0m\u001b[0mp\u001b[0m\u001b[0;34m,\u001b[0m \u001b[0mcompute_mode\u001b[0m\u001b[0;34m=\u001b[0m\u001b[0mcompute_mode\u001b[0m\u001b[0;34m)\u001b[0m\u001b[0;34m\u001b[0m\u001b[0;34m\u001b[0m\u001b[0m\n\u001b[0m\u001b[1;32m     30\u001b[0m         \u001b[0mactivity\u001b[0m \u001b[0;34m=\u001b[0m \u001b[0mtorch\u001b[0m\u001b[0;34m.\u001b[0m\u001b[0mnn\u001b[0m\u001b[0;34m.\u001b[0m\u001b[0mfunctional\u001b[0m\u001b[0;34m.\u001b[0m\u001b[0msoftmax\u001b[0m\u001b[0;34m(\u001b[0m\u001b[0;34m-\u001b[0m\u001b[0mdists\u001b[0m \u001b[0;34m/\u001b[0m \u001b[0;34m(\u001b[0m\u001b[0;36m2\u001b[0m \u001b[0;34m*\u001b[0m \u001b[0mself\u001b[0m\u001b[0;34m.\u001b[0m\u001b[0msigma\u001b[0m \u001b[0;34m**\u001b[0m \u001b[0;36m2\u001b[0m\u001b[0;34m)\u001b[0m\u001b[0;34m,\u001b[0m \u001b[0mdim\u001b[0m\u001b[0;34m=\u001b[0m\u001b[0;34m-\u001b[0m\u001b[0;36m1\u001b[0m\u001b[0;34m)\u001b[0m\u001b[0;34m\u001b[0m\u001b[0;34m\u001b[0m\u001b[0m\n\u001b[1;32m     31\u001b[0m \u001b[0;34m\u001b[0m\u001b[0m\n",
      "\u001b[0;32m~/anaconda3/envs/ml/lib/python3.9/site-packages/torch/functional.py\u001b[0m in \u001b[0;36mcdist\u001b[0;34m(x1, x2, p, compute_mode)\u001b[0m\n\u001b[1;32m   1047\u001b[0m             cdist, (x1, x2), x1, x2, p=p, compute_mode=compute_mode)\n\u001b[1;32m   1048\u001b[0m     \u001b[0;32mif\u001b[0m \u001b[0mcompute_mode\u001b[0m \u001b[0;34m==\u001b[0m \u001b[0;34m'use_mm_for_euclid_dist_if_necessary'\u001b[0m\u001b[0;34m:\u001b[0m\u001b[0;34m\u001b[0m\u001b[0;34m\u001b[0m\u001b[0m\n\u001b[0;32m-> 1049\u001b[0;31m         \u001b[0;32mreturn\u001b[0m \u001b[0m_VF\u001b[0m\u001b[0;34m.\u001b[0m\u001b[0mcdist\u001b[0m\u001b[0;34m(\u001b[0m\u001b[0mx1\u001b[0m\u001b[0;34m,\u001b[0m \u001b[0mx2\u001b[0m\u001b[0;34m,\u001b[0m \u001b[0mp\u001b[0m\u001b[0;34m,\u001b[0m \u001b[0;32mNone\u001b[0m\u001b[0;34m)\u001b[0m  \u001b[0;31m# type: ignore[attr-defined]\u001b[0m\u001b[0;34m\u001b[0m\u001b[0;34m\u001b[0m\u001b[0m\n\u001b[0m\u001b[1;32m   1050\u001b[0m     \u001b[0;32melif\u001b[0m \u001b[0mcompute_mode\u001b[0m \u001b[0;34m==\u001b[0m \u001b[0;34m'use_mm_for_euclid_dist'\u001b[0m\u001b[0;34m:\u001b[0m\u001b[0;34m\u001b[0m\u001b[0;34m\u001b[0m\u001b[0m\n\u001b[1;32m   1051\u001b[0m         \u001b[0;32mreturn\u001b[0m \u001b[0m_VF\u001b[0m\u001b[0;34m.\u001b[0m\u001b[0mcdist\u001b[0m\u001b[0;34m(\u001b[0m\u001b[0mx1\u001b[0m\u001b[0;34m,\u001b[0m \u001b[0mx2\u001b[0m\u001b[0;34m,\u001b[0m \u001b[0mp\u001b[0m\u001b[0;34m,\u001b[0m \u001b[0;36m1\u001b[0m\u001b[0;34m)\u001b[0m  \u001b[0;31m# type: ignore[attr-defined]\u001b[0m\u001b[0;34m\u001b[0m\u001b[0;34m\u001b[0m\u001b[0m\n",
      "\u001b[0;31mTypeError\u001b[0m: cdist(): argument 'x1' (position 1) must be Tensor, not numpy.ndarray"
     ]
    }
   ],
   "source": [
    "br = brain.softmax_response(board,DoG=True)\n",
    "plt.imshow(br[...,cell_nr])\n",
    "plt.colorbar()\n",
    "print(\"Activity = {}, in middle of the board for cell_nr = {}\".format(br[int(board.shape[0]/2),int(board.shape[1]/2),cell_nr],cell_nr))"
   ]
  },
  {
   "cell_type": "markdown",
   "id": "40ef8d1f-99a4-47e0-9c39-84a2f2046a31",
   "metadata": {},
   "source": [
    "# Non-vectorized plotting (Sanity check)"
   ]
  },
  {
   "cell_type": "code",
   "execution_count": null,
   "id": "7324e78f-ca84-418b-9a99-d974bde03913",
   "metadata": {},
   "outputs": [],
   "source": [
    "board = env.get_board()\n",
    "exmp_pc = brain.pcs[0]\n",
    "Z = np.zeros(board.shape[:-1])\n",
    "for i in range(board.shape[0]):\n",
    "    for j in range(board.shape[1]):\n",
    "        #print(board[i,j],exmp_pc)\n",
    "        d = brain.d_pcc(board[i,j],exmp_pc)\n",
    "        tmp = brain.ricker_response(d) # or norm_response\n",
    "        #print(tmp)\n",
    "        Z[i,j] = tmp\n",
    "\n",
    "plt.imshow(Z)\n",
    "plt.colorbar()"
   ]
  },
  {
   "cell_type": "code",
   "execution_count": null,
   "id": "de80ecd8-8927-4542-b882-b3e972cafbd7",
   "metadata": {},
   "outputs": [],
   "source": [
    "ncols,nrows = 5,2\n",
    "fig,axs=plt.subplots(ncols=ncols,nrows=nrows)\n",
    "\n",
    "for cols in range(ncols):\n",
    "    for rows in range(nrows):\n",
    "        Z = np.zeros(board.shape[:-1])\n",
    "        for i in range(board.shape[0]):\n",
    "            for j in range(board.shape[1]):\n",
    "                tmp = brain.d_pcc(board[i,j],brain.pcs[cols*nrows+rows])\n",
    "                tmp = brain.ricker_response(tmp)\n",
    "                Z[i,j] = tmp\n",
    "            \n",
    "        \n",
    "        axs[rows,cols].imshow(Z)\n",
    "        \n",
    "plt.tight_layout()"
   ]
  },
  {
   "cell_type": "code",
   "execution_count": null,
   "id": "87a97e4a-38ab-4ff1-8d98-d195055f6c4a",
   "metadata": {},
   "outputs": [],
   "source": []
  }
 ],
 "metadata": {
  "kernelspec": {
   "display_name": "Python 3 (ipykernel)",
   "language": "python",
   "name": "python3"
  },
  "language_info": {
   "codemirror_mode": {
    "name": "ipython",
    "version": 3
   },
   "file_extension": ".py",
   "mimetype": "text/x-python",
   "name": "python",
   "nbconvert_exporter": "python",
   "pygments_lexer": "ipython3",
   "version": "3.9.6"
  }
 },
 "nbformat": 4,
 "nbformat_minor": 5
}
