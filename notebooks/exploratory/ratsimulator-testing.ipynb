{
 "cells": [
  {
   "cell_type": "code",
   "execution_count": 1,
   "id": "af8ddf8a-2a3c-4854-ab41-564e68be4e17",
   "metadata": {},
   "outputs": [],
   "source": [
    "%load_ext autoreload\n",
    "%autoreload 2\n",
    "#%matplotlib notebook\n",
    "%matplotlib inline"
   ]
  },
  {
   "cell_type": "code",
   "execution_count": 10,
   "id": "fb2f7252-f722-4b8e-a4f2-8d157bb911c8",
   "metadata": {},
   "outputs": [],
   "source": [
    "from ratsimulator import Agent, Environment\n",
    "import matplotlib.pyplot as plt"
   ]
  },
  {
   "cell_type": "code",
   "execution_count": 7,
   "id": "99f8bc77-58b9-4080-b954-0b2104c414dc",
   "metadata": {},
   "outputs": [
    {
     "name": "stdout",
     "output_type": "stream",
     "text": [
      "Singular matrix\n",
      "Singular matrix\n"
     ]
    }
   ],
   "source": [
    "env = Environment.Rectangle()\n",
    "agent = Agent(env)"
   ]
  },
  {
   "cell_type": "code",
   "execution_count": 8,
   "id": "21838b18-918a-4028-8641-5aba13471c44",
   "metadata": {},
   "outputs": [],
   "source": [
    "for i in range(1000):\n",
    "    agent.step()"
   ]
  },
  {
   "cell_type": "code",
   "execution_count": 11,
   "id": "c5d69651-8da2-4592-aa64-ab36041f1aa3",
   "metadata": {},
   "outputs": [
    {
     "data": {
      "text/plain": [
       "(array([[  1.,  10.,  54., 226., 329., 278.,  95.,   7.,   1.,   0.],\n",
       "        [  1.,  13.,  58., 227., 360., 233.,  98.,   9.,   1.,   1.]]),\n",
       " array([-0.06825757, -0.0535756 , -0.03889364, -0.02421167, -0.0095297 ,\n",
       "         0.00515227,  0.01983424,  0.03451621,  0.04919817,  0.06388014,\n",
       "         0.07856211]),\n",
       " <a list of 2 BarContainer objects>)"
      ]
     },
     "execution_count": 11,
     "metadata": {},
     "output_type": "execute_result"
    },
    {
     "data": {
      "image/png": "[encoded data removed]",
      "text/plain": [
       "<Figure size 432x288 with 1 Axes>"
      ]
     },
     "metadata": {
      "needs_background": "light"
     },
     "output_type": "display_data"
    }
   ],
   "source": [
    "plt.hist(agent.velocities)"
   ]
  }
 ],
 "metadata": {
  "kernelspec": {
   "display_name": "Python [conda env:ml]",
   "language": "python",
   "name": "conda-env-ml-py"
  },
  "language_info": {
   "codemirror_mode": {
    "name": "ipython",
    "version": 3
   },
   "file_extension": ".py",
   "mimetype": "text/x-python",
   "name": "python",
   "nbconvert_exporter": "python",
   "pygments_lexer": "ipython3",
   "version": "3.9.9"
  }
 },
 "nbformat": 4,
 "nbformat_minor": 5
}
