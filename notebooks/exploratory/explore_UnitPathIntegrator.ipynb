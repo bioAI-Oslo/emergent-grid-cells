{
 "cells": [
  {
   "cell_type": "code",
   "execution_count": 1,
   "id": "7e82f7fc",
   "metadata": {},
   "outputs": [],
   "source": [
    "%load_ext autoreload\n",
    "%autoreload 2\n",
    "#%matplotlib notebook\n",
    "%matplotlib inline"
   ]
  },
  {
   "cell_type": "code",
   "execution_count": 2,
   "id": "70401762",
   "metadata": {},
   "outputs": [],
   "source": [
    "import numpy as np\n",
    "import matplotlib.pyplot as plt\n",
    "import tensorflow as tf\n",
    "\n",
    "# custom packages\n",
    "from ratsimulator import Agent, trajectory_generator, batch_trajectory_generator\n",
    "from ratsimulator.Environment import OpenField\n",
    "from ctimeit import ctimeit # for timing\n",
    "\n",
    "import sys\n",
    "sys.path.append(\"../../src\") if \"../../src\" not in sys.path else None # avoid adding multiple relave paths to sys.path\n",
    "\n",
    "from Models import SorscherRNN, UnitPathIntegratorTF"
   ]
  },
  {
   "cell_type": "markdown",
   "id": "b3a33142-a4b6-43be-960d-b259dbc74ca7",
   "metadata": {},
   "source": [
    "# Initialise Environment"
   ]
  },
  {
   "cell_type": "code",
   "execution_count": 3,
   "id": "87ba62bd-5932-43dc-8b6b-79a94c74a221",
   "metadata": {},
   "outputs": [],
   "source": [
    "# OpenField-Environment params\n",
    "low = (0, 0)\n",
    "high = (2.2, 2.2)\n",
    "\n",
    "# Init Environment\n",
    "env = OpenField(low=low,high=high)"
   ]
  },
  {
   "cell_type": "markdown",
   "id": "9c93a178-f2d5-4dcb-8079-b525c323f0f1",
   "metadata": {},
   "source": [
    "# Initialise Agent / Data generator"
   ]
  },
  {
   "cell_type": "code",
   "execution_count": 4,
   "id": "87a97e4a-38ab-4ff1-8d98-d195055f6c4a",
   "metadata": {},
   "outputs": [],
   "source": [
    "# Training data (Agent) params\n",
    "batch_size = 32\n",
    "seq_len = 2\n",
    "angle0 = None # random\n",
    "p0 = None     # random\n",
    "\n",
    "# As used by Sorscher\n",
    "dt = 0.02\n",
    "sigma = 5.76 * 2\n",
    "b = 0.13 * 2 * np.pi\n",
    "mu = 0\n",
    "\n",
    "# Init training data\n",
    "btg = batch_trajectory_generator(batch_size, env, seq_len, angle0, p0, dt=dt, sigma=sigma, b=b, mu=mu)"
   ]
  },
  {
   "cell_type": "markdown",
   "id": "9b0bdebb-a788-4a80-b6a1-762cc00cb05b",
   "metadata": {},
   "source": [
    "# Format data-generator"
   ]
  },
  {
   "cell_type": "code",
   "execution_count": 15,
   "id": "81620f78-a82e-4080-a45e-8cb60d57971c",
   "metadata": {},
   "outputs": [],
   "source": [
    "def to_one_hot(x):\n",
    "    \"\"\"OBS! if max(x,axis=-1) is not unique, then return result is not one-hot, but k-hot\"\"\"\n",
    "    return np.where(x == np.max(x,axis=-1,keepdims=True),1,0)\n",
    "    \n",
    "def data_generator(btg):\n",
    "    while True:\n",
    "        pos, vel = next(btg)\n",
    "        init_pos, y_true = pos[:,0], pos[:,1] # \"next\" pos is label\n",
    "        vel = vel[:,1] # first velocity (idx 0) is always 0 (initial vel)\n",
    "        yield (vel,init_pos), y_true \n",
    "\n",
    "# Initialise data generator\n",
    "dg = data_generator(btg)"
   ]
  },
  {
   "cell_type": "markdown",
   "id": "c869bdb3-13a4-4e3a-bd12-b90bc9d87f0f",
   "metadata": {},
   "source": [
    "# Specify and instantiate Model"
   ]
  },
  {
   "cell_type": "code",
   "execution_count": 6,
   "id": "e5a0cfb2-4b98-41b2-a536-455912238784",
   "metadata": {},
   "outputs": [
    {
     "name": "stdout",
     "output_type": "stream",
     "text": [
      "Model: \"unit_path_integrator\"\n",
      "_________________________________________________________________\n",
      "Layer (type)                 Output Shape              Param #   \n",
      "=================================================================\n",
      "velocity_encoder (Dense)     multiple                  4         \n",
      "_________________________________________________________________\n",
      "init_position_encoder (Dense multiple                  4         \n",
      "_________________________________________________________________\n",
      "decoder (Dense)              multiple                  4         \n",
      "_________________________________________________________________\n",
      "activation (Activation)      multiple                  0         \n",
      "=================================================================\n",
      "Total params: 12\n",
      "Trainable params: 12\n",
      "Non-trainable params: 0\n",
      "_________________________________________________________________\n"
     ]
    }
   ],
   "source": [
    "# Model params\n",
    "Ng=2\n",
    "Np=2\n",
    "weight_decay=1e-4\n",
    "activation=None#\"relu\"\n",
    "lr=1e-3 # 1e-3 is default for Adam()\n",
    "\n",
    "# model init\n",
    "model = UnitPathIntegratorTF(Ng,Np,weight_decay,activation)\n",
    "\n",
    "model.compile(\n",
    "    optimizer=tf.keras.optimizers.Adam(lr=lr),\n",
    "    loss=tf.keras.losses.MeanAbsoluteError()\n",
    ")\n",
    "\n",
    "# Build (by specifying input_shape) and summarize model\n",
    "input_shape = [(batch_size, 2), (batch_size, Np)] # velocity-input UNION initial-state\n",
    "model.build(input_shape)\n",
    "model.summary()"
   ]
  },
  {
   "cell_type": "markdown",
   "id": "4c31da13-0e83-4f1b-a138-685a1f41e4a2",
   "metadata": {},
   "source": [
    "# Train model"
   ]
  },
  {
   "cell_type": "code",
   "execution_count": 7,
   "id": "93c61024-7ae7-4612-8bcc-8b205b8db193",
   "metadata": {
    "tags": []
   },
   "outputs": [
    {
     "name": "stdout",
     "output_type": "stream",
     "text": [
      "Epoch 1/15\n",
      "200/200 [==============================] - 2s 8ms/step - loss: 1.4652\n",
      "Epoch 2/15\n",
      "200/200 [==============================] - 1s 7ms/step - loss: 0.9488\n",
      "Epoch 3/15\n",
      "200/200 [==============================] - 1s 6ms/step - loss: 0.4608\n",
      "Epoch 4/15\n",
      "200/200 [==============================] - 1s 6ms/step - loss: 0.3522\n",
      "Epoch 5/15\n",
      "200/200 [==============================] - 1s 6ms/step - loss: 0.2877\n",
      "Epoch 6/15\n",
      "200/200 [==============================] - 1s 7ms/step - loss: 0.2075\n",
      "Epoch 7/15\n",
      "200/200 [==============================] - 1s 7ms/step - loss: 0.1124\n",
      "Epoch 8/15\n",
      "200/200 [==============================] - 1s 6ms/step - loss: 0.0072\n",
      "Epoch 9/15\n",
      "200/200 [==============================] - 1s 6ms/step - loss: 0.0031\n",
      "Epoch 10/15\n",
      "200/200 [==============================] - 1s 6ms/step - loss: 0.0010\n",
      "Epoch 11/15\n",
      "200/200 [==============================] - 1s 6ms/step - loss: 9.4543e-04\n",
      "Epoch 12/15\n",
      "200/200 [==============================] - 1s 7ms/step - loss: 7.5068e-04\n",
      "Epoch 13/15\n",
      "200/200 [==============================] - 1s 7ms/step - loss: 8.3642e-04\n",
      "Epoch 14/15\n",
      "200/200 [==============================] - 1s 7ms/step - loss: 6.7846e-04\n",
      "Epoch 15/15\n",
      "200/200 [==============================] - 1s 7ms/step - loss: 6.3652e-04\n"
     ]
    },
    {
     "data": {
      "text/plain": [
       "<tensorflow.python.keras.callbacks.History at 0x7f565020e4c0>"
      ]
     },
     "execution_count": 7,
     "metadata": {},
     "output_type": "execute_result"
    }
   ],
   "source": [
    "# train model\n",
    "epochs = 15\n",
    "steps_per_epoch = 200\n",
    "model.fit(x=dg, epochs=epochs, steps_per_epoch=steps_per_epoch)"
   ]
  },
  {
   "cell_type": "code",
   "execution_count": 8,
   "id": "b26d636a-e64e-4d51-bcc0-8d539fadd066",
   "metadata": {},
   "outputs": [
    {
     "data": {
      "text/plain": [
       "[<tf.Variable 'velocity_encoder/kernel:0' shape=(2, 2) dtype=float32, numpy=\n",
       " array([[-0.0796145 , -0.99566483],\n",
       "        [ 0.6353176 , -0.35652557]], dtype=float32)>,\n",
       " <tf.Variable 'init_position_encoder/kernel:0' shape=(2, 2) dtype=float32, numpy=\n",
       " array([[-0.08186558, -0.9949532 ],\n",
       "        [ 0.6376683 , -0.36296326]], dtype=float32)>,\n",
       " <tf.Variable 'decoder/kernel:0' shape=(2, 2) dtype=float32, numpy=\n",
       " array([[-0.5464521 ,  1.4980081 ],\n",
       "        [-0.95955974, -0.12341173]], dtype=float32)>]"
      ]
     },
     "execution_count": 8,
     "metadata": {},
     "output_type": "execute_result"
    }
   ],
   "source": [
    "# Ideal path integrator in Euclidean coordinates for a model: p = C@activation(A@v + B@p0) \n",
    "# should yield all weights as idendity weights ? \n",
    "model.weights"
   ]
  },
  {
   "cell_type": "markdown",
   "id": "0f4a2531-42ba-4344-90b8-14eacff6cb43",
   "metadata": {},
   "source": [
    "# Interesting observations"
   ]
  },
  {
   "cell_type": "code",
   "execution_count": 9,
   "id": "24a155e7-2718-4531-939a-b342b70ffc9f",
   "metadata": {},
   "outputs": [
    {
     "name": "stdout",
     "output_type": "stream",
     "text": [
      "--- Are the three weight matricies approximately equal? ---\n",
      "\n",
      "A =  [[-0.0796145  -0.99566483]\n",
      " [ 0.6353176  -0.35652557]]\n",
      "B =  [[-0.08186558 -0.9949532 ]\n",
      " [ 0.6376683  -0.36296326]]\n",
      "C^-1 =  [[-0.0820084 -0.9954423]\n",
      " [ 0.6376376 -0.3631232]]\n",
      "\n",
      "sum(abs(A-B)) = 0.011751078069210052\n",
      "sum(abs(A-C^-1)) = 0.01153409481048584\n",
      "sum(abs(B-C^-1)) = 0.0008225217461585999\n"
     ]
    }
   ],
   "source": [
    "# ACTUALLY! The weights doesn't have to be indentities, i.e.: < I >. It also works if \n",
    "# A = B, and C = A.inverse(). Thus, A & B are linear basis changes for A & B which is also a vector space?\n",
    "# Thus their addition is well-defined. Afterwards, the inverse linear transform C takes us back into our \n",
    "# original coordinate system.\n",
    "\n",
    "A,B,C = model.weights\n",
    "A,B,C = A.numpy(),B.numpy(),C.numpy()\n",
    "\n",
    "# Check if decoder weight is the inverse of the encoder weights\n",
    "print(\"--- Are the three weight matricies approximately equal? ---\\n\")\n",
    "print(\"A = \",A)\n",
    "print(\"B = \",B)\n",
    "print(\"C^-1 = \",np.linalg.inv(C))\n",
    "\n",
    "\n",
    "C_inv = np.linalg.inv(C)\n",
    "print(\"\\nsum(abs(A-B)) = {}\".format(np.sum(np.abs(A-B))))\n",
    "print(\"sum(abs(A-C^-1)) = {}\".format(np.sum(np.abs(A-C_inv))))\n",
    "print(\"sum(abs(B-C^-1)) = {}\".format(np.sum(np.abs(B-C_inv))))"
   ]
  },
  {
   "cell_type": "code",
   "execution_count": 81,
   "id": "19e37e1f-8158-4193-8e48-efe9f5bc9fc2",
   "metadata": {},
   "outputs": [],
   "source": [
    "ag = Agent(p0=np.ones((1,2))*(eps:=1e-5))\n",
    "for i in range(100):\n",
    "    ag.step(env.avoid_walls)"
   ]
  },
  {
   "cell_type": "code",
   "execution_count": 82,
   "id": "6e4df7e1-e5ef-4cc0-882a-bf28618de2ae",
   "metadata": {},
   "outputs": [],
   "source": [
    "pi = [ag.positions[0]]\n",
    "for i in range(len(ag.velocities)-1):\n",
    "    inputs = [np.array([pi[-1]]), np.array([ag.velocities[i+1]])]\n",
    "    pi.append(model(inputs).numpy()[0])\n",
    "pi = np.array(pi)"
   ]
  },
  {
   "cell_type": "code",
   "execution_count": 83,
   "id": "e69310a8-c8a0-4d32-99cf-772d231f7c76",
   "metadata": {},
   "outputs": [
    {
     "data": {
      "image/png": "[encoded data removed]",
      "text/plain": [
       "<Figure size 432x288 with 1 Axes>"
      ]
     },
     "metadata": {
      "needs_background": "light"
     },
     "output_type": "display_data"
    }
   ],
   "source": [
    "fig,ax=plt.subplots()\n",
    "env.plot_board(ax)\n",
    "ag.plot_trajectory(ax)\n",
    "ag.plot_trajectory(ax,pi)"
   ]
  },
  {
   "cell_type": "code",
   "execution_count": null,
   "id": "d4319d57-c76f-4616-9288-2f8c6b2beb98",
   "metadata": {},
   "outputs": [],
   "source": []
  }
 ],
 "metadata": {
  "kernelspec": {
   "display_name": "Python 3",
   "language": "python",
   "name": "python3"
  },
  "language_info": {
   "codemirror_mode": {
    "name": "ipython",
    "version": 3
   },
   "file_extension": ".py",
   "mimetype": "text/x-python",
   "name": "python",
   "nbconvert_exporter": "python",
   "pygments_lexer": "ipython3",
   "version": "3.8.10"
  }
 },
 "nbformat": 4,
 "nbformat_minor": 5
}
