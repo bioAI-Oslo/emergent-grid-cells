{
 "cells": [
  {
   "cell_type": "code",
   "execution_count": 17,
   "id": "2e54a891-ce1e-42a5-aa3e-23f6b3bcffe9",
   "metadata": {},
   "outputs": [],
   "source": [
    "import torch\n",
    "import numpy as np"
   ]
  },
  {
   "cell_type": "code",
   "execution_count": 34,
   "id": "720431e5-051d-4043-834f-7f641d82956c",
   "metadata": {},
   "outputs": [],
   "source": [
    "L, N, Hin, Hout = 4, 3, 2, 5\n",
    "n_rnns = 1\n",
    "rnn = torch.nn.RNN(Hin, Hout, n_rnns, batch_first=True)"
   ]
  },
  {
   "cell_type": "code",
   "execution_count": 35,
   "id": "5a171dd7-c18c-4bfb-874a-fddfd45d5ea1",
   "metadata": {},
   "outputs": [
    {
     "name": "stdout",
     "output_type": "stream",
     "text": [
      "torch.Size([3, 4, 2]) torch.Size([1, 3, 5])\n"
     ]
    }
   ],
   "source": [
    "x = torch.randn(N, L, Hin)\n",
    "h0 = torch.randn(n_rnns, N, Hout)\n",
    "print(x.shape, h0.shape)"
   ]
  },
  {
   "cell_type": "code",
   "execution_count": 36,
   "id": "5ef8d562-c816-434b-9e4c-f7ce783462aa",
   "metadata": {},
   "outputs": [],
   "source": [
    "test = rnn(x,h0)"
   ]
  },
  {
   "cell_type": "code",
   "execution_count": 37,
   "id": "8bfcafea-6d0c-4095-aebc-8e11f30b3c2f",
   "metadata": {},
   "outputs": [
    {
     "data": {
      "text/plain": [
       "(torch.Size([3, 4, 5]), torch.Size([1, 3, 5]))"
      ]
     },
     "execution_count": 37,
     "metadata": {},
     "output_type": "execute_result"
    }
   ],
   "source": [
    "test[0].shape, test[1].shape"
   ]
  },
  {
   "cell_type": "code",
   "execution_count": null,
   "id": "d153c69f-0b7f-4a4e-9443-0cb41fc4faf2",
   "metadata": {},
   "outputs": [],
   "source": [
    "test"
   ]
  },
  {
   "cell_type": "code",
   "execution_count": 5,
   "id": "8d69a6de-d79f-48c8-8260-cc6579c8a622",
   "metadata": {},
   "outputs": [],
   "source": [
    "t1,t2 = test"
   ]
  },
  {
   "cell_type": "code",
   "execution_count": 6,
   "id": "c884c7d2-592f-491a-ab83-871b2b6ed50c",
   "metadata": {},
   "outputs": [
    {
     "data": {
      "text/plain": [
       "(torch.Size([3, 4, 5]), torch.Size([1, 3, 5]))"
      ]
     },
     "execution_count": 6,
     "metadata": {},
     "output_type": "execute_result"
    }
   ],
   "source": [
    "t1.shape, t2.shape"
   ]
  },
  {
   "cell_type": "code",
   "execution_count": 7,
   "id": "770dd94c-d167-4dd8-9022-9cc2485ee01e",
   "metadata": {},
   "outputs": [
    {
     "data": {
      "text/plain": [
       "tensor([[[True, True, True, True, True],\n",
       "         [True, True, True, True, True],\n",
       "         [True, True, True, True, True]]])"
      ]
     },
     "execution_count": 7,
     "metadata": {},
     "output_type": "execute_result"
    }
   ],
   "source": [
    "t1[:,3] == t2"
   ]
  },
  {
   "cell_type": "code",
   "execution_count": 8,
   "id": "bc8f66be-a9ae-436f-8d05-6db42bb0b731",
   "metadata": {},
   "outputs": [
    {
     "data": {
      "text/plain": [
       "array(10)"
      ]
     },
     "execution_count": 8,
     "metadata": {},
     "output_type": "execute_result"
    }
   ],
   "source": [
    "torch.tensor(np.array(10)).numpy()"
   ]
  },
  {
   "cell_type": "code",
   "execution_count": 2,
   "id": "aeafed49-70d0-4623-993c-24bd159e787c",
   "metadata": {},
   "outputs": [],
   "source": [
    "import sys\n",
    "sys.path.append(\"../src\") if \"../src\" not in sys.path else None # avoid adding multiple relave paths to sys.path\n",
    "from methods import *"
   ]
  },
  {
   "cell_type": "code",
   "execution_count": 3,
   "id": "3471026d-e34b-46b4-8385-05d67fceca94",
   "metadata": {},
   "outputs": [
    {
     "data": {
      "text/plain": [
       "<methods.Dataset at 0x7fab441c1f70>"
      ]
     },
     "execution_count": 3,
     "metadata": {},
     "output_type": "execute_result"
    }
   ],
   "source": [
    "Dataset()"
   ]
  },
  {
   "cell_type": "code",
   "execution_count": 16,
   "id": "a2fee52e-a008-4583-a9c9-028245a51956",
   "metadata": {},
   "outputs": [
    {
     "name": "stdout",
     "output_type": "stream",
     "text": [
      "tensor([1])\n",
      "tensor([[0., 1.]])\n"
     ]
    },
    {
     "data": {
      "text/plain": [
       "tensor(0.3133)"
      ]
     },
     "execution_count": 16,
     "metadata": {},
     "output_type": "execute_result"
    }
   ],
   "source": [
    "# TORCH CROSS ENTROPY DOES NOT SUPPORT \"MULTI TARGET\" - i.e. true cross-entropy\n",
    "X, label = torch.ones((1,2)), torch.ones(1,dtype=torch.int64)\n",
    "#label[0,0] = 0\n",
    "print(label)\n",
    "X[0,0] = 0\n",
    "print(X)\n",
    "torch.nn.functional.cross_entropy(input=X, target=label)"
   ]
  },
  {
   "cell_type": "code",
   "execution_count": 17,
   "id": "17954c95-615a-411a-aea0-47c699085504",
   "metadata": {},
   "outputs": [],
   "source": [
    "W = torch.nn.Linear(2,3).weight"
   ]
  },
  {
   "cell_type": "code",
   "execution_count": 24,
   "id": "baa87c25-4be2-4b32-a8ef-cbd022ae4dbe",
   "metadata": {},
   "outputs": [
    {
     "data": {
      "text/plain": [
       "2"
      ]
     },
     "execution_count": 24,
     "metadata": {},
     "output_type": "execute_result"
    }
   ],
   "source": [
    "W.size(1)"
   ]
  },
  {
   "cell_type": "code",
   "execution_count": 1,
   "id": "814ee401-2c78-4fef-b529-35744b1fe4ab",
   "metadata": {},
   "outputs": [],
   "source": [
    "def f(x):\n",
    "    return 2\n",
    "\n",
    "g = f"
   ]
  },
  {
   "cell_type": "code",
   "execution_count": null,
   "id": "0bfff3f3-113a-4768-bbc4-c516ecfcd16b",
   "metadata": {},
   "outputs": [],
   "source": [
    "g("
   ]
  },
  {
   "cell_type": "code",
   "execution_count": 10,
   "id": "b6bd975b-b90d-4c1a-9b41-c6261fa86a3b",
   "metadata": {},
   "outputs": [],
   "source": [
    "x = torch.randn(5)"
   ]
  },
  {
   "cell_type": "code",
   "execution_count": 91,
   "id": "93d1a7fb-b66b-4ef8-b38f-1922d3848126",
   "metadata": {},
   "outputs": [
    {
     "data": {
      "text/plain": [
       "(tensor([-0.7600,  0.7474], requires_grad=True), tensor([0.8973]))"
      ]
     },
     "execution_count": 91,
     "metadata": {},
     "output_type": "execute_result"
    }
   ],
   "source": [
    "a, b = torch.randn(2, requires_grad=True), torch.randn(1, requires_grad=False)\n",
    "a,b"
   ]
  },
  {
   "cell_type": "code",
   "execution_count": 92,
   "id": "3e70059d-870d-4710-ac3e-84572f62db85",
   "metadata": {},
   "outputs": [],
   "source": [
    "Q = torch.sum(a**2 * b)"
   ]
  },
  {
   "cell_type": "code",
   "execution_count": 84,
   "id": "5290489a-9373-4a42-a330-4bd0eb97ff9e",
   "metadata": {},
   "outputs": [
    {
     "data": {
      "text/plain": [
       "tensor(1.)"
      ]
     },
     "execution_count": 84,
     "metadata": {},
     "output_type": "execute_result"
    }
   ],
   "source": [
    "external_grad = torch.tensor(1.)\n",
    "external_grad"
   ]
  },
  {
   "cell_type": "code",
   "execution_count": 85,
   "id": "50f3be7d-b48e-4fef-9af6-733f2875cfa8",
   "metadata": {},
   "outputs": [],
   "source": [
    "Q.backward(gradient=external_grad)"
   ]
  },
  {
   "cell_type": "code",
   "execution_count": 86,
   "id": "ce09f571-fd00-4a3e-852c-33c18bc503a5",
   "metadata": {},
   "outputs": [
    {
     "data": {
      "text/plain": [
       "tensor(1.)"
      ]
     },
     "execution_count": 86,
     "metadata": {},
     "output_type": "execute_result"
    }
   ],
   "source": [
    "external_grad"
   ]
  },
  {
   "cell_type": "code",
   "execution_count": 87,
   "id": "cb75ff40-9b11-4454-895e-5c74ca5997f4",
   "metadata": {},
   "outputs": [
    {
     "data": {
      "text/plain": [
       "tensor([-1.5978,  3.3204])"
      ]
     },
     "execution_count": 87,
     "metadata": {},
     "output_type": "execute_result"
    }
   ],
   "source": [
    "a.grad"
   ]
  },
  {
   "cell_type": "code",
   "execution_count": 88,
   "id": "76a9d390-a2f2-475b-945f-804e16a20d2f",
   "metadata": {},
   "outputs": [
    {
     "data": {
      "text/plain": [
       "tensor([-0.7915,  1.6447], requires_grad=True)"
      ]
     },
     "execution_count": 88,
     "metadata": {},
     "output_type": "execute_result"
    }
   ],
   "source": [
    "a"
   ]
  },
  {
   "cell_type": "code",
   "execution_count": 89,
   "id": "a520b707-0e4f-4045-a24d-e854f111f36f",
   "metadata": {},
   "outputs": [
    {
     "data": {
      "text/plain": [
       "tensor([1.0094])"
      ]
     },
     "execution_count": 89,
     "metadata": {},
     "output_type": "execute_result"
    }
   ],
   "source": [
    "b"
   ]
  },
  {
   "cell_type": "code",
   "execution_count": null,
   "id": "91ac08ef-2214-4b6b-9790-2e7cc7e27006",
   "metadata": {},
   "outputs": [],
   "source": []
  },
  {
   "cell_type": "code",
   "execution_count": 90,
   "id": "46df1872-6963-4866-a9aa-259dd846ea81",
   "metadata": {},
   "outputs": [
    {
     "data": {
      "text/plain": [
       "tensor([1., 1.])"
      ]
     },
     "execution_count": 90,
     "metadata": {},
     "output_type": "execute_result"
    }
   ],
   "source": [
    "a = torch.tensor([2., 3.], requires_grad=True)\n",
    "b = torch.tensor([6., 4.], requires_grad=True)\n",
    "Q = 3*a**3 - b**2\n",
    "external_grad = torch.tensor([1., 1.])\n",
    "Q.backward(gradient=external_grad)\n",
    "external_grad"
   ]
  },
  {
   "cell_type": "code",
   "execution_count": 96,
   "id": "1d5b589f-1d5c-46d4-abb7-090bd4c8dc0f",
   "metadata": {},
   "outputs": [
    {
     "data": {
      "text/plain": [
       "True"
      ]
     },
     "execution_count": 96,
     "metadata": {},
     "output_type": "execute_result"
    }
   ],
   "source": [
    "type(b) == torch.Tensor"
   ]
  },
  {
   "cell_type": "code",
   "execution_count": 138,
   "id": "5521be00-d733-4fc7-8fad-5c5d5a30c7d7",
   "metadata": {},
   "outputs": [],
   "source": [
    "x = torch.randn((5,4,3))\n",
    "values, idxs = torch.topk(x, k=2, dim=-1)"
   ]
  },
  {
   "cell_type": "code",
   "execution_count": 139,
   "id": "b603efec-48a9-44e2-8d65-a59b74b3569b",
   "metadata": {},
   "outputs": [
    {
     "data": {
      "text/plain": [
       "(torch.Size([5, 4, 2]), torch.Size([5, 4, 2]))"
      ]
     },
     "execution_count": 139,
     "metadata": {},
     "output_type": "execute_result"
    }
   ],
   "source": [
    "values.shape, idxs.shape"
   ]
  },
  {
   "cell_type": "code",
   "execution_count": 148,
   "id": "0fcfa6ae-86b2-43ac-8022-099b9b09d63a",
   "metadata": {},
   "outputs": [
    {
     "data": {
      "text/plain": [
       "torch.Size([5, 4, 2])"
      ]
     },
     "execution_count": 148,
     "metadata": {},
     "output_type": "execute_result"
    }
   ],
   "source": [
    "torch.gather(x, -1, idxs).shape"
   ]
  },
  {
   "cell_type": "code",
   "execution_count": 66,
   "id": "15e2c457-3b0a-4142-b759-eba8c89148d7",
   "metadata": {},
   "outputs": [
    {
     "name": "stdout",
     "output_type": "stream",
     "text": [
      "2\n",
      "{'b': 3, 'c': 4} <class 'dict'>\n"
     ]
    }
   ],
   "source": [
    "def f(a, **kwargs):\n",
    "    print(a)\n",
    "    print(kwargs, type(kwargs))\n",
    "\n",
    "d = {'a': 2, 'b': 3, 'c':4}\n",
    "f(**d)"
   ]
  },
  {
   "cell_type": "code",
   "execution_count": null,
   "id": "c7f6f650-2bec-4c64-ab67-f77a176dd406",
   "metadata": {},
   "outputs": [],
   "source": [
    "def "
   ]
  },
  {
   "cell_type": "code",
   "execution_count": 65,
   "id": "75171dca-7bab-4373-aa0d-51f1e852a007",
   "metadata": {},
   "outputs": [
    {
     "name": "stdout",
     "output_type": "stream",
     "text": [
      "torch.Size([10, 5, 2]) torch.Size([10, 5])\n"
     ]
    }
   ],
   "source": [
    "X,Y = torch.randn((10,2)), torch.randn((5,2))\n",
    "mandists = torch.sum((X[:,None]-Y[None])**2, axis=-1)\n",
    "print((X[:,None]-Y[None]).shape, mandists.shape)"
   ]
  },
  {
   "cell_type": "code",
   "execution_count": null,
   "id": "b6f81ee4-1474-473d-9508-3052e0e27df1",
   "metadata": {},
   "outputs": [],
   "source": [
    "[10,1,2] + [1,5,2] => [10,5,2]"
   ]
  },
  {
   "cell_type": "code",
   "execution_count": 50,
   "id": "b34ccfd4-1a85-4840-b013-839fcb067a27",
   "metadata": {},
   "outputs": [],
   "source": [
    "dists = torch.cdist(X,Y,compute_mode='use_mm_for_euclid_dist')"
   ]
  },
  {
   "cell_type": "code",
   "execution_count": 52,
   "id": "359c1aaf-4b84-470f-a4e6-95ac98c58ed9",
   "metadata": {},
   "outputs": [
    {
     "data": {
      "text/plain": [
       "tensor([[4.1127e+00, 9.3647e+00, 1.0746e+00, 4.4152e-01, 5.6463e+00],\n",
       "        [5.6894e+00, 8.7903e+00, 2.3298e+00, 3.7816e+00, 1.0156e+00],\n",
       "        [2.4815e+00, 6.7801e+00, 3.8200e-01, 1.0728e-02, 3.1811e+00],\n",
       "        [3.3088e+00, 7.7801e+00, 2.5535e+00, 1.2073e+00, 6.8445e+00],\n",
       "        [2.7053e-01, 2.0636e+00, 1.9724e+00, 1.4716e+00, 1.1450e+00],\n",
       "        [6.6821e-01, 3.3748e+00, 1.8501e+00, 8.6606e-01, 3.0146e+00],\n",
       "        [2.4013e+00, 8.3213e-01, 1.1653e+01, 9.4784e+00, 7.8536e+00],\n",
       "        [8.1488e-01, 3.6932e+00, 1.0105e+00, 4.7989e-01, 1.8623e+00],\n",
       "        [1.2363e+00, 3.5936e+00, 1.1402e+00, 1.2455e+00, 4.0108e-01],\n",
       "        [3.1170e-01, 2.2498e+00, 3.0116e+00, 1.7721e+00, 3.3362e+00]])"
      ]
     },
     "execution_count": 52,
     "metadata": {},
     "output_type": "execute_result"
    }
   ],
   "source": [
    "mandists"
   ]
  },
  {
   "cell_type": "code",
   "execution_count": 53,
   "id": "73b9f344-4b28-4f97-ae0d-8144722da479",
   "metadata": {},
   "outputs": [
    {
     "data": {
      "text/plain": [
       "tensor([[2.0280, 3.0602, 1.0366, 0.6645, 2.3762],\n",
       "        [2.3852, 2.9648, 1.5264, 1.9446, 1.0078],\n",
       "        [1.5753, 2.6039, 0.6181, 0.1036, 1.7836],\n",
       "        [1.8190, 2.7893, 1.5980, 1.0988, 2.6162],\n",
       "        [0.5201, 1.4365, 1.4044, 1.2131, 1.0700],\n",
       "        [0.8174, 1.8371, 1.3602, 0.9306, 1.7363],\n",
       "        [1.5496, 0.9122, 3.4137, 3.0787, 2.8024],\n",
       "        [0.9027, 1.9218, 1.0052, 0.6927, 1.3647],\n",
       "        [1.1119, 1.8957, 1.0678, 1.1160, 0.6333],\n",
       "        [0.5583, 1.4999, 1.7354, 1.3312, 1.8265]])"
      ]
     },
     "execution_count": 53,
     "metadata": {},
     "output_type": "execute_result"
    }
   ],
   "source": [
    "dists"
   ]
  },
  {
   "cell_type": "code",
   "execution_count": 69,
   "id": "1f9a550e-e185-4cc3-9574-f7ce531c36b9",
   "metadata": {},
   "outputs": [
    {
     "name": "stdout",
     "output_type": "stream",
     "text": [
      "2 3\n",
      "{'c': 4}\n"
     ]
    }
   ],
   "source": [
    "def g(a,b, **kwargs):\n",
    "    print(a,b)\n",
    "    print(kwargs)\n",
    "\n",
    "kwargs = {'a': 2, 'b':3, 'c': 4}\n",
    "g(**kwargs)"
   ]
  },
  {
   "cell_type": "code",
   "execution_count": null,
   "id": "6a09ee01-c1a9-40ff-8c3b-90a37509ae27",
   "metadata": {},
   "outputs": [],
   "source": [
    "f = g"
   ]
  }
 ],
 "metadata": {
  "kernelspec": {
   "display_name": "Python 3 (ipykernel)",
   "language": "python",
   "name": "python3"
  },
  "language_info": {
   "codemirror_mode": {
    "name": "ipython",
    "version": 3
   },
   "file_extension": ".py",
   "mimetype": "text/x-python",
   "name": "python",
   "nbconvert_exporter": "python",
   "pygments_lexer": "ipython3",
   "version": "3.9.6"
  }
 },
 "nbformat": 4,
 "nbformat_minor": 5
}
