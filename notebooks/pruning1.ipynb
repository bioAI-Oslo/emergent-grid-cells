{
 "cells": [
  {
   "cell_type": "markdown",
   "id": "b658befc-513e-4661-b5bf-6112e7065908",
   "metadata": {},
   "source": [
    "Importing relevant packages and modules"
   ]
  },
  {
   "cell_type": "code",
   "execution_count": 1,
   "id": "2480af7b-9569-48db-960a-b5c8cc94d065",
   "metadata": {},
   "outputs": [],
   "source": [
    "%load_ext autoreload\n",
    "%autoreload 2\n",
    "#%matplotlib notebook\n",
    "%matplotlib inline"
   ]
  },
  {
   "cell_type": "code",
   "execution_count": 2,
   "id": "d0704a08-5f45-41a2-be2f-c2c2f2d761e6",
   "metadata": {},
   "outputs": [],
   "source": [
    "import sys\n",
    "from pathlib import Path\n",
    "import torch\n",
    "import numpy as np\n",
    "import tqdm\n",
    "\n",
    "# Plotting\n",
    "import matplotlib\n",
    "from matplotlib import pyplot as plt\n",
    "plt.style.use('../bioAI.mplstyle')\n",
    "\n",
    "'''\n",
    "CUSTOM PACKAGES\n",
    "'''\n",
    "# avoid adding multiple relave paths to sys.path\n",
    "sys.path.append(\"../src\") if \"../src\" not in sys.path else None\n",
    "\n",
    "from Models import SorscherRNN\n",
    "from Experiment import Experiment\n",
    "from datahandling import Dataset, MESampler\n",
    "from plotting_functions import *\n",
    "from synthetic_grid_cells import *\n",
    "from methods import *\n",
    "from stats import *"
   ]
  },
  {
   "cell_type": "code",
   "execution_count": 3,
   "id": "fdb5968f-3392-49e4-a23e-0630f4fc1b02",
   "metadata": {},
   "outputs": [
    {
     "name": "stdout",
     "output_type": "stream",
     "text": [
      "Experiment <gg-3ME> already EXISTS. Loading experiment settings!\n",
      "Loading experiment details\n",
      "This experiment has ALREADY been setup - SKIPPING.\n"
     ]
    }
   ],
   "source": [
    "#base_path = Path(\"/storA/GridCells/\")\n",
    "base_path = \"/mnt/WD12TB-HDD\"\n",
    "experiment = Experiment(name=\"gg-3ME\", base_path=base_path)\n",
    "experiment.setup()\n",
    "boxsize = experiment.environments[0].boxsize"
   ]
  },
  {
   "cell_type": "code",
   "execution_count": 4,
   "id": "de048cf4-3802-4d0b-8432-df9ad57a3fbd",
   "metadata": {},
   "outputs": [
    {
     "name": "stdout",
     "output_type": "stream",
     "text": [
      "['C0_from_env_0', 'C1_from_env_1', 'C5_from_env_2']\n"
     ]
    }
   ],
   "source": [
    "module_indices = np.load(f\"{experiment.paths['experiment']}/module_indices.npz\")\n",
    "print(module_indices.files)\n",
    "module_indices = module_indices['C5_from_env_2']"
   ]
  },
  {
   "cell_type": "code",
   "execution_count": null,
   "id": "83c0a05c-6d48-4268-9b75-933877d1694f",
   "metadata": {},
   "outputs": [],
   "source": [
    "# percentile is chosen manually to get 315 cells.\n",
    "gs_masks = grid_score_masks(experiment, percentile=0.547, mode=\"intersection\")\n",
    "gs_idxs = np.where(gs_masks)[0]"
   ]
  },
  {
   "cell_type": "code",
   "execution_count": null,
   "id": "cd58bb60-1d76-4b4c-880c-30322b5f351b",
   "metadata": {},
   "outputs": [],
   "source": [
    "ratemaps = get_smooth_ratemaps(experiment, sigma=1.0)\n",
    "gc_ratemaps = ratemaps[:,module_indices]\n",
    "\n",
    "# choose phases from environment 0.\n",
    "# assume that phases \n",
    "phase_magnitudes = np.linalg.norm(np.array(list(map(phase_fn, gc_ratemaps[0]))),axis=-1)\n",
    "sort_idxs = np.argsort(phase_magnitudes)"
   ]
  },
  {
   "cell_type": "code",
   "execution_count": 5,
   "id": "f90b2c4f-46a5-4a74-844a-d3276b53d4ec",
   "metadata": {},
   "outputs": [
    {
     "name": "stdout",
     "output_type": "stream",
     "text": [
      "Loading model at epoch = 02999 /mnt/WD12TB-HDD/data/emergent-grid-cells/gg-3ME/checkpoints/02999\n"
     ]
    }
   ],
   "source": [
    "def load_model(experiment):\n",
    "    # load weights\n",
    "    checkpoint_filenames = filenames(experiment.paths['checkpoints'])\n",
    "    # load model latest (wrt. #epochs trained)\n",
    "    print(f\"Loading model at epoch = {checkpoint_filenames[-1]}\", experiment.paths['checkpoints'] / checkpoint_filenames[-1])\n",
    "    checkpoint = torch.load(experiment.paths['checkpoints'] / checkpoint_filenames[-1])\n",
    "    # instantiate trained model this time\n",
    "    model = SorscherRNN(experiment.pc_ensembles, Ng=experiment.params['Ng'], Np=experiment.params['Np'])\n",
    "    model.load_state_dict(checkpoint['model_state_dict'])\n",
    "    return model\n",
    "\n",
    "model = load_model(experiment)"
   ]
  },
  {
   "cell_type": "code",
   "execution_count": 6,
   "id": "e4166a1c-ead6-4bd3-907e-5ff0f88ea4e4",
   "metadata": {},
   "outputs": [],
   "source": [
    "\"\"\"\n",
    "agent = experiment.agents[0]\n",
    "pcs = experiment.pc_ensembles[0]\n",
    "\n",
    "num_trajectories = 100\n",
    "len_trajectory = 1000\n",
    "\n",
    "positions = []\n",
    "velocities = []\n",
    "for n in tqdm.trange(num_trajectories):\n",
    "    agent.reset()\n",
    "    [agent.step() for i in range(len_trajectory)]\n",
    "    positions.append(agent.positions)\n",
    "    velocities.append(agent.velocities[1:])\n",
    "\n",
    "positions = np.array(positions)\n",
    "velocities = np.array(velocities)\n",
    "positions = torch.tensor(positions)\n",
    "velocities = torch.tensor(velocities)\n",
    "\"\"\"\n",
    "_ = 2"
   ]
  },
  {
   "cell_type": "code",
   "execution_count": 7,
   "id": "1f3d074f-9c9e-4e7b-bc68-faf30cda3dd8",
   "metadata": {},
   "outputs": [],
   "source": [
    "#dataset = Dataset(experiment.agents, experiment.pc_ensembles, num_samples=1e+6, seq_len=100)\n",
    "#(v,p0),labels,p,idx = dataset[0]"
   ]
  },
  {
   "cell_type": "code",
   "execution_count": 8,
   "id": "ebb0fa60-b290-4e16-b9ae-41386b4c6291",
   "metadata": {},
   "outputs": [
    {
     "name": "stdout",
     "output_type": "stream",
     "text": [
      "device=device(type='cuda')\n"
     ]
    }
   ],
   "source": [
    "# detach experiment specifics\n",
    "params = experiment.params\n",
    "environments = experiment.environments\n",
    "agents = experiment.agents\n",
    "pc_ensembles = experiment.pc_ensembles\n",
    "paths = experiment.paths\n",
    "\n",
    "num_workers = 16\n",
    "device = torch.device('cuda' if torch.cuda.is_available() else 'cpu')\n",
    "print(f\"{device=}\")\n",
    "\n",
    "# Initialise data loading\n",
    "num_samples = params['nsteps'] * params['batch_size'] # * params['nepochs']\n",
    "dataset = Dataset(agents = agents, pc_ensembles = pc_ensembles, num_samples = num_samples, seq_len=20)#, **params)\n",
    "datasampler = eval(params['sampler'])(num_environments = len(environments), num_samples = num_samples, \\\n",
    "                                      num_epochs = params['nepochs'])\n",
    "dataloader = torch.utils.data.DataLoader(dataset, batch_size=params['batch_size'], sampler = datasampler, num_workers=num_workers)"
   ]
  },
  {
   "cell_type": "code",
   "execution_count": 10,
   "id": "788af527-75e9-4993-b5e4-3090fdc5ea38",
   "metadata": {},
   "outputs": [],
   "source": [
    "pred_errors_pruned = []\n",
    "i = 0\n",
    "for inputs, labels, positions, indices in dataloader:\n",
    "    i+=1\n",
    "    percentage_idx = int(round(len(module_indices) * (i / nsteps)))\n",
    "    model.prune_mask = module_indices[:percentage_idx]\n",
    "    \n",
    "    indices = np.array(indices)\n",
    "    log_predictions = model(inputs, log_softmax=True)\n",
    "    #loss = self.loss_fn(log_predictions, labels, weight_decay)\n",
    "    #labels = labels.to(self.device, dtype=self.dtype)\n",
    "    positions = positions.to(model.device, dtype=model.dtype)\n",
    "    pred_error = model.position_error(log_predictions, positions, indices, model.place_cell_ensembles)\n",
    "    pred_errors_pruned.append(pred_error.item())\n",
    "    if i == nsteps:\n",
    "        break"
   ]
  },
  {
   "cell_type": "code",
   "execution_count": 11,
   "id": "b4c46bfb-7f77-4ef8-9c2e-11fbf83b9991",
   "metadata": {},
   "outputs": [
    {
     "data": {
      "text/plain": [
       "(tensor(16777216.), 16777216)"
      ]
     },
     "execution_count": 11,
     "metadata": {},
     "output_type": "execute_result"
    }
   ],
   "source": [
    "model.prune_mask = []\n",
    "# check how many connections have been pruned\n",
    "# --> sanity check for prune mask <--\n",
    "torch.sum(model.prune_mask[1]), np.prod(model.prune_mask[1].shape)"
   ]
  },
  {
   "cell_type": "code",
   "execution_count": 12,
   "id": "d74d2fba-78bc-4f6a-9f26-00f793eed441",
   "metadata": {},
   "outputs": [],
   "source": [
    "pred_errors_random_prune = []\n",
    "i = 0\n",
    "for inputs, labels, positions, indices in dataloader:\n",
    "    i+=1\n",
    "    percentage_idx = int(round(len(module_indices) * (i / nsteps)))\n",
    "    random_pruning = np.random.randint(model.Ng,size=percentage_idx)\n",
    "    model.prune_mask = random_pruning\n",
    "    \n",
    "    indices = np.array(indices)\n",
    "    log_predictions = model(inputs, log_softmax=True)\n",
    "    #loss = self.loss_fn(log_predictions, labels, weight_decay)\n",
    "    #labels = labels.to(self.device, dtype=self.dtype)\n",
    "    positions = positions.to(model.device, dtype=model.dtype)\n",
    "    pred_error = model.position_error(log_predictions, positions, indices, model.place_cell_ensembles)\n",
    "    pred_errors_random_prune.append(pred_error.item())\n",
    "    if i == nsteps:\n",
    "        break"
   ]
  },
  {
   "cell_type": "code",
   "execution_count": 13,
   "id": "f708fd3f-f844-4628-9a88-a36095b98802",
   "metadata": {},
   "outputs": [],
   "source": [
    "# percentile is chosen manually to get 315 cells.\n",
    "gs_masks = grid_score_masks(experiment, percentile=0.547, mode=\"intersection\")\n",
    "gs_idxs = np.where(gs_masks)[0]\n",
    "\n",
    "pred_errors_gcs_prune = []\n",
    "i = 0\n",
    "for inputs, labels, positions, indices in dataloader:\n",
    "    i+=1\n",
    "    percentage_idx = int(round(len(module_indices) * (i / nsteps)))\n",
    "    model.prune_mask = gs_idxs[:percentage_idx]\n",
    "    \n",
    "    indices = np.array(indices)\n",
    "    log_predictions = model(inputs, log_softmax=True)\n",
    "    #loss = self.loss_fn(log_predictions, labels, weight_decay)\n",
    "    #labels = labels.to(self.device, dtype=self.dtype)\n",
    "    positions = positions.to(model.device, dtype=model.dtype)\n",
    "    pred_error = model.position_error(log_predictions, positions, indices, model.place_cell_ensembles)\n",
    "    pred_errors_gcs_prune.append(pred_error.item())\n",
    "    if i == nsteps:\n",
    "        break"
   ]
  },
  {
   "cell_type": "code",
   "execution_count": 14,
   "id": "d7bed9d3-3215-4a01-9c6c-e3f744faa549",
   "metadata": {},
   "outputs": [],
   "source": [
    "pred_errors_pruned = []\n",
    "i = 0\n",
    "for inputs, labels, positions, indices in dataloader:\n",
    "    i+=1\n",
    "    percentage_idx = int(round(len(module_indices) * (i / nsteps)))\n",
    "    model.prune_mask = module_indices[:percentage_idx]\n",
    "    \n",
    "    indices = np.array(indices)\n",
    "    log_predictions = model(inputs, log_softmax=True)\n",
    "    #loss = self.loss_fn(log_predictions, labels, weight_decay)\n",
    "    #labels = labels.to(self.device, dtype=self.dtype)\n",
    "    positions = positions.to(model.device, dtype=model.dtype)\n",
    "    pred_error = model.position_error(log_predictions, positions, indices, model.place_cell_ensembles)\n",
    "    pred_errors_pruned.append(pred_error.item())\n",
    "    if i == nsteps:\n",
    "        break"
   ]
  },
  {
   "cell_type": "code",
   "execution_count": 15,
   "id": "83c27bc5-fecd-4f7d-8f94-c1bf2fab0bd1",
   "metadata": {},
   "outputs": [],
   "source": [
    "ratemaps = get_smooth_ratemaps(experiment, sigma=1.0)\n",
    "gc_ratemaps = ratemaps[:,module_indices]\n",
    "\n",
    "# choose phases from environment 0.\n",
    "# assume that phases \n",
    "phase_magnitudes = np.linalg.norm(np.array(list(map(phase_fn, gc_ratemaps[0]))),axis=-1)\n",
    "sort_idxs = np.argsort(phase_magnitudes)"
   ]
  },
  {
   "cell_type": "code",
   "execution_count": 16,
   "id": "a452c27f-94ac-4697-a09b-bacd144eba05",
   "metadata": {},
   "outputs": [],
   "source": [
    "pred_errors_phase_sorted_torus_cell_pruning = []\n",
    "i = 0\n",
    "for inputs, labels, positions, indices in dataloader:\n",
    "    i+=1\n",
    "    percentage_idx = int(round(len(module_indices) * (i / nsteps)))\n",
    "    model.prune_mask = module_indices[sort_idxs][:percentage_idx]\n",
    "    \n",
    "    indices = np.array(indices)\n",
    "    log_predictions = model(inputs, log_softmax=True)\n",
    "    #loss = self.loss_fn(log_predictions, labels, weight_decay)\n",
    "    #labels = labels.to(self.device, dtype=self.dtype)\n",
    "    positions = positions.to(model.device, dtype=model.dtype)\n",
    "    pred_error = model.position_error(log_predictions, positions, indices, model.place_cell_ensembles)\n",
    "    pred_errors_phase_sorted_torus_cell_pruning.append(pred_error.item())\n",
    "    if i == nsteps:\n",
    "        break"
   ]
  },
  {
   "cell_type": "code",
   "execution_count": 17,
   "id": "55e02e98-eaab-452e-83ec-1ff947bbd543",
   "metadata": {},
   "outputs": [
    {
     "data": {
      "image/png": "[encoded data removed]",
      "text/plain": [
       "<Figure size 432x288 with 1 Axes>"
      ]
     },
     "metadata": {
      "needs_background": "light"
     },
     "output_type": "display_data"
    }
   ],
   "source": [
    "plt.plot(pred_errors, label='whole')\n",
    "plt.plot(pred_errors_random_prune, label='random-pruning')\n",
    "plt.plot(pred_errors_pruned, label='torus-pruning')\n",
    "plt.plot(pred_errors_gcs_prune, label='high-gcs')\n",
    "plt.plot(pred_errors_phase_sorted_torus_cell_pruning, label='sorted-torus-pruning')\n",
    "plt.legend()\n",
    "#plt.savefig(\"/home/vemundss/Desktop/prune\")"
   ]
  },
  {
   "cell_type": "code",
   "execution_count": 18,
   "id": "dc129b6b-11ca-46f6-be0a-62e1226a7a8c",
   "metadata": {},
   "outputs": [],
   "source": [
    "# NEXT\n",
    "# -- DONE -- prune with high GCS\n",
    "# prune toroid cells sorted on phase - physics phase transtition?\n",
    "# legg til error shadings på grafene.\n",
    "# include adverserial attack?\n",
    "# prune inverse of toroid cells. path integration remain? ratemaps still grids? toroid still there?"
   ]
  },
  {
   "cell_type": "code",
   "execution_count": null,
   "id": "5e15a3d4-07ba-4154-8336-5c00cee44c32",
   "metadata": {},
   "outputs": [],
   "source": []
  },
  {
   "cell_type": "code",
   "execution_count": null,
   "id": "f855cb20-6be3-4a1a-bc38-2d87ba5940a6",
   "metadata": {},
   "outputs": [],
   "source": []
  }
 ],
 "metadata": {
  "kernelspec": {
   "display_name": "Python [conda env:ml]",
   "language": "python",
   "name": "conda-env-ml-py"
  },
  "language_info": {
   "codemirror_mode": {
    "name": "ipython",
    "version": 3
   },
   "file_extension": ".py",
   "mimetype": "text/x-python",
   "name": "python",
   "nbconvert_exporter": "python",
   "pygments_lexer": "ipython3",
   "version": "3.9.9"
  }
 },
 "nbformat": 4,
 "nbformat_minor": 5
}
