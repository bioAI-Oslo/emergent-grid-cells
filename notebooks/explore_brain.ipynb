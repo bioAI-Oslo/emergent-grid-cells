{
 "cells": [
  {
   "cell_type": "code",
   "execution_count": 281,
   "id": "7e82f7fc",
   "metadata": {},
   "outputs": [
    {
     "name": "stdout",
     "output_type": "stream",
     "text": [
      "The autoreload extension is already loaded. To reload it, use:\n",
      "  %reload_ext autoreload\n"
     ]
    }
   ],
   "source": [
    "%load_ext autoreload\n",
    "%autoreload 2\n",
    "#%matplotlib notebook\n",
    "%matplotlib inline"
   ]
  },
  {
   "cell_type": "code",
   "execution_count": 282,
   "id": "70401762",
   "metadata": {},
   "outputs": [],
   "source": [
    "import numpy as np\n",
    "import matplotlib.pyplot as plt\n",
    "from scipy.spatial.distance import euclidean\n",
    "import sys\n",
    "sys.path.append(\"../src\") if \"../src\" not in sys.path else None # avoid adding multiple relave paths to sys.path"
   ]
  },
  {
   "cell_type": "code",
   "execution_count": 283,
   "id": "19e95ebb",
   "metadata": {},
   "outputs": [],
   "source": [
    "from Agent import Agent\n",
    "from Environment import Rectangle\n",
    "from Brain import Brain"
   ]
  },
  {
   "cell_type": "code",
   "execution_count": 284,
   "id": "87ba62bd-5932-43dc-8b6b-79a94c74a221",
   "metadata": {},
   "outputs": [],
   "source": [
    "boxsize=(2.2, 2.2)\n",
    "origo=(0,0)\n",
    "soft_boundary=0.2"
   ]
  },
  {
   "cell_type": "code",
   "execution_count": 318,
   "id": "b18f83f3-6f54-4f72-b805-481a5025048c",
   "metadata": {},
   "outputs": [
    {
     "name": "stdout",
     "output_type": "stream",
     "text": [
      "Singular matrix\n",
      "Singular matrix\n"
     ]
    }
   ],
   "source": [
    "env = Rectangle(boxsize=boxsize, soft_boundary=soft_boundary)\n",
    "npcs=10\n",
    "brain = Brain(env, npcs, 0.1)\n",
    "#avoid_walls = env.avoid_walls\n",
    "env.add_wall(name=\"free_wall1\", bias=np.array([0.401,0.403]),slope=np.array([0.8,0.8]),t=[0,1])"
   ]
  },
  {
   "cell_type": "code",
   "execution_count": 319,
   "id": "6b4ad218",
   "metadata": {},
   "outputs": [],
   "source": [
    "board = env.get_board()"
   ]
  },
  {
   "cell_type": "code",
   "execution_count": 320,
   "id": "ea9a34a6-55ba-4e8b-adbe-5532fe9fd353",
   "metadata": {},
   "outputs": [
    {
     "data": {
      "text/plain": [
       "(32, 32, 2)"
      ]
     },
     "execution_count": 320,
     "metadata": {},
     "output_type": "execute_result"
    }
   ],
   "source": [
    "board.shape"
   ]
  },
  {
   "cell_type": "code",
   "execution_count": 321,
   "id": "940d7267-da42-46f7-94c5-6a3bd0a24141",
   "metadata": {},
   "outputs": [
    {
     "data": {
      "text/plain": [
       "(10, 2)"
      ]
     },
     "execution_count": 321,
     "metadata": {},
     "output_type": "execute_result"
    }
   ],
   "source": [
    "brain.pcs.shape"
   ]
  },
  {
   "cell_type": "code",
   "execution_count": 322,
   "id": "7324e78f-ca84-418b-9a99-d974bde03913",
   "metadata": {},
   "outputs": [
    {
     "data": {
      "text/plain": [
       "<matplotlib.colorbar.Colorbar at 0x7fd8696ad5e0>"
      ]
     },
     "execution_count": 322,
     "metadata": {},
     "output_type": "execute_result"
    },
    {
     "data": {
      "image/png": "[encoded data removed]",
      "text/plain": [
       "<Figure size 432x288 with 2 Axes>"
      ]
     },
     "metadata": {
      "needs_background": "light"
     },
     "output_type": "display_data"
    }
   ],
   "source": [
    "exmp_pc = brain.pcs[0]\n",
    "Z = np.zeros(board.shape[:-1])\n",
    "for i in range(board.shape[0]):\n",
    "    for j in range(board.shape[1]):\n",
    "        #print(board[i,j],exmp_pc)\n",
    "        d = brain.d_pcc(board[i,j],exmp_pc)\n",
    "        tmp = brain.ricker_response(d) # or norm_response\n",
    "        #print(tmp)\n",
    "        Z[i,j] = tmp\n",
    "\n",
    "plt.imshow(Z)\n",
    "plt.colorbar()"
   ]
  },
  {
   "cell_type": "code",
   "execution_count": 323,
   "id": "de80ecd8-8927-4542-b882-b3e972cafbd7",
   "metadata": {},
   "outputs": [
    {
     "data": {
      "image/png": "[encoded data removed]",
      "text/plain": [
       "<Figure size 432x288 with 10 Axes>"
      ]
     },
     "metadata": {
      "needs_background": "light"
     },
     "output_type": "display_data"
    }
   ],
   "source": [
    "ncols,nrows = 5,2\n",
    "fig,axs=plt.subplots(ncols=ncols,nrows=nrows)\n",
    "\n",
    "for cols in range(ncols):\n",
    "    for rows in range(nrows):\n",
    "        Z = np.zeros(board.shape[:-1])\n",
    "        for i in range(board.shape[0]):\n",
    "            for j in range(board.shape[1]):\n",
    "                tmp = brain.d_pcc(board[i,j],brain.pcs[cols*nrows+rows])\n",
    "                tmp = brain.ricker_response(tmp)\n",
    "                Z[i,j] = tmp\n",
    "            \n",
    "        \n",
    "        axs[rows,cols].imshow(Z)\n",
    "        \n",
    "plt.tight_layout()"
   ]
  },
  {
   "cell_type": "code",
   "execution_count": null,
   "id": "87a97e4a-38ab-4ff1-8d98-d195055f6c4a",
   "metadata": {},
   "outputs": [],
   "source": []
  }
 ],
 "metadata": {
  "kernelspec": {
   "display_name": "Python 3",
   "language": "python",
   "name": "python3"
  },
  "language_info": {
   "codemirror_mode": {
    "name": "ipython",
    "version": 3
   },
   "file_extension": ".py",
   "mimetype": "text/x-python",
   "name": "python",
   "nbconvert_exporter": "python",
   "pygments_lexer": "ipython3",
   "version": "3.8.8"
  }
 },
 "nbformat": 4,
 "nbformat_minor": 5
}
