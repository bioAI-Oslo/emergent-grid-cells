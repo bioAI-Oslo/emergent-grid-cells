{
 "cells": [
  {
   "attachments": {},
   "cell_type": "markdown",
   "id": "b658befc-513e-4661-b5bf-6112e7065908",
   "metadata": {},
   "source": [
    "Importing relevant packages and modules"
   ]
  },
  {
   "cell_type": "code",
   "execution_count": 1,
   "id": "2480af7b-9569-48db-960a-b5c8cc94d065",
   "metadata": {},
   "outputs": [],
   "source": [
    "%load_ext autoreload\n",
    "%autoreload 2\n",
    "#%matplotlib notebook\n",
    "%matplotlib inline"
   ]
  },
  {
   "cell_type": "code",
   "execution_count": 2,
   "id": "d0704a08-5f45-41a2-be2f-c2c2f2d761e6",
   "metadata": {},
   "outputs": [],
   "source": [
    "import sys\n",
    "from pathlib import Path\n",
    "\n",
    "# Plotting\n",
    "import numpy as np\n",
    "from matplotlib import pyplot as plt\n",
    "plt.style.use('bioAI.mplstyle')\n",
    "import copy\n",
    "\n",
    "'''\n",
    "CUSTOM PACKAGES\n",
    "'''\n",
    "# avoid adding multiple relave paths to sys.path\n",
    "sys.path.append(\"../src\") if \"../src\" not in sys.path else None\n",
    "\n",
    "from plotting_functions import *\n",
    "from synthetic_grid_cells import GridModule, rotation_matrix\n",
    "from methods import multiimshow, PCA_UMAP, filenames\n",
    "from Experiment import Experiment\n",
    "from stats import *"
   ]
  },
  {
   "cell_type": "code",
   "execution_count": 3,
   "id": "da698c0d",
   "metadata": {},
   "outputs": [
    {
     "name": "stdout",
     "output_type": "stream",
     "text": [
      "Experiment <gg-3ME> already EXISTS. Loading experiment settings!\n",
      "Loading experiment details\n",
      "This experiment has ALREADY been setup - SKIPPING.\n"
     ]
    }
   ],
   "source": [
    "#base_path = Path(\"/storA/GridCells/\")\n",
    "base_path = \"/mnt/WD12TB-HDD\"\n",
    "experiment = Experiment(name=\"gg-3ME\", base_path=base_path)\n",
    "experiment.setup()\n",
    "paths = experiment.paths\n",
    "boxsize = experiment.environments[0].boxsize"
   ]
  },
  {
   "cell_type": "code",
   "execution_count": 4,
   "id": "a903de72",
   "metadata": {},
   "outputs": [
    {
     "name": "stdout",
     "output_type": "stream",
     "text": [
      "len(torus_cells)=604, len(clustered_grid_cells)=85, len(border_cells)=167, len(place_cells)=103, len(unsorted_cells)=2172\n"
     ]
    }
   ],
   "source": [
    "module_indices = np.load(f\"{experiment.paths['experiment']}/module_indices_all_clusters.npz\")\n",
    "clusters = [module_indices[f] for f in module_indices.files]\n",
    "\n",
    "torus_cells = list(clusters[2]) + list(clusters[12]) + list(clusters[15])\n",
    "torus_cells.sort()\n",
    "clustered_grid_cells = clusters[1]\n",
    "border_cells = list(clusters[3]) + list(clusters[8])\n",
    "border_cells.sort()\n",
    "place_cells = clusters[10]\n",
    "# include the rest of the cells in the unsorted cells (18 clusters total)\n",
    "unsorted_cells = list(clusters[0]) + list(clusters[4]) + list(clusters[5]) + list(clusters[6]) + list(clusters[7]) + \\\n",
    "    list(clusters[9]) + list(clusters[11]) + list(clusters[13]) + list(clusters[14]) + list(clusters[16]) + list(clusters[17])\n",
    "unsorted_cells.sort()\n",
    "print(f\"{len(torus_cells)=}, {len(clustered_grid_cells)=}, {len(border_cells)=}, {len(place_cells)=}, {len(unsorted_cells)=}\")\n",
    "clusters = [torus_cells, clustered_grid_cells, border_cells, place_cells, unsorted_cells]\n",
    "cluster_labels = [\"torus\", \"clustered grid\", \"border\", \"place\", \"unsorted\"]"
   ]
  },
  {
   "cell_type": "code",
   "execution_count": 10,
   "id": "f0ca752d",
   "metadata": {},
   "outputs": [
    {
     "data": {
      "text/plain": [
       "(3, 604, 64, 64)"
      ]
     },
     "execution_count": 10,
     "metadata": {},
     "output_type": "execute_result"
    }
   ],
   "source": [
    "ratemaps = []\n",
    "for env_i in range(3):\n",
    "    with open(paths['ratemaps'] / (f'env_{env_i}/' + filenames(paths['ratemaps'] / f'env_{env_i}')[-1]), 'rb') as f:\n",
    "        tmp_ratemaps = pickle.load(f)\n",
    "        # fix nans\n",
    "        tmp_ratemaps = np.array([fill_nan(ratemap, method='nearest') for ratemap in tmp_ratemaps])\n",
    "        ratemaps.append(tmp_ratemaps)\n",
    "ratemaps = np.stack(ratemaps)\n",
    "torus_ratemaps = ratemaps[:, torus_cells]"
   ]
  },
  {
   "cell_type": "code",
   "execution_count": 11,
   "id": "d38521db",
   "metadata": {},
   "outputs": [
    {
     "name": "stderr",
     "output_type": "stream",
     "text": [
      "100%|██████████| 604/604 [00:28<00:00, 21.13it/s]\n"
     ]
    }
   ],
   "source": [
    "# split torus cluster into three band cell clusters\n",
    "band_classes = cluster_ratemaps(torus_ratemaps[0]) # assume ratemaps are torus ratemaps here\n",
    "band_cells = [np.array(torus_cells)[band_classes == i] for i in range(3)]"
   ]
  },
  {
   "cell_type": "code",
   "execution_count": 14,
   "id": "e075d97e",
   "metadata": {},
   "outputs": [
    {
     "ename": "IndexError",
     "evalue": "index 615 is out of bounds for axis 0 with size 604",
     "output_type": "error",
     "traceback": [
      "\u001b[0;31m---------------------------------------------------------------------------\u001b[0m",
      "\u001b[0;31mIndexError\u001b[0m                                Traceback (most recent call last)",
      "\u001b[1;32m/home/vemundss/Dropbox/PhD BI-KI/Prosjekter/emergent-grid-cells/notebooks/band-cell-clustere-ratemaps.ipynb Cell 8\u001b[0m in \u001b[0;36m<cell line: 2>\u001b[0;34m()\u001b[0m\n\u001b[1;32m      <a href='vscode-notebook-cell:/home/vemundss/Dropbox/PhD%20BI-KI/Prosjekter/emergent-grid-cells/notebooks/band-cell-clustere-ratemaps.ipynb#X45sZmlsZQ%3D%3D?line=1'>2</a>\u001b[0m \u001b[39mfor\u001b[39;00m b, band_cells_i \u001b[39min\u001b[39;00m \u001b[39menumerate\u001b[39m(band_cells):\n\u001b[1;32m      <a href='vscode-notebook-cell:/home/vemundss/Dropbox/PhD%20BI-KI/Prosjekter/emergent-grid-cells/notebooks/band-cell-clustere-ratemaps.ipynb#X45sZmlsZQ%3D%3D?line=2'>3</a>\u001b[0m     \u001b[39mfor\u001b[39;00m env_i \u001b[39min\u001b[39;00m \u001b[39mrange\u001b[39m(\u001b[39m3\u001b[39m):\n\u001b[0;32m----> <a href='vscode-notebook-cell:/home/vemundss/Dropbox/PhD%20BI-KI/Prosjekter/emergent-grid-cells/notebooks/band-cell-clustere-ratemaps.ipynb#X45sZmlsZQ%3D%3D?line=3'>4</a>\u001b[0m         fig, axs \u001b[39m=\u001b[39m multiimshow2(ratemaps[env_i][band_cells_i], normalize\u001b[39m=\u001b[39m\u001b[39mFalse\u001b[39;00m, figsize\u001b[39m=\u001b[39m(\u001b[39m4\u001b[39m,\u001b[39m4\u001b[39m), rect\u001b[39m=\u001b[39m(\u001b[39m0\u001b[39m,\u001b[39m0\u001b[39m,\u001b[39m1\u001b[39m,\u001b[39m1\u001b[39m), axes_pad\u001b[39m=\u001b[39m\u001b[39m0.02\u001b[39m)\n\u001b[1;32m      <a href='vscode-notebook-cell:/home/vemundss/Dropbox/PhD%20BI-KI/Prosjekter/emergent-grid-cells/notebooks/band-cell-clustere-ratemaps.ipynb#X45sZmlsZQ%3D%3D?line=4'>5</a>\u001b[0m         fig\u001b[39m.\u001b[39msavefig(experiment\u001b[39m.\u001b[39mpaths[\u001b[39m'\u001b[39m\u001b[39mexperiment\u001b[39m\u001b[39m'\u001b[39m] \u001b[39m/\u001b[39m \u001b[39mf\u001b[39m\u001b[39m\"\u001b[39m\u001b[39mplots/B\u001b[39m\u001b[39m{\u001b[39;00mb\u001b[39m}\u001b[39;00m\u001b[39m_ratemaps_\u001b[39m\u001b[39m{\u001b[39;00menv_i\u001b[39m}\u001b[39;00m\u001b[39m\"\u001b[39m)\n",
      "\u001b[0;31mIndexError\u001b[0m: index 615 is out of bounds for axis 0 with size 604"
     ]
    }
   ],
   "source": [
    "from methods import multiimshow2\n",
    "for b, band_cells_i in enumerate(band_cells):\n",
    "    for env_i in range(3):\n",
    "        fig, axs = multiimshow2(ratemaps[env_i][band_cells_i], normalize=False, figsize=(4,4), rect=(0,0,1,1), axes_pad=0.02)\n",
    "        fig.savefig(experiment.paths['experiment'] / f\"plots/B{b}_ratemaps_{env_i}\")"
   ]
  },
  {
   "cell_type": "code",
   "execution_count": 13,
   "id": "9a89b7fe",
   "metadata": {},
   "outputs": [
    {
     "data": {
      "text/plain": [
       "array([   2,   16,   27,   67,   73,  119,  181,  185,  193,  206,  257,\n",
       "        259,  260,  300,  302,  314,  378,  390,  423,  426,  471,  475,\n",
       "        495,  541,  555,  615,  668,  683,  707,  725,  758,  761,  774,\n",
       "        779,  803,  808,  823,  947,  973, 1118, 1146, 1213, 1225, 1237,\n",
       "       1292, 1311, 1371, 1372, 1392, 1423, 1430, 1453, 1468, 1479, 1482,\n",
       "       1507, 1547, 1591, 1595, 1598, 1613, 1652, 1656, 1658, 1691, 1741,\n",
       "       1767, 1784, 1836, 1869, 1904, 1914, 1941, 1951, 1961, 1976, 2042,\n",
       "       2110, 2137, 2195, 2198, 2216, 2227, 2228, 2235, 2255, 2256, 2267,\n",
       "       2269, 2340, 2350, 2369, 2392, 2410, 2422, 2448, 2454, 2485, 2491,\n",
       "       2498, 2632, 2636, 2664, 2668, 2672, 2745, 2746, 2809, 2819, 2835,\n",
       "       2873, 2876, 2890, 2904, 2924, 2933, 2953, 2966, 3030, 3041, 3065,\n",
       "       3183, 3185, 3193, 3221, 3355, 3365, 3375, 3394, 3413, 3417, 3502,\n",
       "       3513, 3526, 3530, 3531, 3566, 3595, 3653, 3721, 3758, 3759, 3791,\n",
       "       3812, 3824, 3875, 3908, 3931, 3935, 3949, 3958, 3985, 4036, 4041,\n",
       "       4055])"
      ]
     },
     "execution_count": 13,
     "metadata": {},
     "output_type": "execute_result"
    }
   ],
   "source": [
    "band_cells_i"
   ]
  }
 ],
 "metadata": {
  "kernelspec": {
   "display_name": "ml",
   "language": "python",
   "name": "python3"
  },
  "language_info": {
   "codemirror_mode": {
    "name": "ipython",
    "version": 3
   },
   "file_extension": ".py",
   "mimetype": "text/x-python",
   "name": "python",
   "nbconvert_exporter": "python",
   "pygments_lexer": "ipython3",
   "version": "3.9.9"
  }
 },
 "nbformat": 4,
 "nbformat_minor": 5
}
