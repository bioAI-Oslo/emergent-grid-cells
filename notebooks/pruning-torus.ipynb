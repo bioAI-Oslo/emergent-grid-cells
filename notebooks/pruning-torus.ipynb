{
 "cells": [
  {
   "cell_type": "code",
   "execution_count": 78,
   "id": "d650772c",
   "metadata": {},
   "outputs": [
    {
     "name": "stdout",
     "output_type": "stream",
     "text": [
      "The autoreload extension is already loaded. To reload it, use:\n",
      "  %reload_ext autoreload\n"
     ]
    }
   ],
   "source": [
    "#%matplotlib widget\n",
    "%load_ext autoreload\n",
    "%autoreload 2\n",
    "#%matplotlib notebook\n",
    "%matplotlib inline"
   ]
  },
  {
   "cell_type": "code",
   "execution_count": 46,
   "id": "a11c1b63",
   "metadata": {},
   "outputs": [],
   "source": [
    "import sys\n",
    "from pathlib import Path\n",
    "import torch\n",
    "import numpy as np\n",
    "import tqdm\n",
    "\n",
    "from ripser import ripser\n",
    "from persim import plot_diagrams\n",
    "\n",
    "# Plotting\n",
    "import matplotlib\n",
    "from matplotlib import pyplot as plt\n",
    "plt.style.use('../bioAI.mplstyle')\n",
    "\n",
    "'''\n",
    "CUSTOM PACKAGES\n",
    "'''\n",
    "# avoid adding multiple relave paths to sys.path\n",
    "sys.path.append(\"../src\") if \"../src\" not in sys.path else None\n",
    "\n",
    "from Models import SorscherRNN\n",
    "from Experiment import Experiment\n",
    "from datahandling import Dataset, MESampler\n",
    "from plotting_functions import *\n",
    "from synthetic_grid_cells import *\n",
    "from methods import *\n",
    "from stats import *"
   ]
  },
  {
   "cell_type": "code",
   "execution_count": 3,
   "id": "20fa9703-1b49-46d8-bd2d-bfbde438d664",
   "metadata": {},
   "outputs": [
    {
     "name": "stdout",
     "output_type": "stream",
     "text": [
      "Experiment <gg-3ME> already EXISTS. Loading experiment settings!\n",
      "Loading experiment details\n",
      "This experiment has ALREADY been setup - SKIPPING.\n",
      "['C0_from_env_0', 'C1_from_env_1', 'C5_from_env_2']\n"
     ]
    }
   ],
   "source": [
    "#base_path = Path(\"/storA/GridCells/\")\n",
    "base_path = \"/mnt/WD12TB-HDD\"\n",
    "experiment = Experiment(name=\"gg-3ME\", base_path=base_path)\n",
    "experiment.setup()\n",
    "\n",
    "module_indices = np.load(f\"{experiment.paths['experiment']}/module_indices.npz\")\n",
    "print(module_indices.files)\n",
    "module_indices = module_indices['C5_from_env_2']\n",
    "\n",
    "ncells = len(module_indices)\n",
    "\n",
    "# percentile is chosen manually to get 315 cells.\n",
    "gs_masks = grid_score_masks(experiment, percentile=0.547, mode=\"intersection\")\n",
    "gs_idxs = np.where(gs_masks)[0]"
   ]
  },
  {
   "cell_type": "code",
   "execution_count": 82,
   "id": "d333b52a-0919-45fe-9b7f-5894586dbd99",
   "metadata": {},
   "outputs": [
    {
     "data": {
      "text/plain": [
       "{'Ng': 4096,\n",
       " 'Np': 512,\n",
       " 'sampler': 'MESampler',\n",
       " 'weight_decay': 0.0001,\n",
       " 'lr': 0.0001,\n",
       " 'seq_len': 20,\n",
       " 'batch_size': 200,\n",
       " 'nsteps': 100,\n",
       " 'nepochs': 3000,\n",
       " 'save_freq': 10,\n",
       " 'date': datetime.datetime(2022, 5, 31, 14, 12, 47, 761022)}"
      ]
     },
     "execution_count": 82,
     "metadata": {},
     "output_type": "execute_result"
    }
   ],
   "source": [
    "experiment.params"
   ]
  },
  {
   "cell_type": "code",
   "execution_count": 93,
   "id": "44b1e1d3-97b7-441b-adcc-1d2cefb0fa28",
   "metadata": {},
   "outputs": [
    {
     "name": "stdout",
     "output_type": "stream",
     "text": [
      "device=device(type='cuda')\n"
     ]
    }
   ],
   "source": [
    "# detach experiment specifics\n",
    "params = experiment.params\n",
    "environments = experiment.environments\n",
    "agents = experiment.agents\n",
    "pc_ensembles = experiment.pc_ensembles\n",
    "paths = experiment.paths\n",
    "\n",
    "num_workers = 16\n",
    "device = torch.device('cuda' if torch.cuda.is_available() else 'cpu')\n",
    "print(f\"{device=}\")\n",
    "\n",
    "# Initialise data loading\n",
    "num_samples = params['nsteps'] * params['batch_size'] # * params['nepochs']\n",
    "dataset = Dataset(agents = agents, pc_ensembles = pc_ensembles, num_samples = num_samples, seq_len=20)#, **params)\n",
    "datasampler = eval(params['sampler'])(num_environments = len(environments), num_samples = num_samples, \\\n",
    "                                      num_epochs = params['nepochs'])\n",
    "dataloader = torch.utils.data.DataLoader(dataset, batch_size=params['batch_size'], sampler = datasampler, num_workers=num_workers)"
   ]
  },
  {
   "cell_type": "code",
   "execution_count": 5,
   "id": "76607247-49ca-403c-960c-268f84af0d66",
   "metadata": {},
   "outputs": [
    {
     "name": "stdout",
     "output_type": "stream",
     "text": [
      "Loading model at epoch = 02999 /mnt/WD12TB-HDD/data/emergent-grid-cells/gg-3ME/checkpoints/02999\n"
     ]
    }
   ],
   "source": [
    "def load_model(experiment):\n",
    "    # load weights\n",
    "    checkpoint_filenames = filenames(experiment.paths['checkpoints'])\n",
    "    # load model latest (wrt. #epochs trained)\n",
    "    print(f\"Loading model at epoch = {checkpoint_filenames[-1]}\", experiment.paths['checkpoints'] / checkpoint_filenames[-1])\n",
    "    checkpoint = torch.load(experiment.paths['checkpoints'] / checkpoint_filenames[-1])\n",
    "    # instantiate trained model this time\n",
    "    model = SorscherRNN(experiment.pc_ensembles, Ng=experiment.params['Ng'], Np=experiment.params['Np'])\n",
    "    model.load_state_dict(checkpoint['model_state_dict'])\n",
    "    return model\n",
    "\n",
    "model = load_model(experiment)"
   ]
  },
  {
   "cell_type": "code",
   "execution_count": 6,
   "id": "16fc6db4-9592-4301-a583-1f5b26e55358",
   "metadata": {},
   "outputs": [],
   "source": [
    "def smooth_ratemaps(model, idxs, **kwargs):\n",
    "    model.prune_mask = list(set(module_indices) - set(idxs))\n",
    "    ratemaps = compute_ratemaps(model=model.g, idxs=idxs, **kwargs).statistic\n",
    "    from astropy.convolution import Gaussian2DKernel, convolve\n",
    "    kernel = Gaussian2DKernel(x_stddev=1.0)\n",
    "    smooth_ratemaps = convolve(ratemaps, kernel.array[None], boundary='extend')\n",
    "    return smooth_ratemaps"
   ]
  },
  {
   "cell_type": "code",
   "execution_count": 47,
   "id": "6dc55f60-d807-4ed7-ace4-2125448138ed",
   "metadata": {},
   "outputs": [],
   "source": [
    "panesize = set_size(width=345, mode='tall')\n",
    "figsize = np.array((panesize[0]/3,panesize[1]*2/6))\n",
    "\n",
    "plt.rcParams[\"figure.autolayout\"] = False\n",
    "plt.rcParams[\"figure.subplot.wspace\"] = 0\n",
    "plt.rcParams[\"figure.subplot.hspace\"] = 0\n",
    "plt.rcParams[\"figure.subplot.left\"] = 0\n",
    "plt.rcParams[\"figure.subplot.right\"] = 1\n",
    "plt.rcParams[\"figure.subplot.bottom\"] = 0\n",
    "plt.rcParams[\"figure.subplot.top\"] = 1\n",
    "plt.rcParams[\"figure.autolayout\"] = True"
   ]
  },
  {
   "cell_type": "code",
   "execution_count": 8,
   "id": "26bab6fb-a037-4ae0-a6a5-f5c919f9b51e",
   "metadata": {},
   "outputs": [],
   "source": [
    "pca_fits, umap_fits = [], []\n",
    "res = np.array([64,64])\n",
    "num_trajectories=3000"
   ]
  },
  {
   "cell_type": "markdown",
   "id": "034aad74-5f08-4ea1-a3dd-9789cf4c6b5e",
   "metadata": {},
   "source": [
    "### Low dimensional projection of all torus cells"
   ]
  },
  {
   "cell_type": "code",
   "execution_count": 60,
   "id": "c036b606-6f56-4ffe-a9ca-1946a84c0c0b",
   "metadata": {},
   "outputs": [
    {
     "name": "stderr",
     "output_type": "stream",
     "text": [
      "100%|███████████████████████████████████████| 3000/3000 [02:56<00:00, 17.03it/s]\n"
     ]
    }
   ],
   "source": [
    "ratemaps = smooth_ratemaps(model,idxs=module_indices,dataset=dataset,num_trajectories=num_trajectories,res=res)\n",
    "g = ratemaps.reshape(len(ratemaps),-1).T\n",
    "\n",
    "pca_fit, umap_fit = PCA_UMAP(g)\n",
    "pca_fits.append(pca_fit)\n",
    "umap_fits.append(umap_fit)"
   ]
  },
  {
   "cell_type": "code",
   "execution_count": 61,
   "id": "7e11f861-d394-4639-9836-15b2da8c72a7",
   "metadata": {},
   "outputs": [
    {
     "data": {
      "image/png": "[encoded data removed]",
      "text/plain": [
       "<Figure size 114.57x185.379 with 4 Axes>"
      ]
     },
     "metadata": {},
     "output_type": "display_data"
    }
   ],
   "source": [
    "fig,axs = scatter3d(umap_fits[0], pca_fits[0][:,0],ncols=2,nrows=2,s=0.005,alpha=0.8,azim_elev_title=False, figsize=figsize)\n",
    "fig.savefig(experiment.paths['experiment'] / f'plots/0-pruning')"
   ]
  },
  {
   "cell_type": "code",
   "execution_count": 68,
   "id": "5e1f7697-be0a-473e-b00b-e35686d33161",
   "metadata": {},
   "outputs": [
    {
     "data": {
      "text/plain": [
       "(295,)"
      ]
     },
     "execution_count": 68,
     "metadata": {},
     "output_type": "execute_result"
    }
   ],
   "source": []
  },
  {
   "cell_type": "code",
   "execution_count": 74,
   "id": "e9edcc92-49c4-4772-9835-29646be22a1a",
   "metadata": {},
   "outputs": [
    {
     "data": {
      "image/png": "[encoded data removed]",
      "text/plain": [
       "<Figure size 114.57x185.379 with 4 Axes>"
      ]
     },
     "metadata": {},
     "output_type": "display_data"
    },
    {
     "data": {
      "image/png": "[encoded data removed]",
      "text/plain": [
       "<Figure size 114.57x185.379 with 4 Axes>"
      ]
     },
     "metadata": {},
     "output_type": "display_data"
    },
    {
     "data": {
      "image/png": "[encoded data removed]",
      "text/plain": [
       "<Figure size 114.57x185.379 with 4 Axes>"
      ]
     },
     "metadata": {},
     "output_type": "display_data"
    }
   ],
   "source": [
    "for n2exclude in [20, 50, 200]:\n",
    "    idxs = np.random.choice(range(g.shape[-1]), size=g.shape[-1]-n2exclude, replace=False)\n",
    "    pca_fit, umap_fit = PCA_UMAP(g[:,idxs])\n",
    "    fig,axs = scatter3d(umap_fit, pca_fit[:,0],ncols=2,nrows=2,s=0.005,alpha=0.8,azim_elev_title=False, figsize=figsize)\n",
    "    fig.savefig(experiment.paths['experiment'] / f'plots/0-pruning-#cells-{len(idxs)}')"
   ]
  },
  {
   "cell_type": "code",
   "execution_count": 77,
   "id": "4986fc81-0731-4414-9479-bfef2ebbfc8a",
   "metadata": {},
   "outputs": [
    {
     "data": {
      "image/png": "[encoded data removed]",
      "text/plain": [
       "<Figure size 114.57x185.379 with 4 Axes>"
      ]
     },
     "metadata": {},
     "output_type": "display_data"
    }
   ],
   "source": [
    "idxs = np.random.choice(range(g.shape[-1]), size=g.shape[-1]-300, replace=False)\n",
    "pca_fit, umap_fit = PCA_UMAP(g[:,idxs])\n",
    "fig,axs = scatter3d(umap_fit, pca_fit[:,0],ncols=2,nrows=2,s=0.005,alpha=0.8,azim_elev_title=False, figsize=figsize)\n",
    "fig.savefig(experiment.paths['experiment'] / f'plots/0-pruning-#cells-{len(idxs)}')"
   ]
  },
  {
   "cell_type": "code",
   "execution_count": null,
   "id": "d789ba53-39c9-4d85-87bf-6287a8517274",
   "metadata": {},
   "outputs": [],
   "source": []
  },
  {
   "cell_type": "markdown",
   "id": "137544f9-de34-47ce-9668-910ea200b53c",
   "metadata": {},
   "source": [
    "### Low dimensional projection of torus after different levels of pruning"
   ]
  },
  {
   "cell_type": "code",
   "execution_count": 11,
   "id": "42dc8151-b462-4fe5-9e6b-da5ee0ddcd97",
   "metadata": {},
   "outputs": [
    {
     "name": "stderr",
     "output_type": "stream",
     "text": [
      "100%|███████████████████████████████████████| 3000/3000 [02:42<00:00, 18.49it/s]\n"
     ]
    }
   ],
   "source": [
    "n2prune = 10\n",
    "idxs2prune = np.random.choice(module_indices, size=ncells - n2prune, replace=False)\n",
    "ratemaps = smooth_ratemaps(model,idxs=idxs2prune,dataset=dataset,num_trajectories=num_trajectories,res=res)\n",
    "g = ratemaps.reshape(len(ratemaps),-1).T\n",
    "\n",
    "pca_fit, umap_fit = PCA_UMAP(g)\n",
    "pca_fits.append(pca_fit)\n",
    "umap_fits.append(umap_fit)"
   ]
  },
  {
   "cell_type": "code",
   "execution_count": 49,
   "id": "734670d3-a788-458b-9828-b82114942d55",
   "metadata": {},
   "outputs": [
    {
     "data": {
      "image/png": "[encoded data removed]",
      "text/plain": [
       "<Figure size 114.57x185.379 with 4 Axes>"
      ]
     },
     "metadata": {},
     "output_type": "display_data"
    }
   ],
   "source": [
    "fig,axs = scatter3d(umap_fits[1], pca_fits[1][:,0],ncols=2,nrows=2,s=0.005,alpha=0.8,azim_elev_title=False, figsize=figsize)\n",
    "fig.savefig(experiment.paths['experiment'] / f'plots/10-torus-pruning')"
   ]
  },
  {
   "cell_type": "code",
   "execution_count": null,
   "id": "bed6f9cf-9076-42f0-a013-8c0ed02d6384",
   "metadata": {},
   "outputs": [],
   "source": []
  },
  {
   "cell_type": "code",
   "execution_count": 13,
   "id": "54751998-cd5e-4960-8871-2878ad8ffc03",
   "metadata": {},
   "outputs": [
    {
     "name": "stderr",
     "output_type": "stream",
     "text": [
      "100%|███████████████████████████████████████| 3000/3000 [02:38<00:00, 18.96it/s]\n"
     ]
    }
   ],
   "source": [
    "n2prune = 20\n",
    "idxs2prune = np.random.choice(module_indices, size=ncells - n2prune, replace=False)\n",
    "ratemaps = smooth_ratemaps(model,idxs=idxs2prune,dataset=dataset,num_trajectories=num_trajectories,res=res)\n",
    "g = ratemaps.reshape(len(ratemaps),-1).T\n",
    "\n",
    "pca_fit, umap_fit = PCA_UMAP(g)\n",
    "pca_fits.append(pca_fit)\n",
    "umap_fits.append(umap_fit)"
   ]
  },
  {
   "cell_type": "code",
   "execution_count": 55,
   "id": "d6daa781-3ce2-4afb-9f19-72f3a6398930",
   "metadata": {},
   "outputs": [
    {
     "data": {
      "image/png": "[encoded data removed]",
      "text/plain": [
       "<Figure size 114.57x185.379 with 4 Axes>"
      ]
     },
     "metadata": {},
     "output_type": "display_data"
    }
   ],
   "source": [
    "fig,axs = scatter3d(umap_fits[2], pca_fits[2][:,0],ncols=2,nrows=2,s=0.005,alpha=0.8,azim_elev_title=False, figsize=figsize)\n",
    "fig.savefig(experiment.paths['experiment'] / f'plots/20-torus-pruning')"
   ]
  },
  {
   "cell_type": "code",
   "execution_count": null,
   "id": "528d8741-ccf3-43f2-94cb-bef30a1f1f63",
   "metadata": {},
   "outputs": [],
   "source": []
  },
  {
   "cell_type": "code",
   "execution_count": 15,
   "id": "6238842a-923e-4a9e-a80a-5ccedbccedc9",
   "metadata": {},
   "outputs": [
    {
     "name": "stderr",
     "output_type": "stream",
     "text": [
      "100%|███████████████████████████████████████| 3000/3000 [02:43<00:00, 18.33it/s]\n"
     ]
    }
   ],
   "source": [
    "n2prune = 50\n",
    "idxs2prune = np.random.choice(module_indices, size=ncells - n2prune, replace=False)\n",
    "ratemaps = smooth_ratemaps(model,idxs=idxs2prune,dataset=dataset,num_trajectories=num_trajectories,res=res)\n",
    "g = ratemaps.reshape(len(ratemaps),-1).T\n",
    "\n",
    "pca_fit, umap_fit = PCA_UMAP(g)\n",
    "pca_fits.append(pca_fit)\n",
    "umap_fits.append(umap_fit)"
   ]
  },
  {
   "cell_type": "code",
   "execution_count": 51,
   "id": "c44e3af7-23e5-49db-b701-43605fe29069",
   "metadata": {},
   "outputs": [
    {
     "data": {
      "image/png": "[encoded data removed]",
      "text/plain": [
       "<Figure size 114.57x185.379 with 4 Axes>"
      ]
     },
     "metadata": {},
     "output_type": "display_data"
    }
   ],
   "source": [
    "fig,axs = scatter3d(umap_fits[3], pca_fits[3][:,0],ncols=2,nrows=2,s=0.005,alpha=0.8,azim_elev_title=False, figsize=figsize)\n",
    "fig.savefig(experiment.paths['experiment'] / f'plots/50-torus-pruning')"
   ]
  },
  {
   "cell_type": "code",
   "execution_count": null,
   "id": "38193e5c-f764-4678-8aea-732175189715",
   "metadata": {},
   "outputs": [],
   "source": []
  },
  {
   "cell_type": "code",
   "execution_count": 27,
   "id": "30b8af04-cbd2-4a85-a59e-7c1acf15ab09",
   "metadata": {},
   "outputs": [
    {
     "name": "stderr",
     "output_type": "stream",
     "text": [
      "100%|███████████████████████████████████████| 3000/3000 [02:45<00:00, 18.08it/s]\n"
     ]
    }
   ],
   "source": [
    "n2prune = 200\n",
    "idxs2prune = np.random.choice(module_indices, size=ncells - n2prune, replace=False)\n",
    "ratemaps = smooth_ratemaps(model,idxs=idxs2prune,dataset=dataset,num_trajectories=num_trajectories,res=res)\n",
    "g = ratemaps.reshape(len(ratemaps),-1).T\n",
    "\n",
    "pca_fit, umap_fit = PCA_UMAP(g)\n",
    "pca_fits.append(pca_fit)\n",
    "umap_fits.append(umap_fit)"
   ]
  },
  {
   "cell_type": "code",
   "execution_count": 52,
   "id": "b864451c-882e-4bc1-97e3-c3f5232e9830",
   "metadata": {},
   "outputs": [
    {
     "data": {
      "image/png": "[encoded data removed]",
      "text/plain": [
       "<Figure size 114.57x185.379 with 4 Axes>"
      ]
     },
     "metadata": {},
     "output_type": "display_data"
    }
   ],
   "source": [
    "fig,axs = scatter3d(umap_fits[4], pca_fits[4][:,0],ncols=2,nrows=2,s=0.005,alpha=0.8,azim_elev_title=False, figsize=figsize)\n",
    "fig.savefig(experiment.paths['experiment'] / f'plots/200-torus-pruning')"
   ]
  },
  {
   "cell_type": "code",
   "execution_count": null,
   "id": "aacb9973-3985-4616-8666-bf9743fcd024",
   "metadata": {},
   "outputs": [],
   "source": []
  },
  {
   "cell_type": "code",
   "execution_count": 17,
   "id": "2c560495-ae42-480c-b5cd-75b1637bb5fa",
   "metadata": {},
   "outputs": [
    {
     "data": {
      "text/plain": [
       "(tensor(16572416.), 16777216)"
      ]
     },
     "execution_count": 17,
     "metadata": {},
     "output_type": "execute_result"
    }
   ],
   "source": [
    "torch.sum(model.prune_mask[1]), np.prod(np.array(model.prune_mask[1].shape))"
   ]
  },
  {
   "cell_type": "code",
   "execution_count": null,
   "id": "96b9e35d-0c11-49f6-aca9-c3753125804f",
   "metadata": {},
   "outputs": [],
   "source": []
  },
  {
   "cell_type": "code",
   "execution_count": 26,
   "id": "4d4e5c56-c719-442d-b2a8-fbfc34e6a7e1",
   "metadata": {},
   "outputs": [
    {
     "data": {
      "text/plain": [
       "(array([22., 21., 15., 11., 19., 14.,  8.,  4.,  8.,  6.]),\n",
       " array([0.00067681, 0.01267306, 0.02466931, 0.03666556, 0.0486618 ,\n",
       "        0.06065805, 0.0726543 , 0.08465055, 0.0966468 , 0.10864305,\n",
       "        0.12063929]),\n",
       " <BarContainer object of 10 artists>)"
      ]
     },
     "execution_count": 26,
     "metadata": {},
     "output_type": "execute_result"
    },
    {
     "data": {
      "image/png": "[encoded data removed]",
      "text/plain": [
       "<Figure size 640x480 with 2 Axes>"
      ]
     },
     "metadata": {},
     "output_type": "display_data"
    }
   ],
   "source": [
    "fig,axs = plt.subplots(ncols=2)\n",
    "#dgms = ripser(g,maxdim=2,n_perm=150)['dgms']\n",
    "dgms = ripser(pca_fits[0],maxdim=2,n_perm=150)['dgms']\n",
    "plot_diagrams(dgms, show=False, ax=axs[0])\n",
    "axs[1].hist(dgms[1][:,1] - dgms[1][:,0])"
   ]
  },
  {
   "cell_type": "code",
   "execution_count": null,
   "id": "75d23a4c-9501-444d-9c93-c5af6397eca6",
   "metadata": {},
   "outputs": [],
   "source": []
  }
 ],
 "metadata": {
  "kernelspec": {
   "display_name": "Python [conda env:ml]",
   "language": "python",
   "name": "conda-env-ml-py"
  },
  "language_info": {
   "codemirror_mode": {
    "name": "ipython",
    "version": 3
   },
   "file_extension": ".py",
   "mimetype": "text/x-python",
   "name": "python",
   "nbconvert_exporter": "python",
   "pygments_lexer": "ipython3",
   "version": "3.9.9"
  }
 },
 "nbformat": 4,
 "nbformat_minor": 5
}
