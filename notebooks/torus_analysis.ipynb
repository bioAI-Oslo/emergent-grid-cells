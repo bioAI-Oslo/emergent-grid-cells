{
 "cells": [
  {
   "cell_type": "code",
   "execution_count": 2,
   "id": "a11c1b63",
   "metadata": {},
   "outputs": [],
   "source": [
    "import os\n",
    "import sys\n",
    "import pickle\n",
    "\n",
    "import numpy as np\n",
    "import matplotlib.pyplot as plt\n",
    "from astropy.convolution import Gaussian2DKernel, convolve\n",
    "\n",
    "import umap\n",
    "from sklearn.decomposition import PCA\n",
    "\n",
    "from datashader import transfer_functions as tf\n",
    "from datashader.colors import inferno, viridis\n",
    "\n",
    "\n",
    "sys.path.append(\"../src\") if \"../src\" not in sys.path else None \n",
    "\n",
    "from Experiment import Experiment\n",
    "from methods import filenames"
   ]
  },
  {
   "cell_type": "code",
   "execution_count": 3,
   "id": "9df7c137",
   "metadata": {},
   "outputs": [],
   "source": [
    "def load_experiment(name, loc):\n",
    "    experiment = Experiment(name = name, base_path=loc)\n",
    "    experiment.setup()\n",
    "    return experiment\n",
    "\n",
    "def load_ratemaps(experiment):\n",
    "    ratemaps = []\n",
    "    kernel = Gaussian2DKernel(x_stddev=1)\n",
    "    for env_i in range(len(experiment.environments)):\n",
    "        with open(experiment.paths['ratemaps'] / f'env_{env_i}' / filenames(experiment.paths['ratemaps'] / f'env_{env_i}')[-1], \"rb\") as f:\n",
    "            ratemaps.append(convolve(pickle.load(f), kernel.array[None]))\n",
    "    ratemaps = np.concatenate(ratemaps)\n",
    "    return ratemaps\n",
    "\n",
    "def env_split(stats, n_envs, Ng=4096):\n",
    "    # stack ratemaps by environment\n",
    "    env_stat = []\n",
    "    for env_i in range(n_envs):\n",
    "        tmp = stats[Ng*env_i:Ng*(env_i+1)]\n",
    "        env_stat.append(tmp)\n",
    "    return np.array(env_stat)"
   ]
  },
  {
   "cell_type": "code",
   "execution_count": 4,
   "id": "dcf595b6",
   "metadata": {},
   "outputs": [],
   "source": [
    "def pca_UMAP(states):\n",
    "    \"\"\" Run PCA followed by UMAP on states; Similar to Gardner et al. (2022)\n",
    "    \n",
    "    states.shape = (Nsamples, Nfeatures)\n",
    "    PCA down to 6 features/principal components \n",
    "    UMAP of PCA componenents to 3 features.\n",
    "    \n",
    "    Note: Gardner et al. use n_neighbors = 5000 (more than number of samples in our case...)\n",
    "    \"\"\"\n",
    "    pca_fit = PCA(n_components = 6).fit(states)\n",
    "    pca_result = pca_fit.transform(states)\n",
    "    umap_fit = umap.UMAP(n_components = 3, min_dist = 0.8,  # Almost Gardner et al. params\n",
    "                         n_neighbors = 1000, metric = \"cosine\", init = \"spectral\")\n",
    "    umap_result = umap_fit.fit_transform(pca_result)\n",
    "    return pca_result, umap_result"
   ]
  },
  {
   "cell_type": "code",
   "execution_count": 5,
   "id": "612dfa41",
   "metadata": {},
   "outputs": [],
   "source": [
    "def scatter3d(data, ncols=4, nrows=4, s=1, alpha=0.5, azim_elev_title=True, **kwargs):\n",
    "    assert data.shape[-1] == 3, \"data must have three axes. No more, no less.\"\n",
    "    if data.ndim > 2:\n",
    "        data = data.reshape(-1, 3)\n",
    "    fig, axs = plt.subplots(ncols=ncols, nrows=nrows, subplot_kw={\"projection\": \"3d\"}, **kwargs)\n",
    "    num_plots = ncols * nrows\n",
    "    azims = np.linspace(0, 180, ncols + 1)[:-1]\n",
    "    elevs = np.linspace(0, 90, nrows + 1)[:-1]\n",
    "    view_angles = np.stack(np.meshgrid(azims, elevs), axis=-1).reshape(-1, 2)\n",
    "    for i, ax in enumerate(axs.flat):\n",
    "        ax.scatter(xs=data[:, 0], ys=data[:, 1], zs=data[:, 2], s=s, alpha=alpha)\n",
    "        ax.azim = view_angles[i, 0]\n",
    "        ax.elev = view_angles[i, 1]\n",
    "        ax.axis(\"off\")\n",
    "        if azim_elev_title:\n",
    "            ax.set_title(f\"azim={ax.azim}, elev={ax.elev}\")\n",
    "    return fig, axs"
   ]
  },
  {
   "cell_type": "code",
   "execution_count": 6,
   "id": "d46d1d13",
   "metadata": {},
   "outputs": [
    {
     "name": "stdout",
     "output_type": "stream",
     "text": [
      "Experiment <gg-3ME> already EXISTS. Loading experiment settings!\n",
      "Loading experiment details\n",
      "This experiment has ALREADY been setup - SKIPPING.\n"
     ]
    }
   ],
   "source": [
    "# Load ratemaps and module indices\n",
    "experiment = load_experiment(\"gg-3ME\", \"/home/users/vemundss/\")\n",
    "ratemaps = load_ratemaps(experiment)\n",
    "\n",
    "module_indices = np.load(\"/home/users/markusbp/data/emergent-grid-cells/module_indices.npz\")"
   ]
  },
  {
   "cell_type": "code",
   "execution_count": 7,
   "id": "ca9e27d0",
   "metadata": {},
   "outputs": [
    {
     "data": {
      "text/plain": [
       "(3, 4096, 64, 64)"
      ]
     },
     "execution_count": 7,
     "metadata": {},
     "output_type": "execute_result"
    }
   ],
   "source": [
    "ratemaps = env_split(ratemaps, len(experiment.environments))\n",
    "ratemaps.shape"
   ]
  },
  {
   "cell_type": "code",
   "execution_count": null,
   "id": "e943f2b7",
   "metadata": {},
   "outputs": [
    {
     "name": "stdout",
     "output_type": "stream",
     "text": [
      "(245, 4096)\n"
     ]
    }
   ],
   "source": [
    "g = np.reshape(ratemaps, (*ratemaps.shape[:2],-1)) # flatten bin dims\n",
    "g = np.transpose(g, (0, 2, 1)) # reshape so cell dim is last\n",
    "\n",
    "for key in module_indices:\n",
    "    inds = module_indices[key]\n",
    "    \n",
    "    for j in range(3):\n",
    "        pc, um = pca_UMAP(g[j, :,inds].T)\n",
    "        fig, axs = scatter3d(um.reshape(64,64,3),ncols=3,nrows=3,s=0.1,alpha=0.5, figsize=(10,10))\n",
    "        plt.show()\n",
    "    "
   ]
  },
  {
   "cell_type": "code",
   "execution_count": null,
   "id": "985c3030",
   "metadata": {},
   "outputs": [],
   "source": [
    "\"\"\"\n",
    "1. Run through each environments\n",
    "2. Run through each interesting cluster index\n",
    "3. Identify cells that are implicated in the cluster\n",
    "4. Perform PCA + UMAP in each environment\n",
    "5. Plot result\n",
    "\n",
    "# Note; need to cut out non-stddev cells for each cluster\n",
    "\"\"\"\n",
    "\n",
    "fig_titles = []\n",
    "pca_fits = []\n",
    "umap_fits = []\n",
    "\n",
    "\n",
    "for i in range(len(ratemaps)):\n",
    "\n",
    "    cluster_ind = interesting_clusters[i]\n",
    "    for j in cluster_ind:\n",
    "        cell_mask =  cluster_labels[i] == j\n",
    "        \n",
    "        #fig = plt.figure(figsize = (8,4))\n",
    "        fig.supxlabel(f\"No. Cells:{cell_mask.sum()}\")\n",
    "        \n",
    "        env_pca_fits = []\n",
    "        env_umap_fits = []\n",
    "        env_titles = []\n",
    "        \n",
    "        for k in range(len(environments)):\n",
    "            #ax = fig.add_subplot(1, 3, k+1, projection = \"3d\")\n",
    "            pca_fit2, u2 = pca_UMAP(g[k][:,std_mask[i]][:,cell_mask])\n",
    "            \n",
    "            title = f\"C{j}_from_env{i}_in_env{k}\"\n",
    "            env_titles.append(title)\n",
    "            env_pca_fits.append(pca_fit2)\n",
    "            env_umap_fits.append(u2)\n",
    "            \n",
    "            #plot_3d_proj(u2, pca_fit2[:,0], title = title, ax = ax)\n",
    "        #plt.show()\n",
    "        \n",
    "        fig_titles.append(env_titles)\n",
    "        pca_fits.append(env_pca_fits)\n",
    "        umap_fits.append(env_umap_fits)"
   ]
  },
  {
   "cell_type": "code",
   "execution_count": 16,
   "id": "2b89abaf",
   "metadata": {},
   "outputs": [
    {
     "ename": "NameError",
     "evalue": "name 'umap_fits' is not defined",
     "output_type": "error",
     "traceback": [
      "\u001b[0;31m---------------------------------------------------------------------------\u001b[0m",
      "\u001b[0;31mNameError\u001b[0m                                 Traceback (most recent call last)",
      "Input \u001b[0;32mIn [16]\u001b[0m, in \u001b[0;36m<module>\u001b[0;34m\u001b[0m\n\u001b[1;32m      1\u001b[0m env_figs \u001b[38;5;241m=\u001b[39m []\n\u001b[0;32m----> 3\u001b[0m \u001b[38;5;28;01mfor\u001b[39;00m u, pc, title \u001b[38;5;129;01min\u001b[39;00m \u001b[38;5;28mzip\u001b[39m(\u001b[43mumap_fits\u001b[49m, pca_fits, fig_titles):\n\u001b[1;32m      4\u001b[0m     fig \u001b[38;5;241m=\u001b[39m plt\u001b[38;5;241m.\u001b[39mfigure(figsize \u001b[38;5;241m=\u001b[39m (\u001b[38;5;241m8\u001b[39m,\u001b[38;5;241m4\u001b[39m))\n\u001b[1;32m      5\u001b[0m     \u001b[38;5;28mprint\u001b[39m(\u001b[38;5;241m*\u001b[39mtitle)\n",
      "\u001b[0;31mNameError\u001b[0m: name 'umap_fits' is not defined"
     ]
    }
   ],
   "source": [
    "env_figs = []\n",
    "\n",
    "for u, pc, title in zip(umap_fits, pca_fits, fig_titles):\n",
    "    fig = plt.figure(figsize = (8,4))\n",
    "    print(*title)\n",
    "    for i in range(len(environments)):\n",
    "        ax = fig.add_subplot(1, 3, i+1, projection = \"3d\")\n",
    "        plot_3d_proj(u[i], pc[i][:,0], axes = ax)\n",
    "    env_figs.append(fig)"
   ]
  },
  {
   "cell_type": "code",
   "execution_count": 1,
   "id": "ea8adf95",
   "metadata": {},
   "outputs": [],
   "source": []
  },
  {
   "cell_type": "code",
   "execution_count": null,
   "id": "89f060a3",
   "metadata": {},
   "outputs": [],
   "source": []
  }
 ],
 "metadata": {
  "kernelspec": {
   "display_name": "Python 3 (ipykernel)",
   "language": "python",
   "name": "python3"
  },
  "language_info": {
   "codemirror_mode": {
    "name": "ipython",
    "version": 3
   },
   "file_extension": ".py",
   "mimetype": "text/x-python",
   "name": "python",
   "nbconvert_exporter": "python",
   "pygments_lexer": "ipython3",
   "version": "3.8.10"
  }
 },
 "nbformat": 4,
 "nbformat_minor": 5
}
