{
 "cells": [
  {
   "cell_type": "code",
   "execution_count": 1,
   "id": "d650772c",
   "metadata": {},
   "outputs": [],
   "source": [
    "#%matplotlib widget\n",
    "%load_ext autoreload\n",
    "%autoreload 2\n",
    "#%matplotlib notebook\n",
    "%matplotlib inline"
   ]
  },
  {
   "cell_type": "code",
   "execution_count": 2,
   "id": "a11c1b63",
   "metadata": {},
   "outputs": [],
   "source": [
    "import os\n",
    "import sys\n",
    "import pickle\n",
    "import tqdm\n",
    "\n",
    "import numpy as np\n",
    "import matplotlib.pyplot as plt\n",
    "import matplotlib.colors\n",
    "from astropy.convolution import Gaussian2DKernel, convolve\n",
    "\n",
    "import umap\n",
    "from sklearn.decomposition import PCA\n",
    "\n",
    "plt.style.use(\"../bioAI.mplstyle\")\n",
    "\n",
    "sys.path.append(\"../src\") if \"../src\" not in sys.path else None \n",
    "\n",
    "from Experiment import Experiment\n",
    "from methods import filenames\n",
    "from stats import grid_score_masks\n",
    "from plotting_functions import *"
   ]
  },
  {
   "cell_type": "code",
   "execution_count": 3,
   "id": "9df7c137",
   "metadata": {},
   "outputs": [],
   "source": [
    "def load_experiment(path, name):\n",
    "    experiment = Experiment(name = name, base_path = path)\n",
    "    experiment.setup()\n",
    "    return experiment\n",
    "\n",
    "def load_ratemaps(experiment):\n",
    "    # load grid scores + ratemaps\n",
    "    ratemaps = []\n",
    "    kernel = Gaussian2DKernel(x_stddev=1)\n",
    "    for env_i in range(len(experiment.environments)):\n",
    "        with open(experiment.paths['ratemaps'] / f'env_{env_i}' / filenames(experiment.paths['ratemaps'] / f'env_{env_i}')[-1], \"rb\") as f:\n",
    "            ratemaps.append(convolve(pickle.load(f), kernel.array[None]))\n",
    "    ratemaps = np.concatenate(ratemaps)\n",
    "    return ratemaps\n",
    "\n",
    "def env_split(stats, n_envs, Ng=4096):\n",
    "    # stack ratemaps by environment\n",
    "    env_stat = []\n",
    "    for env_i in range(n_envs):\n",
    "        tmp = stats[Ng*env_i:Ng*(env_i+1)]\n",
    "        env_stat.append(tmp)\n",
    "    return np.array(env_stat)"
   ]
  },
  {
   "cell_type": "code",
   "execution_count": 4,
   "id": "dcf595b6",
   "metadata": {},
   "outputs": [],
   "source": [
    "def PCA_UMAP(states):\n",
    "    \"\"\" Run PCA followed by UMAP on states; Similar to Gardner et al. (2022)\n",
    "    \n",
    "    states.shape = (Nsamples, Nfeatures)\n",
    "    PCA down to 6 features/principal components \n",
    "    UMAP of PCA componenents to 3 features.\n",
    "    \n",
    "    Note: Gardner et al. use n_neighbors = 5000 (more than number of samples in our case...)\n",
    "    \"\"\"\n",
    "    pca_fit = PCA(n_components = 6).fit(states)\n",
    "    pca_result = pca_fit.transform(states)\n",
    "    umap_fit = umap.UMAP(n_components = 3, min_dist = 0.8,  # Almost Gardner et al. params\n",
    "                         n_neighbors = 1000, metric = \"cosine\", init = \"spectral\")\n",
    "    umap_result = umap_fit.fit_transform(pca_result)\n",
    "    return pca_result, umap_result"
   ]
  },
  {
   "cell_type": "code",
   "execution_count": 5,
   "id": "4566bcb2-c958-407e-bbed-67c5a9f90101",
   "metadata": {},
   "outputs": [],
   "source": [
    "def scatter3d(data, tags, ncols=4, nrows=4, s=1, alpha=0.5, azim_elev_title=True, **kwargs):\n",
    "    assert data.shape[-1] == 3, \"data must have three axes. No more, no less.\"\n",
    "    if data.ndim > 2:\n",
    "        data = data.reshape(-1, 3)\n",
    "    fig, axs = plt.subplots(ncols=ncols, nrows=nrows, subplot_kw={\"projection\": \"3d\"}, **kwargs)\n",
    "    num_plots = ncols * nrows\n",
    "    \n",
    "    azims = np.linspace(0, 180, ncols + 1)[:-1]\n",
    "    elevs = np.linspace(0, 90, nrows + 1)[:-1]\n",
    "    print(azims,elevs)\n",
    "    view_angles = np.stack(np.meshgrid(azims, elevs), axis=-1).reshape(-1, 2)\n",
    "    norm = matplotlib.colors.Normalize(np.amin(tags), np.amax(tags))\n",
    "    color = matplotlib.cm.viridis(norm(tags))\n",
    "    for i, ax in enumerate(axs.flat):\n",
    "        ax.scatter(xs=data[:, 0], ys=data[:, 1], zs=data[:, 2], color=color, s=s, alpha=alpha)\n",
    "        ax.azim = view_angles[i, 0]\n",
    "        ax.elev = view_angles[i, 1]\n",
    "        ax.axis(\"off\")\n",
    "        if azim_elev_title:\n",
    "            ax.set_title(f\"azim={ax.azim}, elev={ax.elev}\")\n",
    "    return fig, axs"
   ]
  },
  {
   "cell_type": "code",
   "execution_count": 6,
   "id": "d46d1d13",
   "metadata": {},
   "outputs": [
    {
     "name": "stdout",
     "output_type": "stream",
     "text": [
      "Experiment <gg-3ME> already EXISTS. Loading experiment settings!\n",
      "Loading experiment details\n",
      "This experiment has ALREADY been setup - SKIPPING.\n"
     ]
    }
   ],
   "source": [
    "# Load ratemaps and module indices\n",
    "#base_path = \"/home/users/vemundss/\"\n",
    "base_path = \"/mnt/WD12TB-HDD\"\n",
    "experiment = load_experiment(base_path, \"gg-3ME\")\n",
    "ratemaps = load_ratemaps(experiment)\n",
    "\n",
    "# ---> select cells by manifold (gardner et al.) <---\n",
    "module_indices = np.load(f\"{experiment.paths['experiment']}/module_indices.npz\")\n",
    "module_indices = module_indices['C5_from_env_2']\n",
    "\n",
    "# ---> select cells by grid score <---\n",
    "#module_indices = grid_score_masks(experiment, percentile=0.55, mode=\"intersection\")\n",
    "selection_process_name = 'gcs' if module_indices.dtype == 'bool' else 'gardner'"
   ]
  },
  {
   "cell_type": "code",
   "execution_count": 7,
   "id": "ca9e27d0",
   "metadata": {},
   "outputs": [],
   "source": [
    "ratemaps = env_split(ratemaps, len(experiment.environments))\n",
    "g = np.reshape(ratemaps, (*ratemaps.shape[:2],-1)) # flatten bin dims; (Nenv, Ng, nbins)\n",
    "g = np.transpose(g, (0, 2, 1)) # reshape so cell dim is last"
   ]
  },
  {
   "cell_type": "code",
   "execution_count": 8,
   "id": "08dc0092-ad7e-42cf-bcc3-02901001bce1",
   "metadata": {},
   "outputs": [],
   "source": [
    "env_i = 0\n",
    "pca_fit, umap_fit = PCA_UMAP(g[env_i][:,module_indices])"
   ]
  },
  {
   "cell_type": "code",
   "execution_count": 9,
   "id": "96a9fab3-1057-457b-aab6-6423588441b7",
   "metadata": {},
   "outputs": [
    {
     "name": "stdout",
     "output_type": "stream",
     "text": [
      "[ 0. 90.] [ 0. 45.]\n"
     ]
    },
    {
     "data": {
      "image/png": "[encoded data removed]",
      "text/plain": [
       "<Figure size 114.57x182.648 with 4 Axes>"
      ]
     },
     "metadata": {
      "needs_background": "light"
     },
     "output_type": "display_data"
    }
   ],
   "source": [
    "panesize = set_size(width=345, mode='max')\n",
    "figsize = (panesize[0]/3,panesize[1]*2/6)\n",
    "\n",
    "plt.rcParams[\"figure.autolayout\"] = False\n",
    "plt.rcParams[\"figure.subplot.wspace\"] = 0\n",
    "plt.rcParams[\"figure.subplot.hspace\"] = 0\n",
    "plt.rcParams[\"figure.subplot.left\"] = 0\n",
    "plt.rcParams[\"figure.subplot.right\"] = 1\n",
    "plt.rcParams[\"figure.subplot.bottom\"] = 0\n",
    "plt.rcParams[\"figure.subplot.top\"] = 1\n",
    "plt.rcParams[\"figure.autolayout\"] = True\n",
    "\n",
    "fig,axs = scatter3d(umap_fit,pca_fit[:,0],nrows=2,ncols=2,azim_elev_title=False,figsize=figsize,s=0.005,alpha=0.8)\n",
    "fig.savefig(experiment.paths['experiment'] / f'plots/torei_{selection_process_name}_{env_i}')"
   ]
  },
  {
   "cell_type": "code",
   "execution_count": 10,
   "id": "874c58c7-a053-42ad-b320-881e8a5befad",
   "metadata": {},
   "outputs": [
    {
     "name": "stdout",
     "output_type": "stream",
     "text": [
      "[ 0. 90.] [ 0. 45.]\n"
     ]
    },
    {
     "data": {
      "image/png": "[encoded data removed]",
      "text/plain": [
       "<Figure size 114.57x182.648 with 4 Axes>"
      ]
     },
     "metadata": {
      "needs_background": "light"
     },
     "output_type": "display_data"
    }
   ],
   "source": [
    "env_i = 1\n",
    "pca_fit, umap_fit = PCA_UMAP(g[env_i][:,module_indices])\n",
    "\n",
    "fig,axs = scatter3d(umap_fit,pca_fit[:,0],nrows=2,ncols=2,azim_elev_title=False,figsize=figsize,s=0.005,alpha=0.8)\n",
    "fig.savefig(experiment.paths['experiment'] / f'plots/torei_{selection_process_name}_{env_i}')"
   ]
  },
  {
   "cell_type": "code",
   "execution_count": 11,
   "id": "501b74e6-ad63-4ab8-89ce-fe2f7dc5724f",
   "metadata": {},
   "outputs": [
    {
     "name": "stdout",
     "output_type": "stream",
     "text": [
      "[ 0. 90.] [ 0. 45.]\n"
     ]
    },
    {
     "data": {
      "image/png": "[encoded data removed]",
      "text/plain": [
       "<Figure size 114.57x182.648 with 4 Axes>"
      ]
     },
     "metadata": {
      "needs_background": "light"
     },
     "output_type": "display_data"
    }
   ],
   "source": [
    "env_i = 2\n",
    "pca_fit, umap_fit = PCA_UMAP(g[env_i][:,module_indices])\n",
    "\n",
    "fig,axs = scatter3d(umap_fit,pca_fit[:,0],nrows=2,ncols=2,azim_elev_title=False,figsize=figsize,s=0.005,alpha=0.8)\n",
    "fig.savefig(experiment.paths['experiment'] / f'plots/torei_{selection_process_name}_{env_i}')"
   ]
  },
  {
   "cell_type": "code",
   "execution_count": null,
   "id": "aad79ee3-4713-4e58-b649-599e9c3a7f7a",
   "metadata": {},
   "outputs": [],
   "source": []
  }
 ],
 "metadata": {
  "kernelspec": {
   "display_name": "Python [conda env:ml]",
   "language": "python",
   "name": "conda-env-ml-py"
  },
  "language_info": {
   "codemirror_mode": {
    "name": "ipython",
    "version": 3
   },
   "file_extension": ".py",
   "mimetype": "text/x-python",
   "name": "python",
   "nbconvert_exporter": "python",
   "pygments_lexer": "ipython3",
   "version": "3.9.9"
  }
 },
 "nbformat": 4,
 "nbformat_minor": 5
}
